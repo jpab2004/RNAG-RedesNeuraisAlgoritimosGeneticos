{
 "cells": [
  {
   "cell_type": "markdown",
   "metadata": {},
   "source": [
    "Problema das caixas não-binárias\n",
    "================================\n",
    "\n"
   ]
  },
  {
   "cell_type": "markdown",
   "metadata": {},
   "source": [
    "## Objetivo\n",
    "\n"
   ]
  },
  {
   "cell_type": "markdown",
   "metadata": {},
   "source": [
    "Encontrar uma solução para o problema das caixas não-binárias usando um algoritmo genético. Considere 4 caixas. Considere que cada caixa pode ter um valor inteiro dentro do conjunto [0, 100].\n",
    "\n"
   ]
  },
  {
   "cell_type": "markdown",
   "metadata": {},
   "source": [
    "## Descrição do problema\n",
    "\n"
   ]
  },
  {
   "cell_type": "markdown",
   "metadata": {},
   "source": [
    "O problema das caixas não-binárias é simples: nós temos um certo número de caixas e cada uma pode conter um número inteiro. O objetivo é encontrar uma combinação de caixas onde a soma dos valores contidos dentro delas é máximo.\n",
    "\n"
   ]
  },
  {
   "cell_type": "markdown",
   "metadata": {},
   "source": [
    "## Importações\n",
    "\n"
   ]
  },
  {
   "cell_type": "code",
   "execution_count": 1,
   "metadata": {},
   "outputs": [],
   "source": [
    "from funcoes import populacao_cnb\n",
    "from funcoes import funcao_objetivo_pop_cnb as funcao_objetivo_pop\n",
    "from funcoes import selecao_roleta_max as funcao_selecao\n",
    "from funcoes import cruzamento_ponto_simples as funcao_cruzamento\n",
    "from funcoes import mutacao_cnb\n",
    "import random"
   ]
  },
  {
   "cell_type": "markdown",
   "metadata": {},
   "source": [
    "## Códigos e discussão\n",
    "\n"
   ]
  },
  {
   "cell_type": "code",
   "execution_count": 2,
   "metadata": {},
   "outputs": [],
   "source": [
    "# constantes relacionadas a busca\n",
    "\n",
    "TAMANHO_POP = 6\n",
    "NUM_GERACOES = 100000\n",
    "CHANCE_CRUZAMENTO = 0.5\n",
    "CHANCE_MUTACAO = 0.05\n",
    "\n",
    "# relacionadas ao problema a ser resolvido\n",
    "VALOR_MAX_CAIXA = 10\n",
    "NUM_GENES = 4"
   ]
  },
  {
   "cell_type": "code",
   "execution_count": 3,
   "metadata": {},
   "outputs": [],
   "source": [
    "# Funções locais\n",
    "def cria_populacao_inicial(tamanho, numero_genes):\n",
    "    return populacao_cnb(tamanho, numero_genes, VALOR_MAX_CAIXA)\n",
    "\n",
    "def funcao_mutacao(individuo):\n",
    "    return mutacao_cnb(individuo, VALOR_MAX_CAIXA)"
   ]
  },
  {
   "cell_type": "code",
   "execution_count": 4,
   "metadata": {},
   "outputs": [
    {
     "name": "stdout",
     "output_type": "stream",
     "text": [
      "População inicial:\n",
      "Indivíduo 1: [5, 10, 7, 6]\n",
      "Indivíduo 2: [2, 6, 9, 10]\n",
      "Indivíduo 3: [1, 10, 2, 1]\n",
      "Indivíduo 4: [4, 9, 0, 10]\n",
      "Indivíduo 5: [10, 3, 5, 10]\n",
      "Indivíduo 6: [3, 3, 4, 5]\n",
      "\n",
      "População final:\n",
      "Indivíduo 1: [10, 6, 10, 7]\n",
      "Indivíduo 2: [10, 6, 10, 7]\n",
      "Indivíduo 3: [10, 6, 10, 7]\n",
      "Indivíduo 4: [10, 6, 10, 7]\n",
      "Indivíduo 5: [10, 6, 10, 7]\n",
      "Indivíduo 6: [10, 6, 10, 7]\n"
     ]
    }
   ],
   "source": [
    "populacao = cria_populacao_inicial(TAMANHO_POP, NUM_GENES)\n",
    "\n",
    "print('População inicial:')\n",
    "for i, ind in enumerate(populacao):\n",
    "    print(f'Indivíduo {i+1}: {ind}')\n",
    "\n",
    "for n in range(NUM_GERACOES):    \n",
    "    \n",
    "    # Seleção\n",
    "    fitness = funcao_objetivo_pop(populacao)\n",
    "    populacao = funcao_selecao(populacao, fitness)\n",
    "    \n",
    "    # Cruzamento\n",
    "    pais = populacao[0::2]\n",
    "    maes = populacao[1::2]\n",
    "    \n",
    "    contador = 0\n",
    "    \n",
    "    for pai, mae in zip(pais, maes):\n",
    "        if random.random() <= CHANCE_CRUZAMENTO:\n",
    "            filho1, filho2 = funcao_cruzamento(pai, mae)\n",
    "            populacao[contador] = filho1\n",
    "            populacao[contador + 1] = filho2\n",
    "        \n",
    "        contador = contador + 2   \n",
    "        \n",
    "    # Mutação\n",
    "    for n in range(len(populacao)):\n",
    "        if random.random() <= CHANCE_MUTACAO:\n",
    "            individuo = populacao[n]\n",
    "            #print()\n",
    "            #print(individuo)\n",
    "            populacao[n] = funcao_mutacao(individuo)            \n",
    "            #print(populacao[n])\n",
    "            #print()\n",
    "\n",
    "print('\\nPopulação final:')\n",
    "for i, ind in enumerate(populacao):\n",
    "    print(f'Indivíduo {i+1}: {ind}')"
   ]
  },
  {
   "cell_type": "markdown",
   "metadata": {},
   "source": [
    "## Conclusão\n",
    "O problema das caixas não binárias é muito parecido com o problema das caixas binárias, por isso, sua resolução também é muito parecida, porém, com o a maior gama de possibilidades, esta tenderá a uma convergência tardia. Também é possível ver a natureza probabilística do algoritmo em jogo, que determina as combinações diferentes e as mutações acontecendo aleatoriamente pela população, seja esta uma mutação boa ou ruim para o indivíduo."
   ]
  },
  {
   "cell_type": "markdown",
   "metadata": {},
   "source": [
    "## Playground\n",
    "\n"
   ]
  },
  {
   "cell_type": "code",
   "execution_count": null,
   "metadata": {},
   "outputs": [],
   "source": []
  }
 ],
 "metadata": {
  "kernelspec": {
   "display_name": "ilumpy",
   "language": "python",
   "name": "ilumpy"
  },
  "language_info": {
   "codemirror_mode": {
    "name": "ipython",
    "version": 3
   },
   "file_extension": ".py",
   "mimetype": "text/x-python",
   "name": "python",
   "nbconvert_exporter": "python",
   "pygments_lexer": "ipython3",
   "version": "3.9.7"
  },
  "org": null
 },
 "nbformat": 4,
 "nbformat_minor": 4
}
