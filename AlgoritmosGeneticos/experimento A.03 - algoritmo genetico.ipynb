{
 "cells": [
  {
   "cell_type": "markdown",
   "metadata": {},
   "source": [
    "Algoritmo genético\n",
    "==================\n",
    "\n"
   ]
  },
  {
   "cell_type": "markdown",
   "metadata": {},
   "source": [
    "## Introdução\n",
    "\n"
   ]
  },
  {
   "cell_type": "markdown",
   "metadata": {},
   "source": [
    "`Algoritmos genéticos` são algoritmos inspirados na teoria da evolução de Darwin e são ferramentas poderosas para resolver problemas de otimização. De maneira simples, a estratégia consiste em gerar uma população inicial aleatória e através de seleção, cruzamento e mutação sucessivas, gerar populações seguintes. Se feito de maneira correta, as populações seguintes tendem a ser melhores candidatos para a solução do problema do que as populações anteriores.\n",
    "\n",
    "Um algoritmo genético pode parecer um tanto complexo, porém é possível dividi-lo em partes relativamente simples:\n",
    "\n",
    "1.  Criação da população inicial (aleatória)\n",
    "\n",
    "2.  Cálculo da função objetivo para todos os membros da população inicial e atualização do hall da fama\n",
    "\n",
    "3.  Seleção dos indivíduos (quais seguem pra próxima geração)\n",
    "\n",
    "4.  Cruzamento dos indivíduos selecionados (troca de material genético)\n",
    "\n",
    "5.  Mutação dos indivíduos da população recém-criada (possibilidade de trazer informação nova ao sistema)\n",
    "\n",
    "6.  Cálculo da função objetivo para todos os membros da população recém-criada e atualização do hall da fama\n",
    "\n",
    "7.  Checar os critérios de parada. Caso os critérios não tenham sido atendidos, retornar ao passo 3\n",
    "\n",
    "8.  Retornar para o usuário o hall da fama\n",
    "\n"
   ]
  },
  {
   "cell_type": "markdown",
   "metadata": {},
   "source": [
    "## Glossário\n",
    "\n"
   ]
  },
  {
   "cell_type": "markdown",
   "metadata": {},
   "source": [
    "-   `Indivíduo`: um candidato para a solução do problema\n",
    "\n",
    "-   `População`: um conjunto de candidatos para a solução do problema\n",
    "\n",
    "-   `Gene`: um parâmetro que pertence a um indivíduo\n",
    "\n",
    "-   `Cromossomo` ou `genótipo`: um conjunto de genes\n",
    "\n",
    "-   `Geração`: cada população em uma busca genética faz parte de uma geração. A primeira geração é geralmente formada por indivíduos aleatórios (sorteados dentro do espaço de busca). As gerações seguintes são formadas por seleção, cruzamento e mutação da geração anterior. Um dos critérios de parada possíveis para um algoritmo genético é o número máximo de gerações\n",
    "\n",
    "-   `Função de aptidão` ou `função objetivo` ou `função fitness`: uma função que recebe um indivíduo e retorna o seu valor de aptidão. Em um problema de otimização, nós buscamos encontrar soluções que minimizam ou maximizam o valor de aptidão\n",
    "\n",
    "-   `Seleção`: processo onde utilizamos o valor de aptidão dos indivíduos para selecionar quais irão passar seus genes para a geração seguinte\n",
    "\n",
    "-   `Cruzamento`: processo onde o material genético de indivíduos selecionados é misturado\n",
    "\n",
    "-   `Mutação`: processo onde os genes dos indivíduos selecionados têm uma chance de alterar seu valor. A mutação é o único processo capaz de introduzir informação nova ao pool genético após o sorteio aleatório da primeira geração\n",
    "\n",
    "-   `Hall da fama`: conjunto dos $n$ indivíduos que obtiveram os melhores valores de aptidão durante o processo de busca\n",
    "\n"
   ]
  },
  {
   "cell_type": "markdown",
   "metadata": {},
   "source": [
    "## Reflexões\n",
    "\n"
   ]
  },
  {
   "cell_type": "markdown",
   "metadata": {},
   "source": [
    "Você diria que o algoritmo genético é determinístico ou probabilístico?\n",
    "\n",
    "Será que um algoritmo genético é capaz de encontrar mínimos (ou máximos) da função objetivo?\n",
    "\n",
    "O que será que acontece quando não realizamos a etapa de mutação do algoritmo genético?\n",
    "\n",
    "O que será que acontece quando usamos uma chance de mutação muito alta?\n",
    "\n"
   ]
  },
  {
   "cell_type": "markdown",
   "metadata": {},
   "source": [
    "## Objetivo\n",
    "\n"
   ]
  },
  {
   "cell_type": "markdown",
   "metadata": {},
   "source": [
    "Encontrar uma solução para o problema das caixas binárias usando o algoritmo genético. Considere 4 caixas.\n",
    "\n"
   ]
  },
  {
   "cell_type": "markdown",
   "metadata": {},
   "source": [
    "## Descrição do problema\n",
    "\n"
   ]
  },
  {
   "cell_type": "markdown",
   "metadata": {},
   "source": [
    "O problema das caixas binárias é simples: nós temos um certo número de caixas e cada uma pode conter um valor do conjunto $\\{0, 1\\}$. O objetivo é encontrar uma combinação de caixas onde a soma dos valores contidos dentro delas é máximo.\n",
    "\n"
   ]
  },
  {
   "cell_type": "markdown",
   "metadata": {},
   "source": [
    "## Importações\n",
    "\n"
   ]
  },
  {
   "cell_type": "code",
   "execution_count": 1,
   "metadata": {},
   "outputs": [],
   "source": [
    "from funcoes import populacao_cb as cria_populacao_inicial\n",
    "from funcoes import funcao_objetivo_pop_cb as funcao_objetivo_pop\n",
    "from funcoes import selecao_roleta_max as funcao_selecao\n",
    "from funcoes import cruzamento_ponto_simples as funcao_cruzamento\n",
    "from funcoes import mutacao_cb as funcao_mutacao\n",
    "import random"
   ]
  },
  {
   "cell_type": "markdown",
   "metadata": {},
   "source": [
    "## Códigos e discussão\n",
    "\n"
   ]
  },
  {
   "cell_type": "code",
   "execution_count": 2,
   "metadata": {},
   "outputs": [],
   "source": [
    "# Constantes\n",
    "\n",
    "TAMANHO_POP = 6\n",
    "NUM_GENES = 4\n",
    "NUM_GERACOES = 1000\n",
    "CHANCE_DE_CRUZAMENTO = .5\n",
    "CHANCE_MUTACAO = .05"
   ]
  },
  {
   "cell_type": "code",
   "execution_count": 3,
   "metadata": {},
   "outputs": [
    {
     "name": "stdout",
     "output_type": "stream",
     "text": [
      "População inicial:\n",
      "Indivíduo 1: [1, 0, 1, 1]\n",
      "Indivíduo 2: [0, 0, 0, 0]\n",
      "Indivíduo 3: [0, 0, 0, 0]\n",
      "Indivíduo 4: [0, 1, 0, 0]\n",
      "Indivíduo 5: [1, 0, 1, 1]\n",
      "Indivíduo 6: [1, 0, 1, 0]\n",
      "\n",
      "População final:\n",
      "Indivíduo 1: [1, 0, 1, 1]\n",
      "Indivíduo 2: [1, 1, 1, 1]\n",
      "Indivíduo 3: [1, 0, 1, 1]\n",
      "Indivíduo 4: [1, 0, 1, 1]\n",
      "Indivíduo 5: [1, 0, 1, 1]\n",
      "Indivíduo 6: [1, 0, 1, 1]\n"
     ]
    }
   ],
   "source": [
    "populacao = cria_populacao_inicial(TAMANHO_POP, NUM_GENES)\n",
    "\n",
    "print('População inicial:')\n",
    "for i, ind in enumerate(populacao):\n",
    "    print(f'Indivíduo {i+1}: {ind}')\n",
    "\n",
    "for _ in range(NUM_GERACOES):\n",
    "    fitness = funcao_objetivo_pop(populacao)\n",
    "    populacao = funcao_selecao(populacao, fitness)\n",
    "    \n",
    "    pais = populacao[0::2]\n",
    "    maes = populacao[1::2]\n",
    "    contador = 0\n",
    "    for pai, mae in zip(pais, maes):\n",
    "        if random.random() <= CHANCE_DE_CRUZAMENTO:\n",
    "            filho1, filho2 = funcao_cruzamento(pai, mae)\n",
    "            populacao[contador] = filho1\n",
    "            populacao[contador+1] = filho2\n",
    "        \n",
    "        contador += 2\n",
    "    \n",
    "    for i, individuo in enumerate(populacao):\n",
    "        if random.random() <= CHANCE_MUTACAO:\n",
    "            #print(f'\\nIndividuo original: {individuo}')\n",
    "            populacao[i] = funcao_mutacao(individuo)\n",
    "            #print(f'Individuo mutado: {populacao[i]}')\n",
    "\n",
    "print()\n",
    "print('População final:')\n",
    "for i, ind in enumerate(populacao):\n",
    "    print(f'Indivíduo {i+1}: {ind}')"
   ]
  },
  {
   "cell_type": "markdown",
   "metadata": {},
   "source": [
    "## Conclusão\n",
    "O objetivo do notebook era utilizar um algoritmo genético feito a mão pelos alunos em conjunto com o professor para resolver o problema das caixas binárias. Deste modo, foi feita uma sequência de funções com o objetivo de separar as diferentes partes do problema para facilitar sua resolução. Com o preparo dessas funções e com sua utilização, foi feito um algoritmo que pode ser capaz de resolver o problema, porém, por se tratar de um algoritmo puramente probabilistico, existe uma chance de ser encontrado a solução para o problema, não sendo garantido este encontro. De modo geral, o notebook conseguiu alcançar este objetivo e foi, após uma série de tentativas, encontrada a soluação para o problema.\n",
    "\n",
    "### Você diria que o algoritmo genético é determinístico ou probabilístico?\n",
    "O algoritmo genético é probabilistico, pois o crescimento e desenvolvimento de cada uma das populações é dada de maneira probabilistica, sendo necessária várias etapas de calculos com resultados não determinístico, como por exemplo o cruzamento entre indivíduos para criação de novos indivíduos e a probabilidade de uma mutação aleatória para aumentar a diversidade genética da população.\n",
    "\n",
    "### Será que um algoritmo genético é capaz de encontrar mínimos (ou máximos) da função objetivo?\n",
    "Ao se utilizar um algoritmo genético é possível encontrar os mínimos e máximos de uma função, sendo necessária a iteração de várias das etapas do processo, e caso seja feito de maneira certa, o aloritmo é capaz de chegar cada vez mais perto aos máximos (ou mínimos) da função, globais ou não.\n",
    "\n",
    "### O que será que acontece quando não realizamos a etapa de mutação do algoritmo genético?\n",
    "O que pode acontecer é uma tendência de todos os indivíduos tenderem à um máximo (ou mínimo) local, podendo este ser global ou não. Isto demonstraria uma baixa variabilidade genética dentro da população, oque poderá dificultar a procura de pontos interessantes da função objetivo e ao mesmo limitando a busca do algoritmo dentro espaço de busca.\n",
    "\n",
    "### O que será que acontece quando usamos uma chance de mutação muito alta?\n",
    "O que pode acontecer a não cuminação da população para nenhum ponto em comum, pois quando se aumenta muito a probabilidade de mutação dos indivíduos, a tendencia será uma grande variabilidade genética dentro da população, não resultando na tendencia a um ponto em comum, mas para a dispersão da população dentro do espaço de busca e consequentemente da função objetivo."
   ]
  },
  {
   "cell_type": "markdown",
   "metadata": {},
   "source": [
    "## Playground\n",
    "\n"
   ]
  },
  {
   "cell_type": "code",
   "execution_count": null,
   "metadata": {},
   "outputs": [],
   "source": []
  }
 ],
 "metadata": {
  "kernelspec": {
   "display_name": "ilumpy",
   "language": "python",
   "name": "ilumpy"
  },
  "language_info": {
   "codemirror_mode": {
    "name": "ipython",
    "version": 3
   },
   "file_extension": ".py",
   "mimetype": "text/x-python",
   "name": "python",
   "nbconvert_exporter": "python",
   "pygments_lexer": "ipython3",
   "version": "3.9.7"
  },
  "org": null
 },
 "nbformat": 4,
 "nbformat_minor": 4
}
