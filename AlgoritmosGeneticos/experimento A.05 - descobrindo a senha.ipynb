{
 "cells": [
  {
   "cell_type": "markdown",
   "metadata": {},
   "source": [
    "Descobrindo a senha\n",
    "===================\n",
    "\n"
   ]
  },
  {
   "cell_type": "markdown",
   "metadata": {},
   "source": [
    "## Objetivo\n",
    "\n"
   ]
  },
  {
   "cell_type": "markdown",
   "metadata": {},
   "source": [
    "Usar um algoritmo genético para descobrir uma senha.\n",
    "\n"
   ]
  },
  {
   "cell_type": "markdown",
   "metadata": {},
   "source": [
    "## Descrição do problema\n",
    "\n"
   ]
  },
  {
   "cell_type": "markdown",
   "metadata": {},
   "source": [
    "Neste problema, a função objetivo deve saber a senha correta e quantificar de alguma maneira o quão perto ou longe os palpites estão da solução (veja que isso é algo que não temos no mundo real. Nenhum site irá te dizer se você está acertando ou errando seu palpite). O critério de parada deste problema é quando a senha for descoberta.\n",
    "\n"
   ]
  },
  {
   "cell_type": "markdown",
   "metadata": {},
   "source": [
    "## Importações\n",
    "\n"
   ]
  },
  {
   "cell_type": "code",
   "execution_count": 1,
   "metadata": {},
   "outputs": [],
   "source": [
    "from funcoes import populacao_inicial_senha\n",
    "from funcoes import funcao_objetivo_pop_senha\n",
    "from funcoes import selecao_torneio_min\n",
    "from funcoes import cruzamento_ponto_simples as funcao_cruzamento\n",
    "from funcoes import mutacao_senha\n",
    "import random"
   ]
  },
  {
   "cell_type": "markdown",
   "metadata": {},
   "source": [
    "## Códigos e discussão\n",
    "\n"
   ]
  },
  {
   "cell_type": "code",
   "execution_count": 2,
   "metadata": {},
   "outputs": [],
   "source": [
    "### CONSTANTES\n",
    "\n",
    "# relacionadas à busca\n",
    "TAMANHO_POP = 50\n",
    "CHANCE_CRUZAMENTO = 0.5\n",
    "CHANCE_MUTACAO = 0.05\n",
    "NUM_COMBATENTES_NO_TORNEIO = 3\n",
    "\n",
    "# relacionadas ao problema a ser resulvido\n",
    "SENHA = \"TeNtA AcErTaR EsSa SeHhA AqUi 3000\"\n",
    "LETRAS_POSSIVEIS = \"ABCDEFGHIJKLMNOPQRSTUVWXYZabcdefghijklmnopqrstuvwxyz0123456789 \"\n",
    "NUM_GENES = len(SENHA)"
   ]
  },
  {
   "cell_type": "code",
   "execution_count": 3,
   "metadata": {},
   "outputs": [],
   "source": [
    "# funções locais\n",
    "\n",
    "def cria_populacao_inicial(tamanho, tamanho_senha):\n",
    "    return populacao_inicial_senha(tamanho, tamanho_senha, LETRAS_POSSIVEIS)\n",
    "\n",
    "def funcao_objetivo_pop(populacao):\n",
    "    return funcao_objetivo_pop_senha(populacao, SENHA)\n",
    "\n",
    "def funcao_selecao(populacao, fitness):\n",
    "    return selecao_torneio_min(populacao, fitness, NUM_COMBATENTES_NO_TORNEIO)\n",
    "\n",
    "def funcao_mutacao(individuo):\n",
    "    return mutacao_senha(individuo, LETRAS_POSSIVEIS)"
   ]
  },
  {
   "cell_type": "code",
   "execution_count": 6,
   "metadata": {},
   "outputs": [
    {
     "name": "stdout",
     "output_type": "stream",
     "text": [
      "Progresso da melhor senha já vista:\n",
      "Qd5p9ACocOYoj0SbNYkles7NjXZkZ2JdP1 - fitness: 744\n",
      "aw2f5dhYKqGkG82mVEaucNfSeXZkZ2JdP1 - fitness: 728\n",
      "Qd5p9ACoOJbaF1gXklVEnih1hmskZ2JdP1 - fitness: 684\n",
      "Qd5p9ACoOJbaF1gXklVEnih1hXkPZ2JdP1 - fitness: 650\n",
      "Qd5p9ACoOJbaF82mVEaucNfSeXZkZ2JdP1 - fitness: 649\n",
      "JfYe4P3sSr7YB82mVEaucNfSeXkPZ2JdP1 - fitness: 646\n",
      "Qd5p9ACoOJbaS82mVEaucNfSeXkPZ2JdP1 - fitness: 604\n",
      "Jd5p9ACoOJbaF82mVEaLcNfSeXkPZ2JdP1 - fitness: 595\n",
      "Qd5p9ACoOJbaF82mVEaLcNfSeXkPZ2JdP1 - fitness: 588\n",
      "QdYp9ACoOJbaF82mVEaLcNfSeXkPZ2JdP1 - fitness: 574\n",
      "JfYp9ACsSrbaS82mVEaucNfSeXkPZ2JdP1 - fitness: 565\n",
      "JfYp9ACsSrbaS82mVEaLcNfSeXkPZ2JdP1 - fitness: 538\n",
      "JfYp9ACoSrbaS82mVEaLcNfSeXkPZ2JdP1 - fitness: 534\n",
      "JfYp9ACoSrbaS82mVEaLcNfSeXkPZ2Jd11 - fitness: 503\n",
      "JfYp9ACoHrbaS82mVEaLcNfSeXkPZ2Jd11 - fitness: 492\n",
      "JfYp9ACoSrbaS82mVdaLcNfSeXkPZ2Jd11 - fitness: 478\n",
      "JfYp9ACoHrbaS82mVdaLcNfSeXkPZ2Jd11 - fitness: 467\n",
      "JfYp9ACoHrbaS82mVdTLcNfSeXkPZ2Jd11 - fitness: 454\n",
      "JfYp9ACoCrbaS82mVdTLcNfSeXkPZ2Jd11 - fitness: 453\n",
      "JfYp9ACoSrbaS82mVdTLcNfS5XkPZ2Jd11 - fitness: 417\n",
      "JfYp9ACoHrbaS82mVdTLcNfS5XkPZ2Jd11 - fitness: 406\n",
      "JfYp9ACoSrbaS8ImVdTLcNfS5XkPZ2Jd11 - fitness: 402\n",
      "JfYp9ACoHrbaS8ImVdTLcNfS5XkPZ2Jd11 - fitness: 391\n",
      "JfYp9ACoHrbaS8ImVdGLcNfS5XkPZ2Jd11 - fitness: 378\n",
      "JfYp9ACoHrbaS8ImVdGLcNfS5XkPm2Jd11 - fitness: 367\n",
      "JfYp9ACoHrbaS8GmVdGLcNfS5XkPm2Jd11 - fitness: 365\n",
      "JfYp9ACoHrYaS8ImVdGLcNfS5XkPm2Jd11 - fitness: 358\n",
      "JfYp9ACoHrYaS8ImVdGLcNfS51kPm2Jd11 - fitness: 351\n",
      "JfYp9ACaHrbaS8GmVdGLcNfS51kPm2Jd11 - fitness: 348\n",
      "JfYp9ACaHrYaS8GmVdGLcNfS51kPm2Jd11 - fitness: 339\n",
      "JfYp9ACaHrbaS8GmVd4LcNfS51kPm2Jd11 - fitness: 329\n",
      "JfYp9ACaHrYaS8GmVd4LcNfS51kPm2Jd11 - fitness: 320\n",
      "LfYp9ACaHrYaS8GmVd4LcNfS51kPm2Jd11 - fitness: 318\n",
      "LfYp9ACaHrYaS8GmUd4LcNfS51kPm2Jd11 - fitness: 317\n",
      "JfYp9ACaHrYaS8GmUd4LcNfS5BkPm2Jd11 - fitness: 304\n",
      "LfYp9ACaHrYaS8GmUd4LcNfS51kPm2JA11 - fitness: 282\n",
      "JfYp9ACaHrYaS8GqUd4LcNfS51kPm2JA11 - fitness: 280\n",
      "JfYp99CaHrYaS8GqUd4LcNfS51kPm2JA11 - fitness: 272\n",
      "LfYp99CaHrYaS8GqUd4LcNfS51kPm2JA11 - fitness: 270\n",
      "JfYp99CaHrYaS8GqUd4LcNfS51kPm2GA11 - fitness: 269\n",
      "LfYp99CaHrYaS8GqUd4LcNfS51kPm2GA11 - fitness: 267\n",
      "LfYp99CaHrYaS8GqUd4LcNfS31kPm2GA11 - fitness: 265\n",
      "LfYp97CaHrYaS8GqUd4LcNfS31kPm2GA11 - fitness: 263\n",
      "LfYp99CaHrYaS8GqUd4LcNfI31kPm2GA11 - fitness: 255\n",
      "LfYp97CaHrYaS8GqUd4LcNfI31kPm2GA11 - fitness: 253\n",
      "LfYp90CaHrYaS8GqUd4LcNfI31kPm2GA11 - fitness: 246\n",
      "LfYp90CaHrYaS8GqUd4LcNfI31kPm25A11 - fitness: 228\n",
      "LfYp90CaHrTaS8GqUd4LcNfI31kPm25A11 - fitness: 223\n",
      "LfYpA0CaHrYaS8GqUd4LcNfI31kPm25A11 - fitness: 220\n",
      "LfYpA0CaHrTaS8GqUd4LcNfI31kPm25A11 - fitness: 215\n",
      "LfYpA0CaHrTaS8GqUd4LcNfI31kPj25A11 - fitness: 212\n",
      "LfYpA0CaHrTaS8GqUd3LcNfI31kPj25A11 - fitness: 211\n",
      "SfYpA0CaHrTaS8GqUd4LcNfI31kPj25A11 - fitness: 205\n",
      "SfYpA0CaHrTaS8GqUd4LcDfI31kPj25A11 - fitness: 203\n",
      "SfYpA0CaHrTaS8GqUd3LcDfI31kPj25A11 - fitness: 202\n",
      "SfYpA0CaHrTaS8GqUd3LcDfI31kPi25A11 - fitness: 201\n",
      "SfYpA0CaHrTaS8GqUd3LcDfI31kPi15A11 - fitness: 200\n",
      "SfYpA0CaHrTaS8GqUd3LcDfI3DkPi25A11 - fitness: 188\n",
      "SfYpA0CaHrTaS8GqUd1LcDfI3DkPi25A11 - fitness: 186\n",
      "SfYpA0CaHrTaS8GqUd1LcDfI3DkPi15A11 - fitness: 185\n",
      "SfYtA0CaHrTaS8GqUd1LcDfI3DkPi15A11 - fitness: 181\n",
      "SfYtA0CaHrTaS8GqUd1RcDfI3DkPi15A11 - fitness: 175\n",
      "SfYtA0CaHrTaS8GqUd1RcJfI3DkPi15A11 - fitness: 173\n",
      "SfKtA0CaHrTaS8GqUd1RcJfI3DkPi15A11 - fitness: 165\n",
      "SfFtA0CaHrTaS8GqUd1RcJfI3DsVi15A11 - fitness: 162\n",
      "SfFtA0CaHrTaR8GqUd1RcJfI3DsVi15A11 - fitness: 161\n",
      "SfFtA0CaHrTaR0GqUd1RcJfI3DsVi15A11 - fitness: 153\n",
      "SfMtA0CaHrTaR0GqUd1RcJfI3DsVi15A11 - fitness: 146\n",
      "SfMtA CaHrTaR0GqUd1RcJfI3DsVi15A11 - fitness: 130\n",
      "SfMtA CaHrTaR0GqUd1RcJfI3DsVi 5A11 - fitness: 113\n",
      "SfMtA CaHrTaR0GqUd1RcJfI3DsVi 5211 - fitness: 98\n",
      "SfMtA CcHrTaR0GqUd1RcJfI3DsVi 5211 - fitness: 96\n",
      "SfMtA CcHrTaR0GqUd1RcJfE3DsVi 5211 - fitness: 92\n",
      "SfMtA CcHrTaR0GqUd1RcJfE3DsVi 4211 - fitness: 91\n",
      "SfMtA CcHrTaR0GqUd1RcJfE3DsVi 3211 - fitness: 90\n",
      "SfMtA CcHrTaR0GqUd1RcJfB3DsVi 3211 - fitness: 87\n",
      "SfMtA CcHrTaR0GqUd1RcJfB3DqVi 3211 - fitness: 85\n",
      "SfMtA CcHrTaR0GqUd1RcJfB3DqUi 3211 - fitness: 84\n",
      "SeMtA CcHrTaR0GqUd1RcJfB3DqUi 3211 - fitness: 83\n",
      "SeMtA CcHrTaR0GqUd1RcJfB1DqUi 3211 - fitness: 81\n",
      "SeMtA CcHrTaR0GqUd1RdJfB1DqUi 3211 - fitness: 80\n",
      "SeMtA CcFrTaR0GqUd1RdJfB1DqUi 3211 - fitness: 78\n",
      "SeMtA CcFrTaR0GqUd1RdJfB1AqUi 3211 - fitness: 75\n",
      "SeMtA CcFrTaR0GqUd1RdJfB1AqUi 3201 - fitness: 74\n",
      "SeMtA CcFrTaR0GqUa1RdJfB1AqUi 3201 - fitness: 71\n",
      "SeNtA CcFrTaR0GqUa1RdJfB1AqUi 3201 - fitness: 70\n",
      "SeNtA CcFrTaR0GqRa1RdJfB1AqUi 3201 - fitness: 69\n",
      "SeNtA CcFrTaR0GqUa1RdIfB1AqUi 3200 - fitness: 68\n",
      "SeNtA CcFrTaR0DqUa1RdIfB1AqUi 3200 - fitness: 67\n",
      "SeNtA CcFrTaR0GqUa1RdIfB AqUi 3200 - fitness: 51\n",
      "SeNtA CcFrTaR0GsUa1RdIfB AqUi 3200 - fitness: 49\n",
      "SeNtA CcFrTaR0GsUa1RdIiB AqUi 3200 - fitness: 48\n",
      "SeNtA CcFrTaR0GsUa RdIiB AqUi 3200 - fitness: 31\n",
      "SeNtA CcFrTaR GsUa RdIiB AqUi 3200 - fitness: 15\n",
      "SeNtA CcFrTaR EsUa RdIiB AqUi 3200 - fitness: 13\n",
      "SeNtA CcErTaR EsUa RdIiB AqUi 3200 - fitness: 12\n",
      "TeNtA CcErTaR EsUa RdIiB AqUi 3200 - fitness: 11\n",
      "TeNtA CcErTaR EsUa RdIiB AqUi 3100 - fitness: 10\n",
      "TeNtA CcErTaR EsTa RdIiB AqUi 3100 - fitness: 9\n",
      "TeNtA CcErTaR EsTa RdIhB AqUi 3100 - fitness: 8\n",
      "TeNtA CcErTaR EsSa RdIhB AqUi 3100 - fitness: 7\n",
      "TeNtA CcErTaR EsSa RdHhB AqUi 3100 - fitness: 6\n",
      "TeNtA CcErTaR EsSa RdHhB AqUi 3000 - fitness: 5\n",
      "TeNtA AcErTaR EsSa RdHhB AqUi 3000 - fitness: 3\n",
      "TeNtA AcErTaR EsSa SdHhB AqUi 3000 - fitness: 2\n",
      "TeNtA AcErTaR EsSa SeHhB AqUi 3000 - fitness: 1\n",
      "TeNtA AcErTaR EsSa SeHhA AqUi 3000 - fitness: 0\n",
      "\n",
      "Melhor palpite da senha encontrado:\n",
      "TeNtA AcErTaR EsSa SeHhA AqUi 3000\n"
     ]
    }
   ],
   "source": [
    "populacao = cria_populacao_inicial(TAMANHO_POP, NUM_GENES)\n",
    "\n",
    "melhor_fitness_ja_visto = float(\"inf\")  # é assim que escrevemos infinito em python\n",
    "\n",
    "print(\"Progresso da melhor senha já vista:\")\n",
    "\n",
    "while melhor_fitness_ja_visto != 0:    \n",
    "    \n",
    "    # Seleção\n",
    "    fitness = funcao_objetivo_pop(populacao)\n",
    "    populacao = funcao_selecao(populacao, fitness)\n",
    "    \n",
    "    # Cruzamento\n",
    "    pais = populacao[0::2]\n",
    "    maes = populacao[1::2]\n",
    "    \n",
    "    contador = 0\n",
    "    \n",
    "    for pai, mae in zip(pais, maes):\n",
    "        if random.random() <= CHANCE_CRUZAMENTO:\n",
    "            filho1, filho2 = funcao_cruzamento(pai, mae)\n",
    "            populacao[contador] = filho1\n",
    "            populacao[contador + 1] = filho2\n",
    "        \n",
    "        contador = contador + 2   \n",
    "        \n",
    "    # Mutação\n",
    "    for n in range(len(populacao)):\n",
    "        if random.random() <= CHANCE_MUTACAO:\n",
    "            individuo = populacao[n]\n",
    "            populacao[n] = funcao_mutacao(individuo)            \n",
    "            \n",
    "    # melhor individuo já visto até agora\n",
    "    fitness = funcao_objetivo_pop(populacao)\n",
    "    menor_fitness = min(fitness)\n",
    "    if menor_fitness < melhor_fitness_ja_visto:        \n",
    "        posicao = fitness.index(menor_fitness)\n",
    "        melhor_individuo_ja_visto = populacao[posicao]\n",
    "        melhor_fitness_ja_visto = menor_fitness\n",
    "        print(\"\".join(melhor_individuo_ja_visto), \"- fitness:\", melhor_fitness_ja_visto)\n",
    "\n",
    "print()\n",
    "print(\"Melhor palpite da senha encontrado:\")\n",
    "print(\"\".join(melhor_individuo_ja_visto))"
   ]
  },
  {
   "cell_type": "markdown",
   "metadata": {},
   "source": [
    "## Conclusão\n",
    "\n",
    "Com o algoritimo utilizado, foi possível resolver o problema da senha, onde o algoritmo deveria encontrar uma senha específica. Este problema é um ótimo jeito de ver a natureza mutável e totalmente customizável dos algoritmos genéticos, já que é possível resolver este problema de diferentes formas, como por exemplo considerar a distâncias entre palavras para todas as letras, não apenas letra por letra, isso ajudaria o código a convergir para uma solução mais rapidamente. Porém, este algoritmo seria mais complexo e mais dificil de ser implementado. De modo geral, este problema demonstra muitas diferenciações possíveis que podem ser feitas para resolver-lo de outros jeitos, sendo eles mais simples ou mais complexos, mais rápidos ou mais lentos, o único objetivo em comum entre todos os algoritmos desenvolvidos para este problema, será a ideia de convergir para um senha definida, ou seja, encontrar a senha passada, seja o método implementado que for."
   ]
  },
  {
   "cell_type": "markdown",
   "metadata": {},
   "source": [
    "## Playground\n",
    "\n"
   ]
  },
  {
   "cell_type": "markdown",
   "metadata": {},
   "source": [
    "Maneira diferente de 'unzipar' listas que estejam com o zip, como por exemplo na funcao do torneio"
   ]
  },
  {
   "cell_type": "code",
   "execution_count": 5,
   "metadata": {},
   "outputs": [
    {
     "name": "stdout",
     "output_type": "stream",
     "text": [
      "a 1\n",
      "b 2\n",
      "c 3\n"
     ]
    }
   ],
   "source": [
    "lista1 = ['a', 'b', 'c']\n",
    "lista2 = [1,2,3]\n",
    "\n",
    "lista12 = list(zip(lista1, lista2))\n",
    "\n",
    "for i, j in lista12:\n",
    "    print(i, j)"
   ]
  },
  {
   "cell_type": "code",
   "execution_count": null,
   "metadata": {},
   "outputs": [],
   "source": []
  }
 ],
 "metadata": {
  "kernelspec": {
   "display_name": "ilumpy",
   "language": "python",
   "name": "ilumpy"
  },
  "language_info": {
   "codemirror_mode": {
    "name": "ipython",
    "version": 3
   },
   "file_extension": ".py",
   "mimetype": "text/x-python",
   "name": "python",
   "nbconvert_exporter": "python",
   "pygments_lexer": "ipython3",
   "version": "3.9.7"
  },
  "org": null
 },
 "nbformat": 4,
 "nbformat_minor": 4
}
