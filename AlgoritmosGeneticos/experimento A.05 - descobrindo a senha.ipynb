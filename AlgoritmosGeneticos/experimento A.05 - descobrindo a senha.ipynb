{
 "cells": [
  {
   "cell_type": "markdown",
   "metadata": {},
   "source": [
    "Descobrindo a senha\n",
    "===================\n",
    "\n"
   ]
  },
  {
   "cell_type": "markdown",
   "metadata": {},
   "source": [
    "## Objetivo\n",
    "\n"
   ]
  },
  {
   "cell_type": "markdown",
   "metadata": {},
   "source": [
    "Usar um algoritmo genético para descobrir uma senha.\n",
    "\n"
   ]
  },
  {
   "cell_type": "markdown",
   "metadata": {},
   "source": [
    "## Descrição do problema\n",
    "\n"
   ]
  },
  {
   "cell_type": "markdown",
   "metadata": {},
   "source": [
    "Neste problema, a função objetivo deve saber a senha correta e quantificar de alguma maneira o quão perto ou longe os palpites estão da solução (veja que isso é algo que não temos no mundo real. Nenhum site irá te dizer se você está acertando ou errando seu palpite). O critério de parada deste problema é quando a senha for descoberta.\n",
    "\n"
   ]
  },
  {
   "cell_type": "markdown",
   "metadata": {},
   "source": [
    "## Importações\n",
    "\n"
   ]
  },
  {
   "cell_type": "code",
   "execution_count": 1,
   "metadata": {},
   "outputs": [],
   "source": [
    "from funcoes import populacao_inicial_senha\n",
    "from funcoes import funcao_objetivo_pop_senha\n",
    "from funcoes import selecao_torneio_min\n",
    "from funcoes import cruzamento_ponto_simples as funcao_cruzamento\n",
    "from funcoes import mutacao_senha\n",
    "import random"
   ]
  },
  {
   "cell_type": "markdown",
   "metadata": {},
   "source": [
    "## Códigos e discussão\n",
    "\n"
   ]
  },
  {
   "cell_type": "code",
   "execution_count": 2,
   "metadata": {},
   "outputs": [],
   "source": [
    "### CONSTANTES\n",
    "\n",
    "# relacionadas à busca\n",
    "TAMANHO_POP = 50\n",
    "CHANCE_CRUZAMENTO = 0.5\n",
    "CHANCE_MUTACAO = 0.05\n",
    "NUM_COMBATENTES_NO_TORNEIO = 3\n",
    "\n",
    "# relacionadas ao problema a ser resulvido\n",
    "SENHA = \"TeNtA AcErTaR EsSa SeHhA AqUi 3000\"\n",
    "LETRAS_POSSIVEIS = \"ABCDEFGHIJKLMNOPQRSTUVWXYZabcdefghijklmnopqrstuvwxyz0123456789 \"\n",
    "NUM_GENES = len(SENHA)"
   ]
  },
  {
   "cell_type": "code",
   "execution_count": 3,
   "metadata": {},
   "outputs": [],
   "source": [
    "# funções locais\n",
    "\n",
    "def cria_populacao_inicial(tamanho, tamanho_senha):\n",
    "    return populacao_inicial_senha(tamanho, tamanho_senha, LETRAS_POSSIVEIS)\n",
    "\n",
    "def funcao_objetivo_pop(populacao):\n",
    "    return funcao_objetivo_pop_senha(populacao, SENHA)\n",
    "\n",
    "def funcao_selecao(populacao, fitness):\n",
    "    return selecao_torneio_min(populacao, fitness, NUM_COMBATENTES_NO_TORNEIO)\n",
    "\n",
    "def funcao_mutacao(individuo):\n",
    "    return mutacao_senha(individuo, LETRAS_POSSIVEIS)"
   ]
  },
  {
   "cell_type": "code",
   "execution_count": 4,
   "metadata": {},
   "outputs": [
    {
     "name": "stdout",
     "output_type": "stream",
     "text": [
      "Progresso da melhor senha já vista:\n",
      "vGeB MBb8XqrX3ZLhHP0n7ZZ co8T15M4X - fitness: 759\n",
      "HTavCWbniXqrX3ZLhHP0n7ZZ co8T15M4X - fitness: 716\n",
      "KGCtJD2fZImSd3ZLhHP0n7ZZ co8T15SQ  - fitness: 694\n",
      "HTavCWbniXqrX3ZLIOAKukZZ co8T15M4X - fitness: 681\n",
      "KGCtJD2fZImSX3ZLIOAKukZZ co8T15M4X - fitness: 636\n",
      "HTavCD2fZXqrX3ZLIOAKukZZ co8T15M4X - fitness: 621\n",
      "HTavCD2fZXqrX3ZLIOAKukZZ co8TB5M46 - fitness: 604\n",
      "HTavCD2fZuIrX3ZLIOAKukZZ co8T15M4X - fitness: 580\n",
      "HTavCD2pZuqrX3ZLIOAKukZZ co8T15M46 - fitness: 574\n",
      "KTavCD2fZuIrX3ZLIOAKukZZ co8TB5M46 - fitness: 560\n",
      "HTavCD2fZuIrX3ZLIOAKukZZ co8T15M46 - fitness: 546\n",
      "KTavCD2fZuIrX3ZLIOAKukZZ co8T15M46 - fitness: 543\n",
      "KTavCD2fZuIrX3ILIOAKukZZ co8T15M46 - fitness: 526\n",
      "KTavCD2fEuIrX3ILIOAKukZZ co8T15M46 - fitness: 505\n",
      "KTavCD2fEuIrX3ILIOAKukZZ co8j15M46 - fitness: 485\n",
      "KTavCD2fEuIgX3ILIOAKukZZ co8j15M46 - fitness: 474\n",
      "KTavCD2fEuIgX3ILIO6KukZZ co8j15M46 - fitness: 463\n",
      "KTavCD2fEuIgX3ILIO6KukZW co8j15M46 - fitness: 460\n",
      "KTavCD2fEuIeX3ILIO6KuGZZ co8j15M46 - fitness: 427\n",
      "KTavCD2fEuIeX3ILIO6KuGZZ Co8j15b46 - fitness: 416\n",
      "KAavCD2fEuIeX3ILIO6KuGZZ Co8j15M46 - fitness: 414\n",
      "KTavCD2fEuIeX3ILIO6KuGZZ Co8j15M46 - fitness: 395\n",
      "KTavCD2fEuIeX3ILIO6KZGZZ Co8j15M46 - fitness: 390\n",
      "KTOvCD2fEuIeX3ILIO6KZGZZ Co8j15M46 - fitness: 372\n",
      "KTavCD2fEuIeX3IeIO6KZGZZ Co8j15M46 - fitness: 365\n",
      "KTOvCD2fEuIeX3IeIO6KZGZZ Co8j15M46 - fitness: 347\n",
      "KpOvCD2fEuIeX3IeIO6KZGZZ Co8j15M46 - fitness: 341\n",
      "KTOvCD2fEuIeX3IeIO6KZGZZ Codj15M46 - fitness: 333\n",
      "KpOvCD2fEuIeX3IeIO6KZGZZ Codj15M46 - fitness: 327\n",
      "KpOvCD2fEuIeX3IeYO6KZGZZ Codj15M46 - fitness: 323\n",
      "KpOvCD2dEuIeX3IeYO6KZGZZ Codj15M46 - fitness: 321\n",
      "KpOvCD2dEuIeX3IeYO6KZGiZ Codj15M46 - fitness: 308\n",
      "KpOvCD2dEuIeX3IeYO6KdGiZ Codj15M46 - fitness: 298\n",
      "ZpOvCD2dEuIeX3IeYO6KdGiZ Codj15M46 - fitness: 295\n",
      "ZpOvCD2dEuWeX3IeYO6KdGiZ Codj15M46 - fitness: 287\n",
      "ZpOvCD2dEuIeX3IeYO6KdGiZ Codj15346 - fitness: 269\n",
      "ZpOvCD2dEuWeX3IeYO6KdGiZ Codj15346 - fitness: 261\n",
      "ZpOvCD2dEuIeX3IoYO6KdGiZ Codj15346 - fitness: 259\n",
      "ZpOvCD2dEuWeX3IoYO6KdGiZ Codj15346 - fitness: 251\n",
      "ZpOvCD2dEuWeX3IoYO6KeGiZ Codj15346 - fitness: 250\n",
      "ZpOvCD2dEuWeX3IoYO6KeGiZ CoSj15346 - fitness: 237\n",
      "ZpOvCD2dEuWeX3IoYO6KeGiG CoSj15346 - fitness: 218\n",
      "ZpOvCD2dEuWeX3IoPO6KeGiG CoSj15346 - fitness: 215\n",
      "ZpOvCD2dEuWeX3IoPO6KeGiG CoSj15246 - fitness: 214\n",
      "SpOvCD2dEuWeX3IoYO6KeGiG CoSj15346 - fitness: 213\n",
      "SpOvCD2dEuWeX3IoYO6KeGiG CoSj15246 - fitness: 212\n",
      "SpOvCD2dEuWeX3IoPO6KeGiG CoSj15246 - fitness: 209\n",
      "SpOvCD2dEuWeX3IoPO6KeGiF CoSj15246 - fitness: 208\n",
      "SpOvCD2dEuWeX0IoPO6KeGiF CoSj15246 - fitness: 205\n",
      "SpOvCD2dEuWbX0IoPO6KeGiF CoSj15246 - fitness: 202\n",
      "SpOvCD2dEuWbX0IoSO6KeGiF CoSj15246 - fitness: 199\n",
      "SpOvCD2dEuVbX0IoSO6KeGiF CoSj15246 - fitness: 198\n",
      "SpOvCDKdEuWbX0IoSO6KeGiF CoSj15246 - fitness: 194\n",
      "SpOvCDKdEuWbX0IoSp6KeGiF CoSj15246 - fitness: 191\n",
      "ScOvCDKdEuWbX0IoSO6KeGiF CoSj15246 - fitness: 185\n",
      "SpOvCDKdEuWbX0IoSa6SeGiF CoSj15246 - fitness: 168\n",
      "SpOvCDKdEuWbX0IoSa6SeGiF CoSj15244 - fitness: 166\n",
      "SpOvCAKdEuWbX0IoSa6SeGiF CoSj15246 - fitness: 165\n",
      "SpOvCAKdEuWbX0IoSa6SeGiF CoSj15244 - fitness: 163\n",
      "SpOvCAKdEuWbX0IoSa6SeGiF AoSj15244 - fitness: 161\n",
      "SpOvCAFdEuWbX0IoSa6SeGiF AoSj15244 - fitness: 156\n",
      "SpOvCAFdEuWbX0CoSa6SeGiF AoSj15244 - fitness: 154\n",
      "SpOvCAFdEuWbX0CqSa6SeGiF AoSj15244 - fitness: 152\n",
      "SpOvC1FdEuWbX0CqSa6SeGiF AoSj15244 - fitness: 136\n",
      "SlOvC1FdEuWbX0CqSa6SeGiF AoSj15244 - fitness: 132\n",
      "SlOvC1FdEuWbP0CqSa6SeGiF AoSj15244 - fitness: 128\n",
      "SlOvC1FdEuWbP0CqSa6SeGiB AoSj15244 - fitness: 124\n",
      "ScOvC1FdEuWbP0CqSa6SeGiF AoSj15244 - fitness: 123\n",
      "ScOvC1FdEuWbP0CqSa6SeGiB AoSj15244 - fitness: 119\n",
      "ScOvC1FdEuWbP0CqSa6SeGiB AoSj15144 - fitness: 118\n",
      "ScOvC1FdEuWbP0CqSa6SeGiB AoUj15144 - fitness: 116\n",
      "ScOvC0FdEuWbP0CqSa6SeGiB AoUj15144 - fitness: 115\n",
      "ScOvC0DdEuWbP0CqSa6SeGiB AoUj15144 - fitness: 113\n",
      "ScOvC0FdEuWbP0CqSa1SeGiB AoUj15144 - fitness: 110\n",
      "ScOvC0FdEuWbP0CqSa1SeGiB AoUj15141 - fitness: 107\n",
      "ScOvA0FdEuWbP0CqSa1SeGiB AoUj15141 - fitness: 105\n",
      "ScOvA0FdEuWbP0CqSa1SeGiB AqUj15141 - fitness: 103\n",
      "ScOvA0FdEsWbP0CqSa1SeGiB AqUj15141 - fitness: 101\n",
      "SdOvA0FdEsWbP0CqSa1SeGiB AqUj15141 - fitness: 100\n",
      "SdOvA0FdEsWbP0CqSa1SeHgB AqUj15141 - fitness: 99\n",
      "SdOvA0FdEsWbP0CqSa1SeHgA AqUj15141 - fitness: 98\n",
      "SdOvA0FdEsRbP0CqSa1SeHgA AqUj15141 - fitness: 97\n",
      "SdOvA FdEsRbP0CqSa1SeHgA AqUj15141 - fitness: 81\n",
      "SdOvA FdEsRbP0CtSa1SeHgA AqUj15141 - fitness: 80\n",
      "SeOvA FdEsRbP0CtSa1SeHgA AqUj15141 - fitness: 79\n",
      "SeOvA FdEsRbP0CtSa1SeHgA AqUj15140 - fitness: 78\n",
      "SeOvA DdEsRbP0CtSa1SeHgA AqUj15140 - fitness: 76\n",
      "SeOvA DdEsRbP0CtSa1SeHgA AqUj13140 - fitness: 74\n",
      "SeOvA DdEsRbS0CtSa1SeHgA AqUj13140 - fitness: 73\n",
      "SeOtA DdEsRbP0CtSa1SeHgA AqUj13140 - fitness: 72\n",
      "SeOtA DdEsRbS0CtSa1SeHgA AqUj13140 - fitness: 71\n",
      "SeOtA DdEsTbS0CtSa1SeHgA AqUj13140 - fitness: 69\n",
      "SeOtA DdEsTbS0CsSa1SeHgA AqUj13140 - fitness: 68\n",
      "SeOtA DdEsTbS0CsSa1SeHgA AqUj13100 - fitness: 64\n",
      "SeOtA DdErTbS0CsSa1SeHhA AqUi13120 - fitness: 63\n",
      "SeOtA DdErTbS0CsSa1SeHhA AqUi13100 - fitness: 61\n",
      "TeOtA DdErTbS0CsSa1SeHhA AqUi13100 - fitness: 60\n",
      "TeOtA DdErTbS CsSa1SeHhA AqUi13100 - fitness: 44\n",
      "TeOtA DcErTbS CsSa1SeHhA AqUi13100 - fitness: 43\n",
      "TeOtA CcErTbS CsSa1SeHhA AqUi13100 - fitness: 42\n",
      "TeOtA CcErTbS CsSa1SeHhA AqUi13000 - fitness: 41\n",
      "TeNtA CcErTbS CsSa1SeHhA AqUi03100 - fitness: 40\n",
      "TeNtA CcErTbS CsSa SeHhA AqUi03100 - fitness: 23\n",
      "TeNtA CcErTaS CsSa SeHhA AqUi03100 - fitness: 22\n",
      "TeNtA CcErTaS CsSa SeHhA AqUi03000 - fitness: 21\n",
      "TeNtA CcErTaR CsSa SeHhA AqUi03000 - fitness: 20\n",
      "TeNtA BcErTaS DsSa SeHhA AqUi03000 - fitness: 19\n",
      "TeNtA BcErTaS EsSa SeHhA AqUi03000 - fitness: 18\n",
      "TeNtA BcErTaR EsSa SeHhA AqUi03000 - fitness: 17\n",
      "TeNtA BcErTaR EsSa SeHhA AqUi 3000 - fitness: 1\n",
      "TeNtA AcErTaR EsSa SeHhA AqUi 3000 - fitness: 0\n",
      "\n",
      "Melhor palpite da senha encontrado:\n",
      "TeNtA AcErTaR EsSa SeHhA AqUi 3000\n"
     ]
    }
   ],
   "source": [
    "populacao = cria_populacao_inicial(TAMANHO_POP, NUM_GENES)\n",
    "\n",
    "melhor_fitness_ja_visto = float(\"inf\")  # é assim que escrevemos infinito em python\n",
    "\n",
    "print(\"Progresso da melhor senha já vista:\")\n",
    "\n",
    "while melhor_fitness_ja_visto != 0:    \n",
    "    \n",
    "    # Seleção\n",
    "    fitness = funcao_objetivo_pop(populacao)\n",
    "    populacao = funcao_selecao(populacao, fitness)\n",
    "    \n",
    "    # Cruzamento\n",
    "    pais = populacao[0::2]\n",
    "    maes = populacao[1::2]\n",
    "    \n",
    "    contador = 0\n",
    "    \n",
    "    for pai, mae in zip(pais, maes):\n",
    "        if random.random() <= CHANCE_CRUZAMENTO:\n",
    "            filho1, filho2 = funcao_cruzamento(pai, mae)\n",
    "            populacao[contador] = filho1\n",
    "            populacao[contador + 1] = filho2\n",
    "        \n",
    "        contador = contador + 2   \n",
    "        \n",
    "    # Mutação\n",
    "    for n in range(len(populacao)):\n",
    "        if random.random() <= CHANCE_MUTACAO:\n",
    "            individuo = populacao[n]\n",
    "            populacao[n] = funcao_mutacao(individuo)            \n",
    "            \n",
    "    # melhor individuo já visto até agora\n",
    "    fitness = funcao_objetivo_pop(populacao)\n",
    "    menor_fitness = min(fitness)\n",
    "    if menor_fitness < melhor_fitness_ja_visto:        \n",
    "        posicao = fitness.index(menor_fitness)\n",
    "        melhor_individuo_ja_visto = populacao[posicao]\n",
    "        melhor_fitness_ja_visto = menor_fitness\n",
    "        print(\"\".join(melhor_individuo_ja_visto), \"- fitness:\", melhor_fitness_ja_visto)\n",
    "\n",
    "print()\n",
    "print(\"Melhor palpite da senha encontrado:\")\n",
    "print(\"\".join(melhor_individuo_ja_visto))"
   ]
  },
  {
   "cell_type": "markdown",
   "metadata": {},
   "source": [
    "## Conclusão\n",
    "\n",
    "Com o algoritimo utilizado, foi possível resolver o problema da senha, onde o algoritmo deveria encontrar uma senha específica. Este problema é um ótimo jeito de ver a natureza mutável e totalmente customizável dos algoritmos genéticos, já que é possível resolver este problema de diferentes formas, como por exemplo considerar a distâncias entre palavras para todas as letras, não apenas letra por letra, isso ajudaria o código a convergir para uma solução mais rapidamente. Porém, este algoritmo seria mais complexo e mais dificil de ser implementado. De modo geral, este problema demonstra muitas diferenciações possíveis que podem ser feitas para resolver-lo de outros jeitos, sendo eles mais simples ou mais complexos, mais rápidos ou mais lentos, o único objetivo em comum entre todos os algoritmos desenvolvidos para este problema, será a ideia de convergir para um senha definida, ou seja, encontrar a senha passada, seja o método implementado que for."
   ]
  },
  {
   "cell_type": "markdown",
   "metadata": {},
   "source": [
    "## Playground\n",
    "\n"
   ]
  },
  {
   "cell_type": "markdown",
   "metadata": {},
   "source": [
    "Maneira diferente de 'unzipar' listas que estejam com o zip, como por exemplo na funcao do torneio"
   ]
  },
  {
   "cell_type": "code",
   "execution_count": 5,
   "metadata": {},
   "outputs": [
    {
     "name": "stdout",
     "output_type": "stream",
     "text": [
      "a 1\n",
      "b 2\n",
      "c 3\n"
     ]
    }
   ],
   "source": [
    "lista1 = ['a', 'b', 'c']\n",
    "lista2 = [1,2,3]\n",
    "\n",
    "lista12 = list(zip(lista1, lista2))\n",
    "\n",
    "for i, j in lista12:\n",
    "    print(i, j)"
   ]
  },
  {
   "cell_type": "code",
   "execution_count": null,
   "metadata": {},
   "outputs": [],
   "source": []
  }
 ],
 "metadata": {
  "kernelspec": {
   "display_name": "ilumpy",
   "language": "python",
   "name": "ilumpy"
  },
  "language_info": {
   "codemirror_mode": {
    "name": "ipython",
    "version": 3
   },
   "file_extension": ".py",
   "mimetype": "text/x-python",
   "name": "python",
   "nbconvert_exporter": "python",
   "pygments_lexer": "ipython3",
   "version": "3.9.7"
  },
  "org": null
 },
 "nbformat": 4,
 "nbformat_minor": 4
}
