{
 "cells": [
  {
   "cell_type": "markdown",
   "metadata": {},
   "source": [
    "O caixeiro com gasolina infinita (e sem conciência ambiental)\n",
    "========================================\n",
    "\n"
   ]
  },
  {
   "cell_type": "markdown",
   "metadata": {},
   "source": [
    "## Introdução\n",
    "\n"
   ]
  },
  {
   "cell_type": "markdown",
   "metadata": {},
   "source": [
    "Este problema se trata do clássico problema do caixeiro viajante, onde temos uma série de cidade e devemos encontrar o menor caminho para percorre-las. Porém, desta vez, devemos encontrar o maior caminho, ou seja, o caminho menos eficiente possível, e para isso devemos alterar nosso algoritmos ja realizado para um problema de maximização.\n",
    "\n"
   ]
  },
  {
   "cell_type": "markdown",
   "metadata": {},
   "source": [
    "## Objetivo\n",
    "\n"
   ]
  },
  {
   "cell_type": "markdown",
   "metadata": {},
   "source": [
    "O objetivo do experimento é desenvolver um algoritmo genético capaz de encontrar a melhor solução (ou pelo menos um palpite muito bom), para o problema do caixeiro viajante com gasolina infinita."
   ]
  },
  {
   "cell_type": "markdown",
   "metadata": {},
   "source": [
    "## Importações\n",
    "\n"
   ]
  },
  {
   "cell_type": "code",
   "execution_count": 1,
   "metadata": {},
   "outputs": [],
   "source": [
    "import random\n",
    "from itertools import permutations\n",
    "\n",
    "import graphviz\n",
    "from collections import deque\n",
    "\n",
    "from funcoes import cria_cidades\n",
    "\n",
    "from funcoes import populacao_inicial_cv_gasolina_inf as cria_populacao_inicial\n",
    "from funcoes import funcao_objetivo_pop_cv_gasolina_inf\n",
    "from funcoes import selecao_torneio_max\n",
    "from funcoes import cruzamento_ordenado as funcao_cruzamento\n",
    "from funcoes import mutacao_de_troca_gasolina_inf as funcao_mutacao\n",
    "\n",
    "from funcoes import funcao_objetivo_cv_gasolina_inf as funcao_objetivo_individuo\n",
    "\n",
    "from time import perf_counter as pf"
   ]
  },
  {
   "cell_type": "markdown",
   "metadata": {},
   "source": [
    "## Códigos e discussão\n",
    "\n"
   ]
  },
  {
   "cell_type": "code",
   "execution_count": 2,
   "metadata": {},
   "outputs": [],
   "source": [
    "### CONSTANTES\n",
    "\n",
    "# relacionadas à busca\n",
    "TAMANHO_POP = 50\n",
    "NUM_GERACOES = 1000\n",
    "CHANCE_CRUZAMENTO = 0.5\n",
    "CHANCE_MUTACAO = 0.05\n",
    "NUM_COMBATENTES_NO_TORNEIO = 3\n",
    "\n",
    "# relacionadas ao problema a ser resolvido\n",
    "NUMERO_DE_CIDADES = 10\n",
    "CIDADES = cria_cidades(NUMERO_DE_CIDADES)"
   ]
  },
  {
   "cell_type": "code",
   "execution_count": 3,
   "metadata": {},
   "outputs": [],
   "source": [
    "# Funções locais\n",
    "\n",
    "def funcao_objetivo_pop(populacao):\n",
    "    return funcao_objetivo_pop_cv_gasolina_inf(populacao, CIDADES)\n",
    "\n",
    "def funcao_selecao(populacao, fitness):\n",
    "    return selecao_torneio_max(populacao, fitness, NUM_COMBATENTES_NO_TORNEIO)"
   ]
  },
  {
   "cell_type": "code",
   "execution_count": 4,
   "metadata": {},
   "outputs": [],
   "source": [
    "# Busca por algoritmo genético\n",
    "\n",
    "start_algoritmo = pf()\n",
    "\n",
    "populacao = cria_populacao_inicial(TAMANHO_POP, CIDADES)\n",
    "\n",
    "melhor_fitness_ja_visto = -float(\"inf\")\n",
    "\n",
    "for n in range(NUM_GERACOES):\n",
    "    \n",
    "    # Seleção\n",
    "    fitness = funcao_objetivo_pop(populacao)\n",
    "    populacao = funcao_selecao(populacao, fitness)\n",
    "    \n",
    "    # Cruzamento\n",
    "    pais = populacao[0::2]\n",
    "    maes = populacao[1::2]\n",
    "    \n",
    "    contador = 0\n",
    "    \n",
    "    for pai, mae in zip(pais, maes):\n",
    "        if random.random() <= CHANCE_CRUZAMENTO:\n",
    "            filho1, filho2 = funcao_cruzamento(pai, mae)\n",
    "            populacao[contador] = filho1\n",
    "            populacao[contador + 1] = filho2\n",
    "        \n",
    "        contador = contador + 2   \n",
    "        \n",
    "    # Mutação\n",
    "    for n in range(len(populacao)):\n",
    "        if random.random() <= CHANCE_MUTACAO:\n",
    "            individuo = populacao[n]\n",
    "            populacao[n] = funcao_mutacao(individuo)            \n",
    "            \n",
    "    # melhor individuo já visto até agora\n",
    "    fitness = funcao_objetivo_pop(populacao)\n",
    "    maior_fitness = max(fitness)\n",
    "    if maior_fitness > melhor_fitness_ja_visto:        \n",
    "        posicao = fitness.index(maior_fitness)\n",
    "        melhor_individuo_ja_visto = populacao[posicao]\n",
    "        melhor_fitness_ja_visto = maior_fitness    \n",
    "    \n",
    "fim_algoritmo = pf()"
   ]
  },
  {
   "cell_type": "code",
   "execution_count": 5,
   "metadata": {},
   "outputs": [],
   "source": [
    "# Busca testando todas as permutações\n",
    "\n",
    "melhor_fitness_ever = -float(\"inf\")\n",
    "\n",
    "inicio_all = pf()\n",
    "\n",
    "# testando todas as permutações possíveis\n",
    "for caminho in permutations(list(CIDADES.keys())):\n",
    "    caminho = list(caminho)\n",
    "    distancia = funcao_objetivo_individuo(caminho, CIDADES)\n",
    "    if distancia > melhor_fitness_ever:\n",
    "        melhor_fitness_ever = distancia\n",
    "        melhor_resposta_ever = caminho\n",
    "\n",
    "fim_all = pf()"
   ]
  },
  {
   "cell_type": "code",
   "execution_count": 6,
   "metadata": {},
   "outputs": [
    {
     "name": "stdout",
     "output_type": "stream",
     "text": [
      "\n",
      "Melhor individuo obtido por algoritmos genéticos:\n",
      "['Cidade 2', 'Cidade 3', 'Cidade 4', 'Cidade 8', 'Cidade 5', 'Cidade 9', 'Cidade 1', 'Cidade 7', 'Cidade 6', 'Cidade 0'] com distância: 7.870035860328197 em 0.9862999000000001 segundos\n",
      "\n",
      "Melhor individuo obtido por busca exaustiva:\n",
      "['Cidade 2', 'Cidade 3', 'Cidade 4', 'Cidade 8', 'Cidade 9', 'Cidade 5', 'Cidade 1', 'Cidade 7', 'Cidade 6', 'Cidade 0'] com distância: 7.870035860328197 em 54.1744551 segundos\n"
     ]
    }
   ],
   "source": [
    "# Checando os resultados\n",
    "\n",
    "print()\n",
    "print(\"Melhor individuo obtido por algoritmos genéticos:\")\n",
    "print(melhor_individuo_ja_visto, \"com distância:\", melhor_fitness_ja_visto, f'em {fim_algoritmo-start_algoritmo} segundos')\n",
    "\n",
    "print()\n",
    "print(\"Melhor individuo obtido por busca exaustiva:\")\n",
    "print(melhor_resposta_ever, \"com distância:\", melhor_fitness_ever, f'em {fim_all-inicio_all} segundos')"
   ]
  },
  {
   "cell_type": "markdown",
   "metadata": {},
   "source": [
    "Podemos ver que o algoritmo foi capaz de conseguir encontrar o maior caminho capaz de resolver o problema, para isso, foram testados indivíduos, porém agora com um problema de maximização, deste caso da distância percorrida. Além de conseguir no melhor resultado possível (obtido pela busca exaustiva), o algoritmo ainda coseguiu chegar em tal de maneira rápida, já que sua execução necessitou apenas de um pouco mais de 1 segundo, enquanto a busca exaustiva que prova que esta é a melhor solução demorou 50 segundos. Podemos considerar também que foram utilizadas apenas 10 cidades, um número consideravelmente pequeno, e quanto maior o número de cidades, teremos um aumento exponencial no tempo tomado pela busca exaustiva, enquanto o algoritmo tende a ter um desempenho muito melhor."
   ]
  },
  {
   "cell_type": "code",
   "execution_count": 7,
   "metadata": {},
   "outputs": [
    {
     "data": {
      "image/svg+xml": [
       "<?xml version=\"1.0\" encoding=\"UTF-8\" standalone=\"no\"?>\n",
       "<!DOCTYPE svg PUBLIC \"-//W3C//DTD SVG 1.1//EN\"\n",
       " \"http://www.w3.org/Graphics/SVG/1.1/DTD/svg11.dtd\">\n",
       "<!-- Generated by graphviz version 8.0.3 (20230416.2022)\n",
       " -->\n",
       "<!-- Pages: 1 -->\n",
       "<svg width=\"1203pt\" height=\"72pt\"\n",
       " viewBox=\"0.00 0.00 1202.92 72.00\" xmlns=\"http://www.w3.org/2000/svg\" xmlns:xlink=\"http://www.w3.org/1999/xlink\">\n",
       "<g id=\"graph0\" class=\"graph\" transform=\"scale(1 1) rotate(0) translate(4 68)\">\n",
       "<polygon fill=\"white\" stroke=\"none\" points=\"-4,4 -4,-68 1198.92,-68 1198.92,4 -4,4\"/>\n",
       "<!-- Cidade 2 -->\n",
       "<g id=\"node1\" class=\"node\">\n",
       "<title>Cidade 2</title>\n",
       "<ellipse fill=\"none\" stroke=\"black\" cx=\"43.55\" cy=\"-23\" rx=\"43.59\" ry=\"18\"/>\n",
       "<text text-anchor=\"middle\" x=\"43.55\" y=\"-19.3\" font-family=\"Times New Roman,serif\" font-size=\"14.00\">Cidade 2</text>\n",
       "</g>\n",
       "<!-- Cidade 3 -->\n",
       "<g id=\"node2\" class=\"node\">\n",
       "<title>Cidade 3</title>\n",
       "<ellipse fill=\"none\" stroke=\"black\" cx=\"166.64\" cy=\"-46\" rx=\"43.59\" ry=\"18\"/>\n",
       "<text text-anchor=\"middle\" x=\"166.64\" y=\"-42.3\" font-family=\"Times New Roman,serif\" font-size=\"14.00\">Cidade 3</text>\n",
       "</g>\n",
       "<!-- Cidade 2&#45;&gt;Cidade 3 -->\n",
       "<g id=\"edge1\" class=\"edge\">\n",
       "<title>Cidade 2&#45;&gt;Cidade 3</title>\n",
       "<path fill=\"none\" stroke=\"black\" d=\"M83.86,-30.47C94.12,-32.42 105.3,-34.54 116.02,-36.57\"/>\n",
       "<polygon fill=\"black\" stroke=\"black\" points=\"115.04,-40.14 125.52,-38.57 116.35,-33.27 115.04,-40.14\"/>\n",
       "</g>\n",
       "<!-- Cidade 4 -->\n",
       "<g id=\"node3\" class=\"node\">\n",
       "<title>Cidade 4</title>\n",
       "<ellipse fill=\"none\" stroke=\"black\" cx=\"289.73\" cy=\"-46\" rx=\"43.59\" ry=\"18\"/>\n",
       "<text text-anchor=\"middle\" x=\"289.73\" y=\"-42.3\" font-family=\"Times New Roman,serif\" font-size=\"14.00\">Cidade 4</text>\n",
       "</g>\n",
       "<!-- Cidade 3&#45;&gt;Cidade 4 -->\n",
       "<g id=\"edge2\" class=\"edge\">\n",
       "<title>Cidade 3&#45;&gt;Cidade 4</title>\n",
       "<path fill=\"none\" stroke=\"black\" d=\"M210.67,-46C218.52,-46 226.81,-46 234.92,-46\"/>\n",
       "<polygon fill=\"black\" stroke=\"black\" points=\"234.84,-49.5 244.84,-46 234.84,-42.5 234.84,-49.5\"/>\n",
       "</g>\n",
       "<!-- Cidade 8 -->\n",
       "<g id=\"node4\" class=\"node\">\n",
       "<title>Cidade 8</title>\n",
       "<ellipse fill=\"none\" stroke=\"black\" cx=\"412.82\" cy=\"-46\" rx=\"43.59\" ry=\"18\"/>\n",
       "<text text-anchor=\"middle\" x=\"412.82\" y=\"-42.3\" font-family=\"Times New Roman,serif\" font-size=\"14.00\">Cidade 8</text>\n",
       "</g>\n",
       "<!-- Cidade 4&#45;&gt;Cidade 8 -->\n",
       "<g id=\"edge3\" class=\"edge\">\n",
       "<title>Cidade 4&#45;&gt;Cidade 8</title>\n",
       "<path fill=\"none\" stroke=\"black\" d=\"M333.76,-46C341.62,-46 349.9,-46 358.02,-46\"/>\n",
       "<polygon fill=\"black\" stroke=\"black\" points=\"357.93,-49.5 367.93,-46 357.93,-42.5 357.93,-49.5\"/>\n",
       "</g>\n",
       "<!-- Cidade 5 -->\n",
       "<g id=\"node5\" class=\"node\">\n",
       "<title>Cidade 5</title>\n",
       "<ellipse fill=\"none\" stroke=\"black\" cx=\"535.92\" cy=\"-46\" rx=\"43.59\" ry=\"18\"/>\n",
       "<text text-anchor=\"middle\" x=\"535.92\" y=\"-42.3\" font-family=\"Times New Roman,serif\" font-size=\"14.00\">Cidade 5</text>\n",
       "</g>\n",
       "<!-- Cidade 8&#45;&gt;Cidade 5 -->\n",
       "<g id=\"edge4\" class=\"edge\">\n",
       "<title>Cidade 8&#45;&gt;Cidade 5</title>\n",
       "<path fill=\"none\" stroke=\"black\" d=\"M456.86,-46C464.71,-46 472.99,-46 481.11,-46\"/>\n",
       "<polygon fill=\"black\" stroke=\"black\" points=\"481.02,-49.5 491.02,-46 481.02,-42.5 481.02,-49.5\"/>\n",
       "</g>\n",
       "<!-- Cidade 9 -->\n",
       "<g id=\"node6\" class=\"node\">\n",
       "<title>Cidade 9</title>\n",
       "<ellipse fill=\"none\" stroke=\"black\" cx=\"659.01\" cy=\"-46\" rx=\"43.59\" ry=\"18\"/>\n",
       "<text text-anchor=\"middle\" x=\"659.01\" y=\"-42.3\" font-family=\"Times New Roman,serif\" font-size=\"14.00\">Cidade 9</text>\n",
       "</g>\n",
       "<!-- Cidade 5&#45;&gt;Cidade 9 -->\n",
       "<g id=\"edge5\" class=\"edge\">\n",
       "<title>Cidade 5&#45;&gt;Cidade 9</title>\n",
       "<path fill=\"none\" stroke=\"black\" d=\"M579.95,-46C587.8,-46 596.08,-46 604.2,-46\"/>\n",
       "<polygon fill=\"black\" stroke=\"black\" points=\"604.11,-49.5 614.11,-46 604.11,-42.5 604.11,-49.5\"/>\n",
       "</g>\n",
       "<!-- Cidade 1 -->\n",
       "<g id=\"node7\" class=\"node\">\n",
       "<title>Cidade 1</title>\n",
       "<ellipse fill=\"none\" stroke=\"black\" cx=\"782.1\" cy=\"-46\" rx=\"43.59\" ry=\"18\"/>\n",
       "<text text-anchor=\"middle\" x=\"782.1\" y=\"-42.3\" font-family=\"Times New Roman,serif\" font-size=\"14.00\">Cidade 1</text>\n",
       "</g>\n",
       "<!-- Cidade 9&#45;&gt;Cidade 1 -->\n",
       "<g id=\"edge6\" class=\"edge\">\n",
       "<title>Cidade 9&#45;&gt;Cidade 1</title>\n",
       "<path fill=\"none\" stroke=\"black\" d=\"M703.04,-46C710.89,-46 719.17,-46 727.29,-46\"/>\n",
       "<polygon fill=\"black\" stroke=\"black\" points=\"727.2,-49.5 737.2,-46 727.2,-42.5 727.2,-49.5\"/>\n",
       "</g>\n",
       "<!-- Cidade 7 -->\n",
       "<g id=\"node8\" class=\"node\">\n",
       "<title>Cidade 7</title>\n",
       "<ellipse fill=\"none\" stroke=\"black\" cx=\"905.19\" cy=\"-46\" rx=\"43.59\" ry=\"18\"/>\n",
       "<text text-anchor=\"middle\" x=\"905.19\" y=\"-42.3\" font-family=\"Times New Roman,serif\" font-size=\"14.00\">Cidade 7</text>\n",
       "</g>\n",
       "<!-- Cidade 1&#45;&gt;Cidade 7 -->\n",
       "<g id=\"edge7\" class=\"edge\">\n",
       "<title>Cidade 1&#45;&gt;Cidade 7</title>\n",
       "<path fill=\"none\" stroke=\"black\" d=\"M826.13,-46C833.98,-46 842.27,-46 850.38,-46\"/>\n",
       "<polygon fill=\"black\" stroke=\"black\" points=\"850.3,-49.5 860.3,-46 850.3,-42.5 850.3,-49.5\"/>\n",
       "</g>\n",
       "<!-- Cidade 6 -->\n",
       "<g id=\"node9\" class=\"node\">\n",
       "<title>Cidade 6</title>\n",
       "<ellipse fill=\"none\" stroke=\"black\" cx=\"1028.28\" cy=\"-46\" rx=\"43.59\" ry=\"18\"/>\n",
       "<text text-anchor=\"middle\" x=\"1028.28\" y=\"-42.3\" font-family=\"Times New Roman,serif\" font-size=\"14.00\">Cidade 6</text>\n",
       "</g>\n",
       "<!-- Cidade 7&#45;&gt;Cidade 6 -->\n",
       "<g id=\"edge8\" class=\"edge\">\n",
       "<title>Cidade 7&#45;&gt;Cidade 6</title>\n",
       "<path fill=\"none\" stroke=\"black\" d=\"M949.23,-46C957.08,-46 965.36,-46 973.48,-46\"/>\n",
       "<polygon fill=\"black\" stroke=\"black\" points=\"973.39,-49.5 983.39,-46 973.39,-42.5 973.39,-49.5\"/>\n",
       "</g>\n",
       "<!-- Cidade 0 -->\n",
       "<g id=\"node10\" class=\"node\">\n",
       "<title>Cidade 0</title>\n",
       "<ellipse fill=\"none\" stroke=\"black\" cx=\"1151.38\" cy=\"-23\" rx=\"43.59\" ry=\"18\"/>\n",
       "<text text-anchor=\"middle\" x=\"1151.38\" y=\"-19.3\" font-family=\"Times New Roman,serif\" font-size=\"14.00\">Cidade 0</text>\n",
       "</g>\n",
       "<!-- Cidade 6&#45;&gt;Cidade 0 -->\n",
       "<g id=\"edge9\" class=\"edge\">\n",
       "<title>Cidade 6&#45;&gt;Cidade 0</title>\n",
       "<path fill=\"none\" stroke=\"black\" d=\"M1068.6,-38.53C1078.85,-36.58 1090.04,-34.46 1100.75,-32.43\"/>\n",
       "<polygon fill=\"black\" stroke=\"black\" points=\"1101.09,-35.73 1110.26,-30.43 1099.78,-28.86 1101.09,-35.73\"/>\n",
       "</g>\n",
       "<!-- Cidade 0&#45;&gt;Cidade 2 -->\n",
       "<g id=\"edge10\" class=\"edge\">\n",
       "<title>Cidade 0&#45;&gt;Cidade 2</title>\n",
       "<path fill=\"none\" stroke=\"black\" d=\"M1109.87,-16.84C1061.52,-10.02 978.15,0 906.19,0 288.73,0 288.73,0 288.73,0 221.83,0 145.07,-8.66 95.75,-15.36\"/>\n",
       "<polygon fill=\"black\" stroke=\"black\" points=\"95.48,-12 86.05,-16.84 96.44,-18.93 95.48,-12\"/>\n",
       "</g>\n",
       "</g>\n",
       "</svg>\n"
      ],
      "text/plain": [
       "<graphviz.graphs.Digraph at 0x222c8ad9310>"
      ]
     },
     "execution_count": 7,
     "metadata": {},
     "output_type": "execute_result"
    }
   ],
   "source": [
    "g = graphviz.Digraph(format='svg', graph_attr={'rankdir': 'LR'}, comment='Maior caminho possível')\n",
    "\n",
    "for node in melhor_individuo_ja_visto:\n",
    "    g.node(node, node)\n",
    "\n",
    "individuo_copy = deque(melhor_individuo_ja_visto)\n",
    "individuo_copy.rotate(-1)\n",
    "    \n",
    "for ini, che in zip(melhor_individuo_ja_visto, individuo_copy):\n",
    "    g.edge(ini, che)\n",
    "\n",
    "g"
   ]
  },
  {
   "cell_type": "markdown",
   "metadata": {},
   "source": [
    "## Conclusão\n",
    "\n",
    "O objetivo do notebook encontrar a solução do problema do caixeiro viajante com gasolina infinita e mostrar seu caminho de maneira gráfica através de grafos. Para que isso fosse possível, foi utilizado como base um algoritmo genético já feito anteriormente, soque desta vez, ao invés de termos um problema de minimização, temos um problema de maximização, ja que desejamos encontrar a maior distância possível.\n",
    "\n",
    "Considerando o algoritmo em si e seu desempenho, conseguimos alcançar o objetivo proposto, já que através da busca exaustiva comprovamos que o algoritmo chegou no melhor resultado possível para o problema proposto. Ainda podemos ver que o algoritmo teve um desempenho execelente quando comparado com a busca exaustiva, pois o algoritmo chegou na resposta em apenas 1 segundo e a busca demorou 50 segundos.\n",
    "\n",
    "A outra parte do problema é mostrar a solução para tal de maneira gráfica, e para isso, foi feito um grafo que demosntra o caminho percorrido pelo viajante gastando o máximo de gasolina e poluindo toda a natureza por onde passa."
   ]
  },
  {
   "cell_type": "markdown",
   "metadata": {},
   "source": [
    "## Playground\n",
    "\n"
   ]
  },
  {
   "cell_type": "markdown",
   "metadata": {},
   "source": [
    "Todo código de teste que não faz parte do seu experimento deve vir aqui. Este código não será considerado na avaliação.\n",
    "\n"
   ]
  },
  {
   "cell_type": "code",
   "execution_count": null,
   "metadata": {},
   "outputs": [],
   "source": []
  }
 ],
 "metadata": {
  "kernelspec": {
   "display_name": "ilumpy",
   "language": "python",
   "name": "ilumpy"
  },
  "language_info": {
   "codemirror_mode": {
    "name": "ipython",
    "version": 3
   },
   "file_extension": ".py",
   "mimetype": "text/x-python",
   "name": "python",
   "nbconvert_exporter": "python",
   "pygments_lexer": "ipython3",
   "version": "3.9.7"
  },
  "org": null
 },
 "nbformat": 4,
 "nbformat_minor": 4
}
