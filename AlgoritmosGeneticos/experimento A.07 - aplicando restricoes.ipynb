{
 "cells": [
  {
   "cell_type": "markdown",
   "metadata": {},
   "source": [
    "Aplicando restrições na busca\n",
    "=============================\n",
    "\n"
   ]
  },
  {
   "cell_type": "markdown",
   "metadata": {},
   "source": [
    "## Introdução\n",
    "\n"
   ]
  },
  {
   "cell_type": "markdown",
   "metadata": {},
   "source": [
    "Muitos problemas de otimização com relevância científica têm uma ou mais `restrições` que devem ser levadas em consideração na hora de resolver o problema.\n",
    "\n",
    "Lembra do `problema da mochila` que vimos em Lógica Computacional? Era um problema de otimização onde queríamos maximizar o valor dos itens colocados na mochila enquanto observávamos a restrição do peso total dos itens (do contrário, a mochila rasgava).\n",
    "\n",
    "Uma forma de considerar essas restrições nos problemas é aplicando uma `penalidade` na função objetivo.\n",
    "\n",
    "Vamos pensar como seria essa penalidade no problema da mochila: a função objetivo é maximizar o valor dos itens na mochila, então é um problema de maximização. A função objetivo pode ser a soma dos itens da mochila. Se fosse só isso, teríamos\n",
    "\n",
    "$$\n",
    "f = \\sum_{i, i \\in \\mathrm{mochila}}\\mathrm{valor}(i)\n",
    "$$\n",
    "\n",
    "No entanto, apenas essa função não resolve o problema! Precisamos levar em consideração o limite de peso da mochila! Para isso, penalizamos a função objetivo levando em consideração essa restrição:\n",
    "\n",
    "$f=\\begin{cases}\n",
    "0.01 & \\textrm{se peso > limite da mochila}\\\\\n",
    "\\sum_{i,i\\in\\mathrm{mochila}}(\\mathrm{valor}(i)) & \\textrm{se peso} \\leq \\textrm{limite da mochila}\n",
    "\\end{cases}$\n",
    "\n",
    "Agora finalmente podemos seguir em frente e resolver o problema.\n",
    "\n"
   ]
  },
  {
   "cell_type": "markdown",
   "metadata": {},
   "source": [
    "## Reflexões\n",
    "\n"
   ]
  },
  {
   "cell_type": "markdown",
   "metadata": {},
   "source": [
    "Se usarmos a equação de $f$ acima, qual será o valor de $f$ caso não exista uma solução para um certo problema da mochila?\n",
    "\n",
    "Na equação de $f$ acima nós usamos um valor práximo de zero para indicar que uma restrição do problema não foi satisfeita. Você consegue pensar em outra estratégia para penalizar soluções inválidas?\n",
    "\n"
   ]
  },
  {
   "cell_type": "markdown",
   "metadata": {},
   "source": [
    "## Objetivo\n",
    "\n"
   ]
  },
  {
   "cell_type": "markdown",
   "metadata": {},
   "source": [
    "Encontrar uma solução para o problema da mochila usando algoritmos genéticos. Considere que existem 10 itens diferentes (com pesos e valores diferentes) disponíveis para serem escolhidos.\n",
    "\n"
   ]
  },
  {
   "cell_type": "markdown",
   "metadata": {},
   "source": [
    "## Descrição do problema\n",
    "\n"
   ]
  },
  {
   "cell_type": "markdown",
   "metadata": {},
   "source": [
    "No problema da mochila você tem um número $n$ de itens disponíveis, cada um com um peso e um valor associado. Sua mochila tem a capacidade de carregar um número $p$ de quilogramas, sendo que mais que isso faz com que sua mochila rasgue e todos os itens dentro dela caiam no chão e se quebrem de maneira catastrófica (indesejado). Sua tarefa é encontrar um conjunto de itens (considerando os $n$ disponíveis) que maximize o valor contido dentro da mochila, porém que tenham um peso dentro da capacidade da mesma.\n",
    "\n"
   ]
  },
  {
   "cell_type": "markdown",
   "metadata": {},
   "source": [
    "## Importações\n",
    "\n"
   ]
  },
  {
   "cell_type": "code",
   "execution_count": 1,
   "metadata": {},
   "outputs": [],
   "source": [
    "import random\n",
    "\n",
    "from funcoes import computa_mochila\n",
    "from funcoes import funcao_objetivo_pop_mochila\n",
    "from funcoes import populacao_cb as cria_populacao_inicial\n",
    "from funcoes import selecao_roleta_max as funcao_selecao\n",
    "from funcoes import cruzamento_ponto_simples as funcao_cruzamento\n",
    "from funcoes import mutacao_cb as funcao_mutacao"
   ]
  },
  {
   "cell_type": "markdown",
   "metadata": {},
   "source": [
    "A primeira etapa do código consiste em importar as funções necessárias para implementação do algoritmo e para seu funcionamento. Além disto, é importada a biblioteca random que também é necessária para o cálculo de probabilidade de cruzamento e mutação"
   ]
  },
  {
   "cell_type": "markdown",
   "metadata": {},
   "source": [
    "## Códigos e discussão\n",
    "\n"
   ]
  },
  {
   "cell_type": "code",
   "execution_count": 2,
   "metadata": {},
   "outputs": [],
   "source": [
    "### CONSTANTES\n",
    "\n",
    "# relacionadas à busca\n",
    "TAMANHO_POP = 20\n",
    "NUM_GERACOES = 10\n",
    "CHANCE_CRUZAMENTO = 0.5\n",
    "CHANCE_MUTACAO = 0.05\n",
    "\n",
    "# relacionadas ao problema a ser resolvido\n",
    "LIMITE_DE_PESO = 15\n",
    "OBJETOS = {\n",
    "    # dicionário baseado no que vocês enviaram na aula de Lógica\n",
    "\n",
    "    \"vinil falsificado da volta do One Direction\": {\n",
    "        \"peso\": 2,\n",
    "        \"valor\": 2500,\n",
    "    },\n",
    "    \"Harry Potter: ele voltou, confia!\": {\n",
    "        \"peso\": 3,\n",
    "        \"valor\": 1500,\n",
    "    },\n",
    "    \"Quadrinho super raro do Aranha-Homem da vida real\": {\n",
    "        \"peso\": 3,\n",
    "        \"valor\": 7000,\n",
    "    },\n",
    "    \"mesa dobrável para laptop\": {\n",
    "        \"peso\": 3,\n",
    "        \"valor\": 150,\n",
    "    },\n",
    "    \"tablet\": {\n",
    "        \"peso\": 0.6,\n",
    "        \"valor\": 2400,\n",
    "    },\n",
    "    \"teclado musical\": {\n",
    "        \"peso\": 3.5,\n",
    "        \"valor\": 3000,\n",
    "    },\n",
    "    \"bicicleta\": {\n",
    "        \"peso\": 16,\n",
    "        \"valor\": 1000,\n",
    "    },\n",
    "    \"lições em dia\": {\n",
    "        \"peso\": 8,\n",
    "        \"valor\": 5000,\n",
    "    },\n",
    "    \"energético\": {\n",
    "        \"peso\": 2,\n",
    "        \"valor\": 1500,\n",
    "    },\n",
    "    \"docinhos para o stress\": {\n",
    "        \"peso\": 5,\n",
    "        \"valor\": 3000,\n",
    "    },\n",
    "}\n",
    "NUM_OBJETOS = len(OBJETOS)\n",
    "ORDEM_DOS_NOMES = list(sorted(OBJETOS.keys()))"
   ]
  },
  {
   "cell_type": "markdown",
   "metadata": {},
   "source": [
    "A proxima etapa consiste em definir as constantes da busca, sendo estas estritamente relacionadas ao modo que o algoritmo será rodado, e também a importação das constantes do problema, estas, analogas às outras, estando estritamente relacionadas ao problema em si, e não ao algoritmo."
   ]
  },
  {
   "cell_type": "code",
   "execution_count": 3,
   "metadata": {},
   "outputs": [],
   "source": [
    "# Funções locais\n",
    "\n",
    "def funcao_objetivo_pop(populacao):\n",
    "    return funcao_objetivo_pop_mochila(\n",
    "        populacao, OBJETOS, LIMITE_DE_PESO, ORDEM_DOS_NOMES\n",
    "    )"
   ]
  },
  {
   "cell_type": "markdown",
   "metadata": {},
   "source": [
    "Nesta etapa é feita a definição de funções locais, que são encarregadas passar variáveis goblais utilizadas por função que o algoritmo não acessa diretamente em sua função principal."
   ]
  },
  {
   "cell_type": "code",
   "execution_count": 4,
   "metadata": {},
   "outputs": [
    {
     "name": "stdout",
     "output_type": "stream",
     "text": [
      "1ª tentativa: 10 gerações:\n",
      "Maior valor: 12500 | Peso: 10\n",
      "Maior valor: 14000 | Peso: 13\n",
      "Maior valor: 15400 | Peso: 13.6\n",
      "Maior valor: 15500 | Peso: 15\n",
      "Maior valor: 16400 | Peso: 12.6\n",
      "\n",
      "Você deve pegar os seguintes itens:\n",
      "+ Quadrinho super raro do Aranha-Homem da vida real\n",
      "+ docinhos para o stress\n",
      "+ energético\n",
      "+ tablet\n",
      "+ vinil falsificado da volta do One Direction\n",
      "\n",
      "Com isso, sua mochila terá o valor de 16400 dinheiros e peso de 12.6 unidades de massa.\n",
      "\n",
      "===========================================================================================================================================\n",
      "\n",
      "2ª tentativa: 20 gerações:\n",
      "Maior valor: 17900 | Peso: 14.1\n",
      "\n",
      "Você deve pegar os seguintes itens:\n",
      "+ Quadrinho super raro do Aranha-Homem da vida real\n",
      "+ docinhos para o stress\n",
      "+ tablet\n",
      "+ teclado musical\n",
      "+ vinil falsificado da volta do One Direction\n",
      "\n",
      "Com isso, sua mochila terá o valor de 17900 dinheiros e peso de 14.1 unidades de massa.\n",
      "\n",
      "===========================================================================================================================================\n",
      "\n",
      "3ª tentativa: 30 gerações:\n",
      "Maior valor: 12550 | Peso: 11.6\n",
      "Maior valor: 13000 | Peso: 11.5\n",
      "Maior valor: 14050 | Peso: 13.6\n",
      "Maior valor: 14500 | Peso: 13.5\n",
      "Maior valor: 15400 | Peso: 12.1\n",
      "\n",
      "Você deve pegar os seguintes itens:\n",
      "+ Quadrinho super raro do Aranha-Homem da vida real\n",
      "+ docinhos para o stress\n",
      "+ tablet\n",
      "+ teclado musical\n",
      "\n",
      "Com isso, sua mochila terá o valor de 15400 dinheiros e peso de 12.1 unidades de massa.\n",
      "\n",
      "===========================================================================================================================================\n",
      "\n",
      "4ª tentativa: 40 gerações:\n",
      "Maior valor: 16900 | Peso: 14.1\n",
      "\n",
      "Você deve pegar os seguintes itens:\n",
      "+ Quadrinho super raro do Aranha-Homem da vida real\n",
      "+ docinhos para o stress\n",
      "+ energético\n",
      "+ tablet\n",
      "+ teclado musical\n",
      "\n",
      "Com isso, sua mochila terá o valor de 16900 dinheiros e peso de 14.1 unidades de massa.\n",
      "\n",
      "===========================================================================================================================================\n",
      "\n",
      "5ª tentativa: 50 gerações:\n",
      "Maior valor: 15050 | Peso: 12.1\n",
      "Maior valor: 16900 | Peso: 14.1\n",
      "\n",
      "Você deve pegar os seguintes itens:\n",
      "+ Quadrinho super raro do Aranha-Homem da vida real\n",
      "+ docinhos para o stress\n",
      "+ energético\n",
      "+ tablet\n",
      "+ teclado musical\n",
      "\n",
      "Com isso, sua mochila terá o valor de 16900 dinheiros e peso de 14.1 unidades de massa.\n",
      "\n",
      "===========================================================================================================================================\n",
      "\n",
      "6ª tentativa: 60 gerações:\n",
      "Maior valor: 13000 | Peso: 13\n",
      "Maior valor: 15500 | Peso: 15\n",
      "\n",
      "Você deve pegar os seguintes itens:\n",
      "+ Harry Potter: ele voltou, confia!\n",
      "+ Quadrinho super raro do Aranha-Homem da vida real\n",
      "+ docinhos para o stress\n",
      "+ energético\n",
      "+ vinil falsificado da volta do One Direction\n",
      "\n",
      "Com isso, sua mochila terá o valor de 15500 dinheiros e peso de 15 unidades de massa.\n",
      "\n",
      "===========================================================================================================================================\n",
      "\n",
      "7ª tentativa: 70 gerações:\n",
      "Maior valor: 16900 | Peso: 14.1\n",
      "Maior valor: 17900 | Peso: 14.1\n",
      "\n",
      "Você deve pegar os seguintes itens:\n",
      "+ Harry Potter: ele voltou, confia!\n",
      "+ Quadrinho super raro do Aranha-Homem da vida real\n",
      "+ energético\n",
      "+ tablet\n",
      "+ teclado musical\n",
      "+ vinil falsificado da volta do One Direction\n",
      "\n",
      "Com isso, sua mochila terá o valor de 17900 dinheiros e peso de 14.1 unidades de massa.\n",
      "\n",
      "===========================================================================================================================================\n",
      "\n",
      "8ª tentativa: 80 gerações:\n",
      "Maior valor: 14000 | Peso: 11.5\n",
      "Maior valor: 16400 | Peso: 12.1\n",
      "Maior valor: 17900 | Peso: 14.1\n",
      "\n",
      "Você deve pegar os seguintes itens:\n",
      "+ Harry Potter: ele voltou, confia!\n",
      "+ Quadrinho super raro do Aranha-Homem da vida real\n",
      "+ energético\n",
      "+ tablet\n",
      "+ teclado musical\n",
      "+ vinil falsificado da volta do One Direction\n",
      "\n",
      "Com isso, sua mochila terá o valor de 17900 dinheiros e peso de 14.1 unidades de massa.\n",
      "\n",
      "===========================================================================================================================================\n",
      "\n",
      "9ª tentativa: 90 gerações:\n",
      "Maior valor: 16550 | Peso: 14.1\n",
      "Maior valor: 17900 | Peso: 14.1\n",
      "\n",
      "Você deve pegar os seguintes itens:\n",
      "+ Harry Potter: ele voltou, confia!\n",
      "+ Quadrinho super raro do Aranha-Homem da vida real\n",
      "+ energético\n",
      "+ tablet\n",
      "+ teclado musical\n",
      "+ vinil falsificado da volta do One Direction\n",
      "\n",
      "Com isso, sua mochila terá o valor de 17900 dinheiros e peso de 14.1 unidades de massa.\n",
      "\n",
      "===========================================================================================================================================\n",
      "\n",
      "10ª tentativa: 100 gerações:\n",
      "Maior valor: 16400 | Peso: 13.6\n",
      "Maior valor: 17900 | Peso: 14.1\n",
      "\n",
      "Você deve pegar os seguintes itens:\n",
      "+ Harry Potter: ele voltou, confia!\n",
      "+ Quadrinho super raro do Aranha-Homem da vida real\n",
      "+ energético\n",
      "+ tablet\n",
      "+ teclado musical\n",
      "+ vinil falsificado da volta do One Direction\n",
      "\n",
      "Com isso, sua mochila terá o valor de 17900 dinheiros e peso de 14.1 unidades de massa.\n",
      "\n",
      "===========================================================================================================================================\n",
      "\n"
     ]
    }
   ],
   "source": [
    "def algoritmo_completo(TAMANHO_POP, NUM_OBJETOS, NUM_GERACOES, CHANCE_CRUZAMENTO, CHANCE_MUTACAO, ORDEM_DOS_NOMES):\n",
    "    # Busca por algoritmo genético\n",
    "\n",
    "    populacao = cria_populacao_inicial(TAMANHO_POP, NUM_OBJETOS)\n",
    "\n",
    "    # variaveis para o hall da fama\n",
    "    melhor_fitness_ja_visto = -float(\"inf\")\n",
    "    melhor_individuo_ja_visto = [0] * NUM_OBJETOS\n",
    "\n",
    "    for n in range(NUM_GERACOES):\n",
    "\n",
    "        # Seleção\n",
    "        fitness = funcao_objetivo_pop(populacao)\n",
    "        populacao = funcao_selecao(populacao, fitness)\n",
    "\n",
    "        # Cruzamento\n",
    "        pais = populacao[0::2]\n",
    "        maes = populacao[1::2]\n",
    "\n",
    "        contador = 0\n",
    "\n",
    "        for pai, mae in zip(pais, maes):\n",
    "            if random.random() <= CHANCE_CRUZAMENTO:\n",
    "                filho1, filho2 = funcao_cruzamento(pai, mae)\n",
    "                populacao[contador] = filho1\n",
    "                populacao[contador + 1] = filho2\n",
    "\n",
    "            contador = contador + 2\n",
    "\n",
    "        # Mutação\n",
    "        for n in range(len(populacao)):\n",
    "            if random.random() <= CHANCE_MUTACAO:\n",
    "                individuo = populacao[n]\n",
    "                populacao[n] = funcao_mutacao(individuo)\n",
    "\n",
    "        # melhor individuo já visto até agora (hall da fama)\n",
    "        fitness = funcao_objetivo_pop(populacao)\n",
    "        maior_fitness = max(fitness)\n",
    "        posicao = fitness.index(maior_fitness)\n",
    "        individuo = populacao[posicao].copy()\n",
    "        valor, peso = computa_mochila(individuo, OBJETOS, ORDEM_DOS_NOMES)\n",
    "        if maior_fitness > melhor_fitness_ja_visto and peso <= LIMITE_DE_PESO:\n",
    "            melhor_fitness_ja_visto = maior_fitness\n",
    "            melhor_individuo_ja_visto = individuo\n",
    "            print(f\"Maior valor: {valor} | Peso: {peso}\")\n",
    "\n",
    "\n",
    "    # reportando o melhor individuo encontrado\n",
    "    print()\n",
    "    print(\"Você deve pegar os seguintes itens:\")\n",
    "    for pega_ou_nao, item in zip(melhor_individuo_ja_visto, ORDEM_DOS_NOMES):\n",
    "        if pega_ou_nao == 1:\n",
    "            print(\"+\", item)\n",
    "    print()\n",
    "    valor_total, peso_total = computa_mochila(\n",
    "        melhor_individuo_ja_visto, OBJETOS, ORDEM_DOS_NOMES\n",
    "    )\n",
    "    print(\n",
    "        f\"Com isso, sua mochila terá o valor de {valor_total} dinheiros \"\n",
    "        f\"e peso de {peso_total} unidades de massa.\"\n",
    "    )\n",
    "\n",
    "for i, n in enumerate(range(10, 101, 10)):\n",
    "    print(f'{i + 1}ª tentativa: {n} gerações:')\n",
    "    NUM_GERACOES = n\n",
    "    algoritmo_completo(TAMANHO_POP, NUM_OBJETOS, NUM_GERACOES, CHANCE_CRUZAMENTO, CHANCE_MUTACAO, ORDEM_DOS_NOMES)\n",
    "    print('\\n===========================================================================================================================================\\n')"
   ]
  },
  {
   "cell_type": "markdown",
   "metadata": {},
   "source": [
    "Na última etapa do algoritmo definimos a função principal do código que fará a iteração das gerações e decorrente propagação do algoritmo na populações. Em cada iteração é pega a população atual e calcula-se seu fit, ou seja, o quão bem cada individuo esta indo no problema. Após o calculo do fit, é feito a escolha dos próximos individuos, os individuos selecionados terão a chance de passar pelo cruzamento ou mutação, ou até mesmo ambos. Estas etapas são necessárias para que haja uma variação entre a população inicial e a seguinte, deste modo, o problema pode convergir para uma solução."
   ]
  },
  {
   "cell_type": "markdown",
   "metadata": {},
   "source": [
    "## Conclusão\n",
    "\n",
    "Neste notebook, nosso objetivo era sintetizar um algoritmo capaz de encontrar a melhor solução para um problema onde tem-se uma mochila com limite de peso (neste caso de 15 Kg) e deseja-se levar o maior valor monetário possível em itens que possuem valores e pesos variados. Para isso, foi criado um algoritmo parecido com o das caixas não binárias, onde o valor 1 representa a presença de tal objeto na mochila e o valor 0 representa sua ausência, deste modo, a implementação do código é dada de maneira simples, já que este é um problema ja resolvido em um notebook passado. Algo importante a se notar é que desta vez temos um algoritimo de maximização com uma limitação, já que queremos o maior valor monetário possível, tentamos maximizar este valor, enquanto nos mantemos abaixo do valor limite de 15 Kg para a mochila.\n",
    "\n",
    "Para determinar a eficácia do algoritmo, este foi rodado 10 vezes com variações em seu número de gerações, estando este entre 10 e 100, em cada uma das iterações é possível ver a melhor solução encontrada com aquela quantidade de gerações. Separadamente não há uma conclusão a ser feita, mas quando comparamos os resultados obtidos podemos observar que conforme o aumento da quantidade de gerações o algoritmo _tende_ a encontrar uma melhor solução, mas este nem sempre será o caso."
   ]
  },
  {
   "cell_type": "markdown",
   "metadata": {},
   "source": [
    "## Playground\n",
    "\n"
   ]
  },
  {
   "cell_type": "markdown",
   "metadata": {},
   "source": [
    "Outro método de calcular o valor e o peso da mochila"
   ]
  },
  {
   "cell_type": "code",
   "execution_count": 5,
   "metadata": {},
   "outputs": [
    {
     "name": "stdout",
     "output_type": "stream",
     "text": [
      "[0, 1, 1, 0, 0, 1, 0, 0, 1, 0]\n",
      "16000 30.5\n"
     ]
    }
   ],
   "source": [
    "ind = [random.randint(0,1) for _ in range(NUM_OBJETOS)]\n",
    "print(ind)\n",
    "\n",
    "fit = sum([OBJETOS[i]['valor'] for i in [ORDEM_DOS_NOMES[i] for i, j in enumerate(ind) if j]])\n",
    "peso = sum([OBJETOS[i]['peso'] for i in [ORDEM_DOS_NOMES[i] for i, j in enumerate(ind) if j]])\n",
    "\n",
    "print(fit, peso)"
   ]
  },
  {
   "cell_type": "code",
   "execution_count": null,
   "metadata": {},
   "outputs": [],
   "source": []
  }
 ],
 "metadata": {
  "kernelspec": {
   "display_name": "ilumpy",
   "language": "python",
   "name": "ilumpy"
  },
  "language_info": {
   "codemirror_mode": {
    "name": "ipython",
    "version": 3
   },
   "file_extension": ".py",
   "mimetype": "text/x-python",
   "name": "python",
   "nbconvert_exporter": "python",
   "pygments_lexer": "ipython3",
   "version": "3.9.7"
  },
  "org": null
 },
 "nbformat": 4,
 "nbformat_minor": 4
}
