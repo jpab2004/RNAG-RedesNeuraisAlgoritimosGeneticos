{
 "cells": [
  {
   "cell_type": "markdown",
   "metadata": {},
   "source": [
    "Busca aleatória\n",
    "===============\n",
    "\n"
   ]
  },
  {
   "cell_type": "markdown",
   "metadata": {},
   "source": [
    "## Introdução\n",
    "\n"
   ]
  },
  {
   "cell_type": "markdown",
   "metadata": {},
   "source": [
    "Uma forma simples de se encontrar uma solução para um `problema de otimização` é realizando uma `busca aleatória`. A busca aleatória, como o próprio nome sugere, é um algoritmo onde um certo `espaço de busca` é definido de onde sorteamos `candidatos` de soluções para o problema.\n",
    "\n",
    "Diferentemente de outros algoritmos de otimização, a busca aleatória não requer que a `função objetivo` seja diferenciável nem contínua.\n",
    "\n",
    "Um algoritmo de busca aleatória segue os seguintes passos:\n",
    "\n",
    "1.  Um espaço de busca é definido\n",
    "\n",
    "2.  Um candidato $x$ dentro do espaço de busca é sorteado aleatoriamente\n",
    "\n",
    "3.  Calculamos o resultado da função objetivo para o candidato $x$\n",
    "\n",
    "4.  Se o critério de parada for atingido, encerrar o algoritmo e retornar ao usuário o candidato que teve melhor resultado durante a busca. Do contrário, retorne ao passo 2\n",
    "\n"
   ]
  },
  {
   "cell_type": "markdown",
   "metadata": {},
   "source": [
    "## Reflexões\n",
    "\n"
   ]
  },
  {
   "cell_type": "markdown",
   "metadata": {},
   "source": [
    "Você diria que o algoritmo de busca aleatória é determinístico ou probabilístico?\n",
    "\n",
    "Em quais problemas de otimização você acredita que este algoritmo seja uma boa escolha?\n",
    "\n",
    "Em quais problemas de otimização você acredita que este algoritmo seja uma má escolha?\n",
    "\n"
   ]
  },
  {
   "cell_type": "markdown",
   "metadata": {},
   "source": [
    "## Objetivo\n",
    "\n"
   ]
  },
  {
   "cell_type": "markdown",
   "metadata": {},
   "source": [
    "Encontrar uma solução para o problema das caixas binárias usando o algoritmo de busca aleatória. Considere 4 caixas.\n",
    "\n"
   ]
  },
  {
   "cell_type": "markdown",
   "metadata": {},
   "source": [
    "## Descrição do problema\n",
    "\n"
   ]
  },
  {
   "cell_type": "markdown",
   "metadata": {},
   "source": [
    "O problema das caixas binárias é simples: nós temos um certo número de caixas e cada uma pode conter um valor do conjunto $\\{0, 1\\}$. O objetivo é encontrar uma combinação de caixas onde a soma dos valores contidos dentro delas é máximo.\n",
    "\n",
    "Como todo problema computacional, um dos desafios é &ldquo;traduzir&rdquo; o problema dado em estruturas computacionais.\n",
    "\n"
   ]
  },
  {
   "cell_type": "markdown",
   "metadata": {},
   "source": [
    "## Importações\n",
    "\n"
   ]
  },
  {
   "cell_type": "code",
   "execution_count": 1,
   "metadata": {},
   "outputs": [],
   "source": [
    "import random\n",
    "from funcoes import individuo_cb, funcao_objetivo_cb, melhor_outcome_cb"
   ]
  },
  {
   "cell_type": "markdown",
   "metadata": {},
   "source": [
    "## Códigos e discussão\n",
    "\n"
   ]
  },
  {
   "cell_type": "code",
   "execution_count": 2,
   "metadata": {},
   "outputs": [],
   "source": [
    "# constantes\n",
    "\n",
    "NUM_CANDIDATOS = 8\n",
    "NUM_GENES = 4"
   ]
  },
  {
   "cell_type": "code",
   "execution_count": 3,
   "metadata": {},
   "outputs": [
    {
     "name": "stdout",
     "output_type": "stream",
     "text": [
      "Indivíduo 1: [1, 1, 0, 0] = 2\n",
      "Indivíduo 2: [1, 0, 1, 0] = 2\n",
      "Indivíduo 3: [0, 0, 1, 1] = 2\n",
      "Indivíduo 4: [1, 1, 1, 0] = 3\n",
      "Indivíduo 5: [1, 1, 0, 1] = 3\n",
      "Indivíduo 6: [1, 0, 0, 1] = 2\n",
      "Indivíduo 7: [0, 1, 0, 1] = 2\n",
      "Indivíduo 8: [0, 1, 1, 0] = 2\n",
      "Melhor indivíduo encontrado: {'melhor': [[1, 1, 1, 0], 3]}\n"
     ]
    }
   ],
   "source": [
    "dicionario = {}\n",
    "\n",
    "for n in range(NUM_CANDIDATOS):\n",
    "    candidato = individuo_cb(NUM_GENES)\n",
    "    fobj = funcao_objetivo_cb(candidato)\n",
    "    dicionario[n] = [candidato, fobj]\n",
    "\n",
    "for key in dicionario:\n",
    "    print(f'Indivíduo {key + 1}: {dicionario[key][0]} = {dicionario[key][1]}')\n",
    "\n",
    "print(f'Melhor indivíduo encontrado: {melhor_outcome_cb(dicionario)}')"
   ]
  },
  {
   "cell_type": "markdown",
   "metadata": {
    "tags": []
   },
   "source": [
    "## Conclusão\n",
    "\n",
    "O objetivo do notebook era resolver o problema das caixas binárias, deste modo, foi utilizado o algoritimo de busca aleatoria para aprender sobre este e para ver qual seria a resolução do problema, além de observar o código em suas ações. No final foi obtido o resultado esperado através do algoritimo, sendo possível observar a natureza probabilistica deste algoritimo, ja que se trata de um conceito de aleatoriedade.\n",
    "\n",
    "### Reflexões\n",
    "\n",
    "#### Você diria que o algoritmo de busca aleatória é determinístico ou probabilístico?\n",
    "Probabilistico, pois sua ferramenta é a aleatoriedade.\n",
    "\n",
    "#### Em quais problemas de otimização você acredita que este algoritmo seja uma boa escolha?\n",
    "Talvez o algoritmo seja uma boa escolha para inicialmente ter uma noção de como o problema pode se desenvolver e para ver como o espaço amostral de seu problema se comporta. Além disto, com espaços amostrais muito grandes e que não se sabe muito bem a 'cara' da resposta, pode ser uma boa escolha utilizar esse algoritmo para ter uma ideia, o problema com isto, seria a demora do algortimo e a incerteza, pois se trata de uma aleatoriedade.\n",
    "\n",
    "#### Em quais problemas de otimização você acredita que este algoritmo seja uma má escolha?\n",
    "Problemas onde a solução pode ser encontrada de maneira mais simples, ou quando ja se tem uma noção de como ela será, podendo ser necessário pequenos ajustes, porém não é necessário um espaço amostral muito amplo."
   ]
  },
  {
   "cell_type": "markdown",
   "metadata": {},
   "source": [
    "## Playground"
   ]
  },
  {
   "cell_type": "code",
   "execution_count": null,
   "metadata": {},
   "outputs": [],
   "source": []
  }
 ],
 "metadata": {
  "kernelspec": {
   "display_name": "ilumpy",
   "language": "python",
   "name": "ilumpy"
  },
  "language_info": {
   "codemirror_mode": {
    "name": "ipython",
    "version": 3
   },
   "file_extension": ".py",
   "mimetype": "text/x-python",
   "name": "python",
   "nbconvert_exporter": "python",
   "pygments_lexer": "ipython3",
   "version": "3.9.7"
  },
  "org": null
 },
 "nbformat": 4,
 "nbformat_minor": 4
}
