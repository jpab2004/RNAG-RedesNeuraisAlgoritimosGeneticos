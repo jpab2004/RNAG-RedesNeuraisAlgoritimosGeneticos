{
 "cells": [
  {
   "cell_type": "markdown",
   "metadata": {},
   "source": [
    "A senha de tamanho variável\n",
    "========================================\n",
    "\n"
   ]
  },
  {
   "cell_type": "markdown",
   "metadata": {},
   "source": [
    "## Introdução\n",
    "\n"
   ]
  },
  {
   "cell_type": "markdown",
   "metadata": {},
   "source": [
    "Este experimento será feito com base no problema da senha, porém, agora não saberemos o tamanho da senha real, sendo necessária mais verificações para chegar à senha real.\n",
    "\n"
   ]
  },
  {
   "cell_type": "markdown",
   "metadata": {},
   "source": [
    "## Objetivo\n",
    "\n",
    "Resolver o problema da senha sem fornecer a informação do tamanho da senha para a função que gera a população."
   ]
  },
  {
   "cell_type": "markdown",
   "metadata": {},
   "source": [
    "## Importações\n",
    "\n"
   ]
  },
  {
   "cell_type": "markdown",
   "metadata": {},
   "source": [
    "Todos os comandos de `import` devem estar dentro desta seção.\n",
    "\n"
   ]
  },
  {
   "cell_type": "code",
   "execution_count": 1,
   "metadata": {},
   "outputs": [],
   "source": [
    "from funcoes import pop_inicial_sv\n",
    "from funcoes import obj_pop_sv\n",
    "from funcoes import selecao_torneio_senha_sv\n",
    "from funcoes import cruzamento_ponto_simples_sv as funcao_cruzamento\n",
    "from funcoes import mutacao_senha_sv\n",
    "from time import perf_counter as pc\n",
    "import random"
   ]
  },
  {
   "cell_type": "markdown",
   "metadata": {},
   "source": [
    "## Códigos e discussão\n",
    "\n"
   ]
  },
  {
   "cell_type": "code",
   "execution_count": 2,
   "metadata": {},
   "outputs": [],
   "source": [
    "# CONSTANTES\n",
    "\n",
    "# Constantes da busca\n",
    "TAMANHO_POP = 20\n",
    "TAMANHO_TORNEIO = 3\n",
    "CHANCE_CRUZAMENTO = .5\n",
    "CHANCE_MUTACAO = .05\n",
    "\n",
    "# Constantes do problema\n",
    "SENHA_REAL = 'Dani a gente demorou umas 3 horas pra fazer :)'\n",
    "LETRAS = 'abcdefghijqlmnopqrstuvwxyzABCDEFGHIJQLMNOPQRSTUVWXYZ0123456789 :)'\n",
    "TAMANHO_SENHA_MAX = 300\n",
    "PESO_PENALIDADE = 70"
   ]
  },
  {
   "cell_type": "code",
   "execution_count": 3,
   "metadata": {},
   "outputs": [],
   "source": [
    "# funções locais\n",
    "def cria_populacao_inicial(tamanho_pop, tamanho_senha_max):\n",
    "    return pop_inicial_sv(tamanho_pop, tamanho_senha_max, LETRAS)\n",
    "\n",
    "def funcao_objetivo_pop(populacao):\n",
    "    return obj_pop_sv(populacao, SENHA_REAL, PESO_PENALIDADE)\n",
    "\n",
    "def funcao_selecao(populacao, fitness):\n",
    "    return selecao_torneio_senha_sv(populacao, fitness, TAMANHO_TORNEIO)\n",
    "\n",
    "def funcao_mutacao(individuo):\n",
    "    return mutacao_senha_sv(individuo, LETRAS, TAMANHO_SENHA_MAX)"
   ]
  },
  {
   "cell_type": "code",
   "execution_count": 4,
   "metadata": {},
   "outputs": [
    {
     "name": "stdout",
     "output_type": "stream",
     "text": [
      "Progresso da melhor senha já vista:\n",
      "Geração:          1 - Indivíduo: vvqxUg6jU9TGBiwMLBPJI6q9                           - fitness: 2238\n",
      "Geração:          3 - Indivíduo: vvqxUg6jU94t)eeoQBVJI6q9                           - fitness: 2167\n",
      "Geração:          4 - Indivíduo: vvqxUg6jU9TG)eeoQBVJI6q9                           - fitness: 2150\n",
      "Geração:          7 - Indivíduo: vvqx5g6jUB4t)eeoQBVJI6q9                           - fitness: 2126\n",
      "Geração:         10 - Indivíduo: vvqx5g6jUB4t)eeoQBVJI6q9W13fV:r3HSmc5xLmijh        - fitness: 1342\n",
      "Geração:         13 - Indivíduo: vvqf5g6jUB4t)eeoQBVJI6q9W13fV:r3HSmc5xLmijh        - fitness: 1330\n",
      "Geração:         15 - Indivíduo: vvqf5g6jUB4t)eeoQBYJI6q9W13fV:r3HSmc5xLmijh        - fitness: 1327\n",
      "Geração:         28 - Indivíduo: vvqf5g6jUB4t)eeoQBYJI6q9W13fV:r3HSmc5xLmieh        - fitness: 1322\n",
      "Geração:         40 - Indivíduo: vvqf5g6jUBit)eeoQBYJI6q9W13fV:r3HSmc5xLmieh        - fitness: 1269\n",
      "Geração:         48 - Indivíduo: vvqf5g6jUBit)eeoQBYqI6q9W13fV:r3HSmc5xLmieh        - fitness: 1230\n",
      "Geração:         57 - Indivíduo: vvqf5g6jUBit)eeoQBYqI6q9W13fVBr3HSmc5xLmieh        - fitness: 1222\n",
      "Geração:         59 - Indivíduo: vvqf5g6jUBit)eeoQBYqI6q9W13fV:r3HSmc5xLmiehr64z    - fitness: 1187\n",
      "Geração:         62 - Indivíduo: vvqf5g6jUBit)eeoQBYqI6q9W13fVBr3HSmc5xLmiehr64z    - fitness: 1179\n",
      "Geração:         64 - Indivíduo: vvqf5g6jUBis)eeoQBYqI6q9W13fVBr3HSmc5xLmiehr64z    - fitness: 1178\n",
      "Geração:         77 - Indivíduo: vvqf5g6jUBis)eeoqBYqI6q9W13fVBr3HSmc5xLmiehr64z    - fitness: 1150\n",
      "Geração:         79 - Indivíduo: vvqf5g6jUBis)eeoqBYqI6qrW13fVBr3HSmc5xLmiehr64z    - fitness: 1127\n",
      "Geração:         92 - Indivíduo: vvqf5g6jUBis)eeoqBYqI6qrW13fVBr3HSmc5xLZiehr64z    - fitness: 1122\n",
      "Geração:         93 - Indivíduo: )vqf5g6jUBis)eeoqBYqI6qrW13fVBr3HSmc5xLmiehr64z    - fitness: 1104\n",
      "Geração:         94 - Indivíduo: )vqf5g6jUBis)eeoqBYqI6qrW13fVBr3HSmc5xLZiehr64z    - fitness: 1099\n",
      "Geração:        109 - Indivíduo: Zvqf5g6jUBis)eeoqBYqI6qrW13fVBr3HSmc5xLZiehr64z    - fitness: 1094\n",
      "Geração:        122 - Indivíduo: Zvqf5g6jUBis)eeoqBYqI6qrW13fmBr3HSmc5xLZiehr64z    - fitness: 1081\n",
      "Geração:        126 - Indivíduo: Zvqf5g6jUBis)eeoqBYqI6qrW13AmBr3HSmc5xLZiehr64z    - fitness: 1044\n",
      "Geração:        132 - Indivíduo: Zvqf5g6jUBis)eeoqBYqI6qrW13AmBr3HSmcjxLZiehr64z    - fitness: 1009\n",
      "Geração:        141 - Indivíduo: Zvqf5g6jUBis)eeoqlYqI6qrW13AmBr3HSmcjxLZiehr64z    - fitness: 967\n",
      "Geração:        148 - Indivíduo: Jvqf5g6jUBis)eeoqlYqI6qrW13AmBr3HSmcjxLZiehr64z    - fitness: 951\n",
      "Geração:        159 - Indivíduo: Jvnf5g6jUBis)eeoqlYqI6qrW13AmBr3HSmcjxLZiehr64z    - fitness: 948\n",
      "Geração:        176 - Indivíduo: Jvnf5g6jUBos)eeoqlYqI6qrW13AmBr3HSmcjxLZiehr64z    - fitness: 942\n",
      "Geração:        181 - Indivíduo: Jvnf5g6jUqos)eeWqlYqI6qrW13AmBr3HSmcjxLZiehr64z    - fitness: 921\n",
      "Geração:        183 - Indivíduo: Jvnf5g6jUBos)eeoqlYqI6qrW13AmBrYHSmcjxLZiehr64z    - fitness: 904\n",
      "Geração:        185 - Indivíduo: Jvnf5g6jUqos)eeoqlYqI6qrW13AmBr3HSmcjxLZiehr64z    - fitness: 901\n",
      "Geração:        186 - Indivíduo: Jvnf5g6jUqos)eeoqlYqI6qrW13AmBrYHSmcjxLZiehr64z    - fitness: 863\n",
      "Geração:        188 - Indivíduo: Jvnf5g6jUqos)eeoqlYqI6qrW13AmBrYHSmcjxLZiehV64z    - fitness: 835\n",
      "Geração:        200 - Indivíduo: Jvnf5g6jUqos)eeoqlYqI6qQW13AmBrYHSmcjxLZiehV64z    - fitness: 834\n",
      "Geração:        203 - Indivíduo: Jvnf5g6jeqos)eeoqlYqI6qQW13AmBrYHSmcjxLZiehV64z    - fitness: 818\n",
      "Geração:        206 - Indivíduo: Jvnf5g6jUqos)eeoqlYqI6qQW13AmXrYHSmcjxLZiehV64z    - fitness: 812\n",
      "Geração:        207 - Indivíduo: Jvnf5g6jeqos)eeoqlYqI6qQW13AmXrYHSmcjxLZiehV64z    - fitness: 796\n",
      "Geração:        208 - Indivíduo: Jvnf5g6jeqos)eeoqlYqI6qQW13AmXrYHQmcjxLZiehV64z    - fitness: 794\n",
      "Geração:        213 - Indivíduo: Jvnf5g6jeqos)eeoqlYqI6qQW13AmXrYHQmcjxLZiehV64     - fitness: 724\n",
      "Geração:        219 - Indivíduo: Jvnf5g6jeqos)eeoqlYqI6qQW13AmXrYZQmcjxLZiehV64     - fitness: 706\n",
      "Geração:        262 - Indivíduo: Jvnf5g6jeqqs)eeoqlYqI6qQW13AmXrYZQmcjxLZiehV64     - fitness: 704\n",
      "Geração:        265 - Indivíduo: Jvnf5g6jeqos)eeoqlYqI6qQW13AmXrYZQmcjxTZiehV64     - fitness: 698\n",
      "Geração:        268 - Indivíduo: Jhnf5g6jeqos)eeoqlYqI6qQW13AmXrYZQmcjxTZiehV64     - fitness: 684\n",
      "Geração:        295 - Indivíduo: Jhnf5g6jeqos)eeoqlYqI6qQW13AmXrYZNmcjxTZiehV64     - fitness: 681\n",
      "Geração:        296 - Indivíduo: Jhnf5g6jeqos)eeoqlaqI6qQW13AmXrYZQmcjxTZiehV64     - fitness: 676\n",
      "Geração:        300 - Indivíduo: Jhnf5g6jeqog)eeoqlaqI6qQW13AmXrYZQmcjxTZiehV64     - fitness: 664\n",
      "Geração:        313 - Indivíduo: Jhnf5g6jeqvg)eeoqlaqI6qQW13AmXrYZQmcjxTZiehV64     - fitness: 661\n",
      "Geração:        364 - Indivíduo: Jhnf5g6jeqvg)eeoqlaqI6qQW13AeXrYZQmcjxTZiehV64     - fitness: 659\n",
      "Geração:        381 - Indivíduo: Jhnf5g6jeqvg)eeoqlhqI6qQW13AeXrYZQmcjxTZiehV64     - fitness: 652\n",
      "Geração:        391 - Indivíduo: Jhnf4g6jeqvg)eeoqlhqI6qQW13AeXrYZQmcjxTZiehV64     - fitness: 651\n",
      "Geração:        397 - Indivíduo: Jhnf4g6jeqvg)eeoqlhqI6qQW13AeXrYZQmcexTZiehV64     - fitness: 646\n",
      "Geração:        401 - Indivíduo: Jhnf4g6jeqvg)eeoqlhqI6qQW13AeXrYZDmcexTZiehV64     - fitness: 633\n",
      "Geração:        405 - Indivíduo: Jhnf4g6jepvg)eeoqlhqI6qQW13AeXrYZDmcexTZiehV64     - fitness: 632\n",
      "Geração:        425 - Indivíduo: Jhnf4g6jepvg)eeoqlhqI6qQW13AeXrYtDmcexTZiehV64     - fitness: 608\n",
      "Geração:        429 - Indivíduo: Jhnf4g6jepvg)eeoqlmqI6qQW13AeXrYtDmcexTZiehV64     - fitness: 603\n",
      "Geração:        434 - Indivíduo: Ghnf4g6jepvg)eeoqlmqI6qQW13AeXrYtDmcexTZiehV64     - fitness: 600\n",
      "Geração:        436 - Indivíduo: Ghnf4g6jepvg)eeoqlmqI6qQY13AeXrYtDmcexTZiehV64     - fitness: 598\n",
      "Geração:        438 - Indivíduo: Ghnf4g6jepvg)eeoqlmqI6qlY13AeXrYtDmcexTZiehV64     - fitness: 593\n",
      "Geração:        440 - Indivíduo: Fhnf4g6jepvg)eeoqlmqI6qlY13AeXrYtDmcexTZiehV64     - fitness: 592\n",
      "Geração:        443 - Indivíduo: Fhnf4g6jepvg)eeoqlmqI6qlY13AeXrYtDmcexTZoehV64     - fitness: 586\n",
      "Geração:        446 - Indivíduo: Fhnf4g6jepvg)eeoqlmqI6qlY130eXrYtDmcexTZoehV64     - fitness: 569\n",
      "Geração:        466 - Indivíduo: Fhnf4g6jepvg)eeoqlmqI6nlY13AeXrYtDmceTTZoehV64     - fitness: 547\n",
      "Geração:        468 - Indivíduo: Fhnf4g6jepvg)eeoqlmqI6nlY13AeXrYt5mceATZoehV64     - fitness: 513\n",
      "Geração:        475 - Indivíduo: Fhnf4g6jepvg)eeoqlmqIsnlY13AeXrYt5mceATZoehV64     - fitness: 452\n",
      "Geração:        497 - Indivíduo: Fhnf4g6jepsg)eeoqlmqIsnlY13AeXrYt5mceATZoehV64     - fitness: 451\n",
      "Geração:        508 - Indivíduo: Fhnf4g6jepsg)eeoqlmqIsnlY13AenrYt5mceATZoehV64     - fitness: 429\n",
      "Geração:        524 - Indivíduo: Fhnf4g6jepsg)eeoqqmqIsnlY13AenrYt5mceATZoehV64     - fitness: 424\n",
      "Geração:        537 - Indivíduo: Fhnf4g6jepsg)eeoqqmqIsnlh13AenrYt5mceATZoehV64     - fitness: 409\n",
      "Geração:        561 - Indivíduo: Fhnf4g6jepsg)eeoqqmqIsnlh13AenrYt5mce0TZoehV64     - fitness: 392\n",
      "Geração:        576 - Indivíduo: Fhnf4g6jepsg)eeoqqmqIsnlh13AenrYt5mce0TZwehV64     - fitness: 384\n",
      "Geração:        603 - Indivíduo: Fhnf4g6jepsg)eeoqqmqIsnlh13AenrYt5mce0TZweh864     - fitness: 354\n",
      "Geração:        650 - Indivíduo: Fhnf4c6jepsg)eeoqqmqIsnlh13AenrYt5mce0TZweh864     - fitness: 350\n",
      "Geração:        660 - Indivíduo: Fhnf4c6jepsg)eeoqqmqIsnlh13AenrYt5mqe0TZweh864     - fitness: 336\n",
      "Geração:        690 - Indivíduo: Fhnf4c6jepsg)eeoqqmqIsnlh13AenrYt5mre0TZweh864     - fitness: 335\n",
      "Geração:        692 - Indivíduo: Fhnf4c6jepsg)eeoqqmqIsnlh13AenrYt5mqe0Tdweh864     - fitness: 332\n",
      "Geração:        710 - Indivíduo: Fhnf4c6jepsg)eeoqqmqIsneh13AenrYt5mqe0Tdweh864     - fitness: 325\n",
      "Geração:        715 - Indivíduo: Fhnf4c6jemsg)eeoqqmqIsneh13AenrYt5mqe0Tdweh864     - fitness: 324\n",
      "Geração:        718 - Indivíduo: Fhnf4c6jemsg)eeoqqmqIsneh13AenrYt5mqe0Tdwez864     - fitness: 322\n",
      "Geração:        765 - Indivíduo: Fhnf4c6jemsg)eeoqqmqIsneh139enrYt5mqe0Tdwez864     - fitness: 314\n",
      "Geração:        772 - Indivíduo: Fhnf4c6jemsg)eeopqmqIsneh139enrYt5mqe0Tdwez864     - fitness: 313\n",
      "Geração:        812 - Indivíduo: Fhnf4c6jemsg)eeopqmqIsnah139enrYt5mqe0Tdwez864     - fitness: 309\n",
      "Geração:        818 - Indivíduo: Fhnf4c6jemsg)eeopqmqIsnah139enrYt5mqe0gdwez864     - fitness: 292\n",
      "Geração:        828 - Indivíduo: Fhnf4c6jemsg)eeopqmqIsnah139enrYt5mqe0gdwel864     - fitness: 290\n",
      "Geração:        952 - Indivíduo: Fhnf4c6jemsg)eeopqmqIsnah139fnrYt5mqe0gdwel864     - fitness: 289\n",
      "Geração:       1026 - Indivíduo: Fhnf4c6jemsg)eeopqmqIsnah139fnrYt5mqa0gdwel864     - fitness: 285\n",
      "Geração:       1100 - Indivíduo: Fhnf4c6jemsf)eeopqmqIsnah139fnrYt5mqa0gdwel864     - fitness: 284\n",
      "Geração:       1129 - Indivíduo: Fhnf4c6jemsf)eeopqmqIsnah13 fnrYt5mqa0gdwel864     - fitness: 259\n",
      "Geração:       1245 - Indivíduo: Fhnf4c6jemsf)eeopqmqDsnah13 fnrYt5mqa0gdwel864     - fitness: 254\n",
      "Geração:       1264 - Indivíduo: Fhnf4c6jemsf)eeoprmqDsnah13 fnrYt5mqa0gdwel864     - fitness: 253\n",
      "Geração:       1277 - Indivíduo: Fhnf)c6jemsf)eeoprmqDsnah13 fnrYt5mqa0gdwel864     - fitness: 242\n",
      "Geração:       1335 - Indivíduo: Fhnf)c6jemsf)eeoprmqDsnah13 fnrYt5mqa0gdwen864     - fitness: 240\n",
      "Geração:       1358 - Indivíduo: Fhnf)c6jemsf)eeoprmqDsnan13 fnrYt5mqa0gdwen864     - fitness: 234\n",
      "Geração:       1362 - Indivíduo: Fhnf)c6jemsf)eeoprmqDsnan13 fnrYt5mqa0gdwen764     - fitness: 233\n",
      "Geração:       1375 - Indivíduo: Fhnf)c6iemsf)eeoprmqDsnan13 fnrYt5mqa0gdwen764     - fitness: 232\n",
      "Geração:       1445 - Indivíduo: Fhnf)c6jemtf)eenprmqDsnan13 fnrYt5mqa0gdwen764     - fitness: 231\n",
      "Geração:       1456 - Indivíduo: Fdnf)c6jemtf)eenprmqDsnan13 fnrYt5mqa0gdwen764     - fitness: 227\n",
      "Geração:       1488 - Indivíduo: Fdnf)c6jemtf)eenprpqDsnan13 fnrYt5mqa0gdwen764     - fitness: 226\n",
      "Geração:       1496 - Indivíduo: Fdnf)c6jemtf)eenprpqDsnan13 fnrbt5mqa0gdwen764     - fitness: 219\n",
      "Geração:       1503 - Indivíduo: Fdnf)c6jemtf)eenprpq5snan13 fnrbt5mqa0gdwen764     - fitness: 204\n",
      "Geração:       1526 - Indivíduo: Fdnf)c6jemtf)eenprpq5snan13 fnrbt5mqa0gdwer764     - fitness: 200\n",
      "Geração:       1566 - Indivíduo: Fdnf)c6jemtf)eenprpq5snan13 fnrbt5mqa0gdwer760     - fitness: 196\n",
      "Geração:       1589 - Indivíduo: Fdnf)c6jemtf)eenprpq5snan13 fnrbt3mqa0gdwer760     - fitness: 194\n",
      "Geração:       1618 - Indivíduo: Fdnf)c6jemtf)eenprpq5snaw13 fnrbt3mqa0gdwer760     - fitness: 193\n",
      "Geração:       1758 - Indivíduo: Fdnf)c6eemtf)eenprpq5snaw13 fnrbt3mqa0gdwer760     - fitness: 192\n",
      "Geração:       1957 - Indivíduo: Fdnf)c6eemtf)eenprpq5snaw13 fnrbt3mqa0gdwer 60     - fitness: 169\n",
      "Geração:       2094 - Indivíduo: Fdnf)c6femtf)eenprpq5snaw13 fnrbt3mqa0gdwer 60     - fitness: 168\n",
      "Geração:       2118 - Indivíduo: Fdnf)c6femtf)eenprpq5snau13 fnrbt3mqa0gdwer 60     - fitness: 166\n",
      "Geração:       2127 - Indivíduo: Fdnf)c6femtf)eenprpq5snau13 fnrbt3mra0gdwer 60     - fitness: 165\n",
      "Geração:       2131 - Indivíduo: Fdnf)c6femtf)eenprpq5snau13 fnrbt0mra0gdwer 60     - fitness: 162\n",
      "Geração:       2253 - Indivíduo: Fdnf)c6femtf)eenprpq5snau 3 fnrbt0mra0gdwer 60     - fitness: 145\n",
      "Geração:       2321 - Indivíduo: Fdnf)c6femtf)eenprpq5snau 3 fnrbt0mra gdwer 60     - fitness: 129\n",
      "Geração:       2509 - Indivíduo: Fdnf)c6femtf)eenprpq2snau 3 fnrbt0mra gdwer 60     - fitness: 126\n",
      "Geração:       2687 - Indivíduo: Fdnf)c6femtf)eenprpq2snau 3 fnrbt0ora gdwer 60     - fitness: 124\n",
      "Geração:       2801 - Indivíduo: Fdnf)c6femtf)eenprpq2smau 3 fnrbt0ora gdwer 60     - fitness: 123\n",
      "Geração:       2832 - Indivíduo: Fdnf)c5femtf)eenprpq2smau 3 fnrbt0ora gdwer 60     - fitness: 122\n",
      "Geração:       2987 - Indivíduo: Fdnf)c5femtf)eemprpq2smau 3 fnrbt0ora gdwer 60     - fitness: 121\n",
      "Geração:       3097 - Indivíduo: Fdnf)c5gemtf)eenprpq2smau 3 fnrbt0ora gdwer 90     - fitness: 118\n",
      "Geração:       3256 - Indivíduo: Fanf)c5gemtf)eenprpq2smau 3 fnrbt0ora gdwer 90     - fitness: 115\n",
      "Geração:       3548 - Indivíduo: Fanf)c5gemtf)eenprpq2smau 3 gnrbt0ora gdwer 90     - fitness: 114\n",
      "Geração:       3574 - Indivíduo: Fanf)c5gemtf)eenprpq2smau 3 gnrat0ora gdwer 90     - fitness: 113\n",
      "Geração:       3759 - Indivíduo: Fanf)c5gemtf)eenprpq2smar 3 gnrat0ora gdwer 90     - fitness: 112\n",
      "Geração:       4034 - Indivíduo: Fanf)c5gentf)eenprpq2smar 3 gnrat0ora gdwer 90     - fitness: 111\n",
      "Geração:       4119 - Indivíduo: Fanf)c5gentf)eenprpq2smar 3 gnrat0ora gdwer :0     - fitness: 110\n",
      "Geração:       4184 - Indivíduo: Fanf)c5gentf)eenprpq2smar 3 gnrat0ora fdwer :0     - fitness: 109\n",
      "Geração:       4194 - Indivíduo: Fanf)c5gentf)eenprpq2smar 3 gnrat0ora fdyer :0     - fitness: 107\n",
      "Geração:       4287 - Indivíduo: Fanf)c5gentf)eenprpq2smar 3 gnrat0ora fdzer :0     - fitness: 106\n",
      "Geração:       4685 - Indivíduo: Fanf)c5gentf)eenprpq2smar 3 gnrat0ora fbzer :0     - fitness: 104\n",
      "Geração:       4704 - Indivíduo: Fanf)c5gentf)eenprpq smar 3 gnrat0ora fbzer :0     - fitness: 86\n",
      "Geração:       4789 - Indivíduo: Fanf)c5gentf)eenprpu smar 3 gnrat0ora fbzer :0     - fitness: 82\n",
      "Geração:       5206 - Indivíduo: Fanf)c5gentf)eenprpu smar 3 gnrat)ora fbzer :0     - fitness: 75\n",
      "Geração:       5325 - Indivíduo: Fanf)c5gentf)eenprpu smar 3 gnrat)pra fbzer :0     - fitness: 74\n",
      "Geração:       5991 - Indivíduo: Fanh)c5gentf)eenprpu smar 3 gnrat)pra fbzer :0     - fitness: 72\n",
      "Geração:       6058 - Indivíduo: Fanh c5gentf)eenprpu smar 3 gnrat)pra fbzer :0     - fitness: 63\n",
      "Geração:       6156 - Indivíduo: Fanh c5gentf)eenprpu smas 3 gnrat)pra fbzer :0     - fitness: 62\n",
      "Geração:       6168 - Indivíduo: Danh c5gentf)eenprpu smas 3 gnrat)pra fbzer :0     - fitness: 60\n",
      "Geração:       6176 - Indivíduo: Danh b5gentf)eenprpu smas 3 gnrat)pra fbzer :0     - fitness: 59\n",
      "Geração:       6278 - Indivíduo: Danh b5gentf)eenprpu umas 3 gnrat)pra fbzer :0     - fitness: 57\n",
      "Geração:       6373 - Indivíduo: Danh b5gentf)eenprpu umas 3 gnrat)pra fazer :0     - fitness: 56\n",
      "Geração:       6786 - Indivíduo: Danh b5gentf)eenprpu umas 3 gorat)pra fazer :0     - fitness: 55\n",
      "Geração:       7220 - Indivíduo: Danh a5gentf)eenprpu umas 3 gorat)pra fazer :0     - fitness: 54\n",
      "Geração:       9129 - Indivíduo: Danh a)gentf)eenprpu umas 3 gorat)pra fazer :0     - fitness: 42\n",
      "Geração:       9374 - Indivíduo: Dani a)gentf)eenprpu umas 3 gorat)pra fazer :0     - fitness: 41\n",
      "Geração:       9486 - Indivíduo: Dani a)gentf eenprpu umas 3 gorat)pra fazer :0     - fitness: 32\n",
      "Geração:       9986 - Indivíduo: Dani a)gente eenprpu umas 3 gorat)pra fazer :0     - fitness: 31\n",
      "Geração:       9994 - Indivíduo: Dani a)gente denprpu umas 3 gorat)pra fazer :0     - fitness: 30\n",
      "Geração:      13547 - Indivíduo: Dani a)gente denprpu umas 3 horar)pra fazer :0     - fitness: 29\n",
      "Geração:      13657 - Indivíduo: Dani a)gente denprou umas 3 horar)pra fazer :0     - fitness: 28\n",
      "Geração:      14675 - Indivíduo: Dani a gente denprou umas 3 horar)pra fazer :0     - fitness: 19\n",
      "Geração:      14744 - Indivíduo: Dani a gente denorou umas 3 horar)pra fazer :0     - fitness: 18\n",
      "Geração:      17174 - Indivíduo: Dani a gente denorou umas 3 horas)pra fazer :0     - fitness: 17\n",
      "Geração:      18984 - Indivíduo: Dani a gente demorou umas 3 horas)pra fazer :0     - fitness: 16\n",
      "Geração:      29962 - Indivíduo: Dani a gente demorou umas 3 horas pra fazer :0     - fitness: 7\n",
      "Geração:      38828 - Indivíduo: Dani a gente demorou umas 3 horas pra fazer :)     - fitness: 0\n",
      "\n",
      "Melhor palpite da senha encontrado: Dani a gente demorou umas 3 horas pra fazer :) \n",
      "Número de Gerações total: 38829\n",
      "\n",
      "Tempo de execução do código: 12.84814 s\n"
     ]
    }
   ],
   "source": [
    "inicio = pc()\n",
    "\n",
    "populacao = cria_populacao_inicial(TAMANHO_POP, TAMANHO_SENHA_MAX)\n",
    "\n",
    "melhor_fitness_ja_visto = float('inf')  # é assim que escrevemos infinito em python\n",
    "\n",
    "print('Progresso da melhor senha já vista:')\n",
    "\n",
    "num_gen = 1\n",
    "while melhor_fitness_ja_visto != 0:    \n",
    "    # Seleção\n",
    "    fitness = funcao_objetivo_pop(populacao)\n",
    "    populacao = funcao_selecao(populacao, fitness)\n",
    "    \n",
    "    # Cruzamento\n",
    "    pais = populacao[0::2]\n",
    "    maes = populacao[1::2]\n",
    "    \n",
    "    contador = 0\n",
    "    \n",
    "    for pai, mae in zip(pais, maes):\n",
    "        if random.random() <= CHANCE_CRUZAMENTO:\n",
    "            filho1, filho2 = funcao_cruzamento(pai, mae)\n",
    "            populacao[contador] = filho1\n",
    "            populacao[contador + 1] = filho2\n",
    "        \n",
    "        contador = contador + 2   \n",
    "        \n",
    "    # Mutação\n",
    "    for n in range(len(populacao)):\n",
    "        if random.random() <= CHANCE_MUTACAO:\n",
    "            individuo = populacao[n]\n",
    "            populacao[n] = funcao_mutacao(individuo)            \n",
    "            \n",
    "    # melhor individuo já visto até agora\n",
    "    fitness = funcao_objetivo_pop(populacao)\n",
    "    menor_fitness = min(fitness)\n",
    "    if menor_fitness < melhor_fitness_ja_visto:        \n",
    "        posicao = fitness.index(menor_fitness)\n",
    "        melhor_individuo_ja_visto = populacao[posicao]\n",
    "        melhor_fitness_ja_visto = menor_fitness\n",
    "        string_individuo = ''.join(melhor_individuo_ja_visto)\n",
    "        print(f'Geração: {num_gen:10} - Indivíduo: {string_individuo:50} - fitness: {melhor_fitness_ja_visto}')\n",
    "        \n",
    "    num_gen += 1\n",
    "\n",
    "print()\n",
    "print('Melhor palpite da senha encontrado:', ''.join(melhor_individuo_ja_visto), f'\\nNúmero de Gerações total: {num_gen}')\n",
    "\n",
    "fim = pc()\n",
    "print(f'\\nTempo de execução do código: {fim-inicio:.5f} s')"
   ]
  },
  {
   "cell_type": "markdown",
   "metadata": {},
   "source": [
    "Podemos ver que o algoritmo foi capaz de alcançar o objetivo de encontrar a senha de maneira totalmente autonoma. Levando um tempo considerável de 13 segundos, porém para um problema de natureza complexa e dificil de se chegar à resposta."
   ]
  },
  {
   "cell_type": "markdown",
   "metadata": {},
   "source": [
    "## Conclusão\n",
    "\n",
    "O objetivo do experimento foi alcançado e de maneira satisfatória, ja que o algoritmo desenvolvido foi capaz de chegar à solução do problema em tempo relativamente curto e de maneira eficiente, não sendo necessário gastar muitos recursos para tal resultado. Foram utilizados apenas 20 individuos por população, e como cada individuo é apenas uma lista, todas as iterações realizadas podem ser consideradas rápidas dentro de cada geração. Deste modo, o algoritmo foi um sucesso e pode ser considerado como completo.\n",
    "\n",
    "Outra informação importante a se ressaltar é a facilidade de se perceber a convergência à uma resposta próxima a resposta ideal, já que em poucas gerações o algoritmo foi capaz de convergir em um tamanho de indivíduo ideal."
   ]
  },
  {
   "cell_type": "markdown",
   "metadata": {},
   "source": [
    "## Playground\n",
    "\n"
   ]
  },
  {
   "cell_type": "markdown",
   "metadata": {},
   "source": [
    "Todo código de teste que não faz parte do seu experimento deve vir aqui. Este código não será considerado na avaliação.\n",
    "\n"
   ]
  },
  {
   "cell_type": "code",
   "execution_count": null,
   "metadata": {},
   "outputs": [],
   "source": []
  }
 ],
 "metadata": {
  "kernelspec": {
   "display_name": "ilumpy",
   "language": "python",
   "name": "ilumpy"
  },
  "language_info": {
   "codemirror_mode": {
    "name": "ipython",
    "version": 3
   },
   "file_extension": ".py",
   "mimetype": "text/x-python",
   "name": "python",
   "nbconvert_exporter": "python",
   "pygments_lexer": "ipython3",
   "version": "3.9.7"
  },
  "org": null
 },
 "nbformat": 4,
 "nbformat_minor": 4
}
