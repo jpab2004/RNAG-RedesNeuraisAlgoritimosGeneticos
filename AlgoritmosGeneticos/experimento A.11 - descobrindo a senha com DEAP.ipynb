{
 "cells": [
  {
   "cell_type": "markdown",
   "metadata": {},
   "source": [
    "Descobrindo a senha com DEAP\n",
    "============================\n",
    "\n"
   ]
  },
  {
   "cell_type": "markdown",
   "metadata": {},
   "source": [
    "## Importações\n",
    "\n"
   ]
  },
  {
   "cell_type": "code",
   "execution_count": 1,
   "metadata": {},
   "outputs": [],
   "source": [
    "import random\n",
    "import numpy as np\n",
    "\n",
    "from deap import base\n",
    "from deap import creator\n",
    "from deap import tools\n",
    "from deap.algorithms import eaSimple\n",
    "\n",
    "from funcoes import gene_letra"
   ]
  },
  {
   "cell_type": "markdown",
   "metadata": {},
   "source": [
    "## Problema da senha usando `DEAP`\n",
    "\n"
   ]
  },
  {
   "cell_type": "markdown",
   "metadata": {},
   "source": [
    "Primeiro definimos as constantes.\n",
    "\n"
   ]
  },
  {
   "cell_type": "code",
   "execution_count": 2,
   "metadata": {},
   "outputs": [],
   "source": [
    "# relacionadas ao problema a ser resolvido\n",
    "SENHA = \"correcthorsebatterystaple\"\n",
    "LETRAS_POSSIVEIS = \"abcdefghijklmnopqrstuvwxyz\"\n",
    "NUM_GENES = len(SENHA)\n",
    "\n",
    "# relacionadas à busca\n",
    "TAMANHO_POP = 50\n",
    "NUM_GERACOES = 100\n",
    "CHANCE_CRUZAMENTO = 0.5\n",
    "CHANCE_MUTACAO = 0.15\n",
    "NUM_COMBATENTES_NO_TORNEIO = 3\n",
    "TAMANHO_HALL_DA_FAMA = 1"
   ]
  },
  {
   "cell_type": "markdown",
   "metadata": {},
   "source": [
    "Precisamos definir a função objetivo também.\n",
    "\n"
   ]
  },
  {
   "cell_type": "code",
   "execution_count": 3,
   "metadata": {},
   "outputs": [],
   "source": [
    "def funcao_objetivo_senha(individuo, senha_verdadeira):\n",
    "    \"\"\"Computa a funcao objetivo de um individuo no problema da senha\n",
    "\n",
    "    Args:\n",
    "      individiuo: lista contendo as letras da senha\n",
    "      senha_verdadeira: a senha que você está tentando descobrir\n",
    "\n",
    "    Returns:\n",
    "      Uma tupla com a  \"distância\" entre a senha proposta e a senha verdadeira.\n",
    "      Essa distância é medida letra por letra. Quanto mais distante uma letra\n",
    "      for da que deveria ser, maior é essa distância.\n",
    "    \"\"\"\n",
    "    diferenca = 0\n",
    "\n",
    "    for letra_candidato, letra_oficial in zip(individuo, senha_verdadeira):\n",
    "        diferenca = diferenca + abs(ord(letra_candidato) - ord(letra_oficial))\n",
    "\n",
    "    return (diferenca, )"
   ]
  },
  {
   "cell_type": "markdown",
   "metadata": {},
   "source": [
    "O `DEAP` não tem uma função de mutação de letras, precisamos usar a que nós criamos na disciplina. Tem um pequeno porém, o `DEAP` espera que a função de mutação retorne um indivíduo dentro de uma tupla. Não sei dizer o motivo dessa escolha, temos que aceitar e seguir.\n",
    "\n"
   ]
  },
  {
   "cell_type": "code",
   "execution_count": 4,
   "metadata": {},
   "outputs": [],
   "source": [
    "def mutacao_senha(individuo, letras):\n",
    "    \"\"\"Realiza a mutação de um gene no problema da senha.\n",
    "\n",
    "    Args:\n",
    "      individuo: uma lista representado um individuo no problema da senha\n",
    "      letras: letras possíveis de serem sorteadas.\n",
    "\n",
    "    Return:\n",
    "      Uma tupla de um individuo (senha) com um gene mutado.\n",
    "    \"\"\"\n",
    "    gene = random.randint(0, len(individuo) - 1)\n",
    "    individuo[gene] = gene_letra(letras)\n",
    "    return (individuo, )"
   ]
  },
  {
   "cell_type": "markdown",
   "metadata": {},
   "source": [
    "O restante não tem segredo. Único detalhe é que agora o problema é de minimização, então precisamos alterar isso.\n",
    "\n"
   ]
  },
  {
   "cell_type": "code",
   "execution_count": 5,
   "metadata": {},
   "outputs": [
    {
     "name": "stdout",
     "output_type": "stream",
     "text": [
      "gen\tnevals\tavg   \tstd    \tmin\tmax\n",
      "0  \t50    \t218.62\t31.2915\t161\t279\n",
      "1  \t31    \t189.78\t24.9602\t145\t255\n",
      "2  \t30    \t171.86\t19.8837\t129\t221\n",
      "3  \t27    \t159.18\t14.8306\t122\t196\n",
      "4  \t30    \t149.28\t11.3279\t122\t178\n",
      "5  \t38    \t140.78\t13.6151\t106\t174\n",
      "6  \t30    \t128.46\t9.68341\t105\t147\n",
      "7  \t29    \t119.14\t10.7331\t100\t143\n",
      "8  \t30    \t111.98\t9.37548\t95 \t137\n",
      "9  \t32    \t106.74\t7.23826\t94 \t129\n",
      "10 \t27    \t101.98\t7.70582\t81 \t126\n",
      "11 \t28    \t96.38 \t7.36177\t81 \t112\n",
      "12 \t27    \t91.54 \t7.13361\t81 \t115\n",
      "13 \t22    \t86.1  \t5.92368\t81 \t112\n",
      "14 \t26    \t83.12 \t3.88144\t75 \t100\n",
      "15 \t28    \t82.48 \t6.09669\t77 \t104\n",
      "16 \t35    \t80.06 \t4.21146\t71 \t92 \n",
      "17 \t27    \t77.46 \t3.69437\t71 \t90 \n",
      "18 \t31    \t76.02 \t5.29713\t68 \t100\n",
      "19 \t35    \t73.24 \t3.91183\t64 \t84 \n",
      "20 \t33    \t70.5  \t4.11947\t62 \t79 \n",
      "21 \t26    \t69.32 \t6.10718\t58 \t87 \n",
      "22 \t36    \t64.58 \t3.91964\t58 \t79 \n",
      "23 \t28    \t62.7  \t4.90408\t52 \t80 \n",
      "24 \t37    \t60.48 \t5.97073\t46 \t84 \n",
      "25 \t31    \t56.36 \t3.65382\t49 \t69 \n",
      "26 \t28    \t54.04 \t4.01477\t48 \t73 \n",
      "27 \t26    \t52.34 \t3.68027\t47 \t66 \n",
      "28 \t23    \t51.74 \t4.78669\t47 \t74 \n",
      "29 \t27    \t49.9  \t3.75366\t47 \t66 \n",
      "30 \t24    \t49.28 \t4.30832\t47 \t70 \n",
      "31 \t21    \t47.48 \t1.44554\t45 \t56 \n",
      "32 \t26    \t48.22 \t4.05112\t45 \t66 \n",
      "33 \t29    \t47.34 \t3.35625\t42 \t65 \n",
      "34 \t22    \t46.54 \t3.34789\t42 \t58 \n",
      "35 \t34    \t45.32 \t2.80314\t41 \t57 \n",
      "36 \t22    \t44.54 \t2.82991\t41 \t54 \n",
      "37 \t27    \t44.24 \t4.86851\t40 \t61 \n",
      "38 \t29    \t42.2  \t3.00666\t40 \t60 \n",
      "39 \t30    \t42.32 \t3.56337\t40 \t57 \n",
      "40 \t24    \t41.5  \t4.00125\t39 \t63 \n",
      "41 \t31    \t40.82 \t2.6585 \t38 \t50 \n",
      "42 \t26    \t40.04 \t2.97966\t38 \t56 \n",
      "43 \t26    \t40.1  \t4.05093\t37 \t56 \n",
      "44 \t28    \t39.92 \t3.83061\t36 \t57 \n",
      "45 \t28    \t38.78 \t3.23289\t36 \t54 \n",
      "46 \t24    \t37.52 \t1.45931\t36 \t45 \n",
      "47 \t34    \t37.72 \t3.8212 \t35 \t55 \n",
      "48 \t25    \t37.8  \t4.51664\t34 \t58 \n",
      "49 \t25    \t36.88 \t3.95292\t33 \t53 \n",
      "50 \t25    \t36.14 \t4.27556\t33 \t56 \n",
      "51 \t18    \t35.7  \t4.7634 \t33 \t53 \n",
      "52 \t25    \t35.58 \t5.28049\t31 \t54 \n",
      "53 \t38    \t33.58 \t3.09897\t27 \t46 \n",
      "54 \t17    \t33.14 \t3.3467 \t31 \t45 \n",
      "55 \t26    \t32.24 \t2.68   \t31 \t45 \n",
      "56 \t29    \t32.02 \t3.86   \t27 \t51 \n",
      "57 \t37    \t30.82 \t2.35533\t24 \t40 \n",
      "58 \t29    \t30.62 \t4.75769\t22 \t48 \n",
      "59 \t35    \t27.76 \t3.74465\t20 \t48 \n",
      "60 \t24    \t25.7  \t3.41906\t20 \t40 \n",
      "61 \t29    \t23.78 \t4.15832\t20 \t39 \n",
      "62 \t27    \t22.22 \t4.08064\t20 \t40 \n",
      "63 \t26    \t21.76 \t4.10151\t20 \t41 \n",
      "64 \t31    \t21.98 \t4.4294 \t19 \t38 \n",
      "65 \t15    \t20.62 \t3.27347\t19 \t42 \n",
      "66 \t29    \t19.86 \t0.529528\t19 \t22 \n",
      "67 \t36    \t20.3  \t2.98161 \t19 \t35 \n",
      "68 \t33    \t19.98 \t2.2315  \t19 \t30 \n",
      "69 \t30    \t20.18 \t3.96328 \t19 \t38 \n",
      "70 \t29    \t19.82 \t3.26613 \t18 \t37 \n",
      "71 \t28    \t19.56 \t1.68713 \t18 \t27 \n",
      "72 \t26    \t20.2  \t3.87814 \t18 \t35 \n",
      "73 \t35    \t20.48 \t4.83421 \t18 \t39 \n",
      "74 \t22    \t19.68 \t4.43369 \t18 \t40 \n",
      "75 \t29    \t19.6  \t4.30813 \t17 \t35 \n",
      "76 \t24    \t19.34 \t4.13091 \t17 \t38 \n",
      "77 \t23    \t18.72 \t4.43639 \t17 \t42 \n",
      "78 \t28    \t19.12 \t4.73134 \t17 \t38 \n",
      "79 \t33    \t18.2  \t3.81051 \t15 \t37 \n",
      "80 \t30    \t18.04 \t3.76276 \t15 \t32 \n",
      "81 \t27    \t17.82 \t4.10215 \t15 \t33 \n",
      "82 \t25    \t16.58 \t2.82906 \t14 \t31 \n",
      "83 \t32    \t18.04 \t5.34775 \t15 \t36 \n",
      "84 \t27    \t15.82 \t2.26    \t14 \t27 \n",
      "85 \t29    \t15.66 \t2.47071 \t14 \t30 \n",
      "86 \t33    \t17.76 \t5.76042 \t14 \t38 \n",
      "87 \t29    \t17.12 \t5.89454 \t14 \t37 \n",
      "88 \t25    \t15.1  \t3.47131 \t14 \t32 \n",
      "89 \t28    \t17.34 \t6.5532  \t14 \t38 \n",
      "90 \t25    \t14.88 \t3.3265  \t14 \t37 \n",
      "91 \t32    \t15.66 \t4.35711 \t13 \t31 \n",
      "92 \t33    \t14.42 \t1.75602 \t13 \t23 \n",
      "93 \t26    \t14.58 \t2.50671 \t13 \t30 \n",
      "94 \t32    \t15.9  \t5.80086 \t13 \t38 \n",
      "95 \t31    \t15.82 \t4.24118 \t13 \t32 \n",
      "96 \t33    \t14.96 \t3.25552 \t13 \t28 \n",
      "97 \t29    \t16.22 \t5.84223 \t13 \t34 \n",
      "98 \t32    \t14.8  \t4.61303 \t13 \t37 \n",
      "99 \t24    \t13.6  \t2.04939 \t13 \t26 \n",
      "100\t30    \t13.82 \t2.95086 \t13 \t31 \n",
      "\n",
      "Hall da fama:\n",
      "dorreetgmrsdbavtdsyttbple\n"
     ]
    }
   ],
   "source": [
    "# Devemos alterar aqui por ser um problema de minimização\n",
    "creator.create(\"Fitness_min\", base.Fitness, weights=(-1.0,))\n",
    "creator.create(\"Individual\", list, fitness=creator.Fitness_min)\n",
    "\n",
    "toolbox = base.Toolbox()\n",
    "\n",
    "toolbox.register(\"cria_gene\", gene_letra, LETRAS_POSSIVEIS)\n",
    "toolbox.register(\n",
    "    \"individual\",\n",
    "    tools.initRepeat,\n",
    "    creator.Individual,\n",
    "    toolbox.cria_gene,\n",
    "    NUM_GENES,\n",
    ")\n",
    "toolbox.register(\n",
    "    \"population\", tools.initRepeat, list, toolbox.individual, TAMANHO_POP\n",
    ")\n",
    "toolbox.register(\"evaluate\", funcao_objetivo_senha, SENHA)\n",
    "toolbox.register(\n",
    "    \"select\", tools.selTournament, tournsize=NUM_COMBATENTES_NO_TORNEIO\n",
    ")\n",
    "toolbox.register(\"mate\", tools.cxOnePoint)\n",
    "toolbox.register(\n",
    "    \"mutate\",\n",
    "    mutacao_senha,\n",
    "    letras=LETRAS_POSSIVEIS\n",
    ")\n",
    "\n",
    "hall_da_fama = tools.HallOfFame(TAMANHO_HALL_DA_FAMA)\n",
    "\n",
    "estatisticas = tools.Statistics(lambda ind: ind.fitness.values)\n",
    "estatisticas.register(\"avg\", np.mean)\n",
    "estatisticas.register(\"std\", np.std)\n",
    "estatisticas.register(\"min\", np.min)\n",
    "estatisticas.register(\"max\", np.max)\n",
    "\n",
    "populacao_inicial = toolbox.population()\n",
    "\n",
    "populacao_final, log = eaSimple(\n",
    "    populacao_inicial,\n",
    "    toolbox,\n",
    "    cxpb=CHANCE_CRUZAMENTO,\n",
    "    mutpb=CHANCE_MUTACAO,\n",
    "    ngen=NUM_GERACOES,\n",
    "    stats=estatisticas,\n",
    "    halloffame=hall_da_fama,\n",
    "    verbose=True,\n",
    ")\n",
    "\n",
    "print()\n",
    "print(\"Hall da fama:\")\n",
    "print(\"\".join(hall_da_fama.items[0]))"
   ]
  }
 ],
 "metadata": {
  "kernelspec": {
   "display_name": "ilumpy",
   "language": "python",
   "name": "ilumpy"
  },
  "language_info": {
   "codemirror_mode": {
    "name": "ipython",
    "version": 3
   },
   "file_extension": ".py",
   "mimetype": "text/x-python",
   "name": "python",
   "nbconvert_exporter": "python",
   "pygments_lexer": "ipython3",
   "version": "3.10.6"
  },
  "org": null
 },
 "nbformat": 4,
 "nbformat_minor": 4
}
