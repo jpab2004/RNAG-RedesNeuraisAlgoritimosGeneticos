{
 "cells": [
  {
   "cell_type": "markdown",
   "metadata": {},
   "source": [
    "Caixeiro viajante\n",
    "=================\n",
    "\n"
   ]
  },
  {
   "cell_type": "markdown",
   "metadata": {},
   "source": [
    "## Introdução\n",
    "\n"
   ]
  },
  {
   "cell_type": "markdown",
   "metadata": {},
   "source": [
    "Até agora, sempre que nós aplicamos os operadores de `cruzamento` ou de `mutação` nós não nos preocupamos se o indivíduo gerado por estes processo era um `indivíduo válido`. Um indivíduo válido é aquele que representa uma solução possível e bem formulada para o problema em questão.\n",
    "\n",
    "Por exemplo, no problema das caixas binárias, [1, 0, 0, 1] é um indivíduo válido para o caso de termos 4 caixas. Um exemplo de `indivíduo inválido` para este mesmo problema seria [1, 0, 0, a], pois um dos genes está assumindo um valor fora do domínio. Outro exemplo de indivíduo inválido poderia ser [1, 1, 0], pois é um indivíduo com apenas 3 genes, sendo que o esperado eram 4 genes.\n",
    "\n",
    "Neste experimento nós veremos estratégias para evitar que indivíduos inválidos sejam obtidos quando usamos os operadores de cruzamento e de mutação. No notebook seguinte veremos como aplicar uma penalidade para indivíduos inválidos que forem gerados durante uma busca genética com restrições.\n",
    "\n"
   ]
  },
  {
   "cell_type": "markdown",
   "metadata": {},
   "source": [
    "## Objetivo\n",
    "\n"
   ]
  },
  {
   "cell_type": "markdown",
   "metadata": {},
   "source": [
    "Encontrar uma solução para o problema do caixeiro viajante. Considere que ele irá visitar 5 cidades, pode iniciar sua viagem por qualquer uma destas cidades e deve retornar à cidade de início. Durante seu trajeto, não pode visitar a mesma cidade duas vezes (única exceção é a cidade inicial).\n",
    "\n"
   ]
  },
  {
   "cell_type": "markdown",
   "metadata": {},
   "source": [
    "## Descrição do problema\n",
    "\n"
   ]
  },
  {
   "cell_type": "markdown",
   "metadata": {},
   "source": [
    "O problema consiste em descobrir a rota de menor distância entre $n$ pontos no plano cartesiano (ou seja, $n$ pontos com coordenadas $(x,y)$). A rota pode se iniciar em qualquer um dos pontos disponíveis e deve terminar no ponto inicial, visitando todos os demais pontos apenas uma vez. Considere que a rota entre um ponto e outro é a linha reta que liga os dois pontos."
   ]
  },
  {
   "cell_type": "markdown",
   "metadata": {},
   "source": [
    "## Importações\n",
    "\n"
   ]
  },
  {
   "cell_type": "code",
   "execution_count": 1,
   "metadata": {},
   "outputs": [],
   "source": [
    "import random\n",
    "from itertools import permutations\n",
    "\n",
    "from funcoes import cria_cidades\n",
    "\n",
    "from funcoes import populacao_inicial_cv as cria_populacao_inicial\n",
    "from funcoes import funcao_objetivo_pop_cv\n",
    "from funcoes import selecao_torneio_min # esse já temos!\n",
    "from funcoes import cruzamento_ordenado as funcao_cruzamento\n",
    "from funcoes import mutacao_de_troca as funcao_mutacao\n",
    "\n",
    "from funcoes import funcao_objetivo_cv as funcao_objetivo_individuo\n",
    "\n",
    "from time import perf_counter as pf"
   ]
  },
  {
   "cell_type": "markdown",
   "metadata": {},
   "source": [
    "## Códigos e discussão\n",
    "\n"
   ]
  },
  {
   "cell_type": "code",
   "execution_count": 2,
   "metadata": {},
   "outputs": [],
   "source": [
    "### CONSTANTES\n",
    "\n",
    "# relacionadas à busca\n",
    "TAMANHO_POP = 50\n",
    "NUM_GERACOES = 1000\n",
    "CHANCE_CRUZAMENTO = 0.5\n",
    "CHANCE_MUTACAO = 0.05\n",
    "NUM_COMBATENTES_NO_TORNEIO = 3\n",
    "\n",
    "# relacionadas ao problema a ser resolvido\n",
    "NUMERO_DE_CIDADES = 10\n",
    "CIDADES = cria_cidades(NUMERO_DE_CIDADES)"
   ]
  },
  {
   "cell_type": "code",
   "execution_count": 3,
   "metadata": {},
   "outputs": [],
   "source": [
    "# Funções locais\n",
    "\n",
    "def funcao_objetivo_pop(populacao):\n",
    "    return funcao_objetivo_pop_cv(populacao, CIDADES)\n",
    "\n",
    "def funcao_selecao(populacao, fitness):\n",
    "    return selecao_torneio_min(populacao, fitness, NUM_COMBATENTES_NO_TORNEIO)"
   ]
  },
  {
   "cell_type": "code",
   "execution_count": 4,
   "metadata": {},
   "outputs": [],
   "source": [
    "# Busca por algoritmo genético\n",
    "\n",
    "start_algoritmo = pf()\n",
    "\n",
    "populacao = cria_populacao_inicial(TAMANHO_POP, CIDADES)\n",
    "\n",
    "melhor_fitness_ja_visto = float(\"inf\")  # é assim que escrevemos infinito em python\n",
    "\n",
    "for n in range(NUM_GERACOES):\n",
    "    \n",
    "    # Seleção\n",
    "    fitness = funcao_objetivo_pop(populacao)\n",
    "    populacao = funcao_selecao(populacao, fitness)\n",
    "    \n",
    "    # Cruzamento\n",
    "    pais = populacao[0::2]\n",
    "    maes = populacao[1::2]\n",
    "    \n",
    "    contador = 0\n",
    "    \n",
    "    for pai, mae in zip(pais, maes):\n",
    "        if random.random() <= CHANCE_CRUZAMENTO:\n",
    "            filho1, filho2 = funcao_cruzamento(pai, mae)\n",
    "            populacao[contador] = filho1\n",
    "            populacao[contador + 1] = filho2\n",
    "        \n",
    "        contador = contador + 2   \n",
    "        \n",
    "    # Mutação\n",
    "    for n in range(len(populacao)):\n",
    "        if random.random() <= CHANCE_MUTACAO:\n",
    "            individuo = populacao[n]\n",
    "            populacao[n] = funcao_mutacao(individuo)            \n",
    "            \n",
    "    # melhor individuo já visto até agora\n",
    "    fitness = funcao_objetivo_pop(populacao)\n",
    "    menor_fitness = min(fitness)\n",
    "    if menor_fitness < melhor_fitness_ja_visto:        \n",
    "        posicao = fitness.index(menor_fitness)\n",
    "        melhor_individuo_ja_visto = populacao[posicao]\n",
    "        melhor_fitness_ja_visto = menor_fitness    \n",
    "    \n",
    "fim_algoritmo = pf()"
   ]
  },
  {
   "cell_type": "code",
   "execution_count": 5,
   "metadata": {},
   "outputs": [],
   "source": [
    "# Busca testando todas as permutações\n",
    "\n",
    "melhor_fitness_ever = float(\"inf\")\n",
    "\n",
    "inicio_all = pf()\n",
    "\n",
    "# testando todas as permutações possíveis\n",
    "for caminho in permutations(list(CIDADES.keys())):\n",
    "    caminho = list(caminho)\n",
    "    distancia = funcao_objetivo_individuo(caminho, CIDADES)\n",
    "    if distancia < melhor_fitness_ever:\n",
    "        melhor_fitness_ever = distancia\n",
    "        melhor_resposta_ever = caminho\n",
    "\n",
    "fim_all = pf()"
   ]
  },
  {
   "cell_type": "code",
   "execution_count": 6,
   "metadata": {},
   "outputs": [
    {
     "name": "stdout",
     "output_type": "stream",
     "text": [
      "\n",
      "Melhor individuo obtido por algoritmos genéticos:\n",
      "['Cidade 8', 'Cidade 0', 'Cidade 5', 'Cidade 4', 'Cidade 2', 'Cidade 7', 'Cidade 3', 'Cidade 6', 'Cidade 1', 'Cidade 9'] com distância: 2.300715601402959 em 0.9403050999999998 segundos\n",
      "\n",
      "Melhor individuo obtido por busca exaustiva:\n",
      "['Cidade 0', 'Cidade 5', 'Cidade 4', 'Cidade 7', 'Cidade 9', 'Cidade 3', 'Cidade 6', 'Cidade 1', 'Cidade 2', 'Cidade 8'] com distância: 2.300715601402959 em 53.073686599999995 segundos\n"
     ]
    }
   ],
   "source": [
    "# Checando os resultados\n",
    "\n",
    "print()\n",
    "print(\"Melhor individuo obtido por algoritmos genéticos:\")\n",
    "print(melhor_individuo_ja_visto, \"com distância:\", melhor_fitness_ja_visto, f'em {fim_algoritmo-start_algoritmo} segundos')\n",
    "\n",
    "print()\n",
    "print(\"Melhor individuo obtido por busca exaustiva:\")\n",
    "print(melhor_resposta_ever, \"com distância:\", melhor_fitness_ever, f'em {fim_all-inicio_all} segundos')"
   ]
  },
  {
   "cell_type": "markdown",
   "metadata": {},
   "source": [
    "## Conclusão\n",
    "\n",
    "O objetivo do notebook era de implementar um algoritmo genético que fosse capaz de chegar na solução do problema do caixeiro viajante para 5 cidades (colocado em 10 no notebook para comparação com o método exaustivo de checagem), este objetivo foi alcançado, como é possível ver pela comparação entre o algoritmo implementado e o método exaustivo. Os dois métodos retornaram o mesmo resultado (por mais que transladado), demosntrando que o resultado obtido através do algorítmo é realmente a melhor solução para o problema do caixeiro viajante para esta situação, indicando o sucesso em sua implementação.\n",
    "\n",
    "Para que este fosse implementado de maneira correta algumas mudanças tiveram que ser feitas, como a mutação que agora deve mudar apenas a ordem das cidades dentro de um individuo e o cruzamento que deve manter a integridade dos dois individuos resultantes do cruzamento. Outra diferença é a ausência de uma função para o gêne, já que temos que considerar a necessidade da existência de todas as cidades dentro do indivíduo sem repetição.\n",
    "\n",
    "De modo geral o algoritmo teve um resultado altamente eficiente, principalmente quando o comparamos com o método de \"força bruta\". Enquanto o algoritmo resolveu o problema com apenas 1000 geração em menos de 1 segundo (aproximandamente 0.94s), o método de \"força bruta\" teve uma eficiência muito pior, precisando de 53s. Caso o problema seja aumentado para mais cidades, o segundo método irá piorar com uma decadência de escala fatorial, demosntrando a enorme vantagem do código de algoritmo genético, que, apesar de não garantir a melhor resposta, este irá retornar a melhor solução encontrada em tempos extremamente menores "
   ]
  },
  {
   "cell_type": "markdown",
   "metadata": {
    "tags": []
   },
   "source": [
    "## Playground\n",
    "\n"
   ]
  },
  {
   "cell_type": "code",
   "execution_count": 7,
   "metadata": {},
   "outputs": [
    {
     "data": {
      "text/plain": [
       "[1, 2, 5, 4, 3]"
      ]
     },
     "execution_count": 7,
     "metadata": {},
     "output_type": "execute_result"
    }
   ],
   "source": [
    "pai = [1,2,3,4,5]\n",
    "mae = [5,4,3,2,1]\n",
    "\n",
    "corte1 = random.randint(0, len(pai) - 2)\n",
    "corte2 = random.randint(corte1 + 1, len(pai) - 1)\n",
    "\n",
    "filho1 = pai[corte1:corte2]\n",
    "filho2 = mae[corte1:corte2]\n",
    "\n",
    "for a in [i for i in mae if i not in filho1]:\n",
    "    filho1.append(a)\n",
    "filho1"
   ]
  },
  {
   "cell_type": "code",
   "execution_count": 8,
   "metadata": {},
   "outputs": [
    {
     "name": "stdout",
     "output_type": "stream",
     "text": [
      "[1, 2, 3, 4, 5]\n",
      "[1, 2, 3, 5, 4]\n"
     ]
    }
   ],
   "source": [
    "individuo = [1,2,3,4,5]\n",
    "\n",
    "indices = list(range(len(individuo)))\n",
    "indice1, indice2 = random.sample(indices, k=2)\n",
    "\n",
    "print(individuo)\n",
    "\n",
    "individuo[indice1], individuo[indice2] = individuo[indice2], individuo[indice1]\n",
    "\n",
    "print(individuo)"
   ]
  },
  {
   "cell_type": "code",
   "execution_count": 9,
   "metadata": {},
   "outputs": [
    {
     "name": "stdout",
     "output_type": "stream",
     "text": [
      "{'Cidade 0': (0.2324112350458568, 0.9414032935701182), 'Cidade 1': (0.3765692324088985, 0.09988466274101115), 'Cidade 2': (0.06145705427557968, 0.2617111824102414), 'Cidade 3': (0.01901889443802296, 0.6620855376921005), 'Cidade 4': (0.002852464995091508, 0.4135210927963593)}\n",
      "['Cidade 4', 'Cidade 3', 'Cidade 2', 'Cidade 1', 'Cidade 0']\n",
      "deque(['Cidade 3', 'Cidade 2', 'Cidade 1', 'Cidade 0', 'Cidade 4'])\n"
     ]
    }
   ],
   "source": [
    "from funcoes import distancia_entre_dois_pontos\n",
    "from collections import deque\n",
    "\n",
    "cities = cria_cidades(5)\n",
    "print(cities)\n",
    "\n",
    "nomes = list(cities.keys())\n",
    "random.shuffle(nomes)\n",
    "print(nomes)\n",
    "\n",
    "nomes_copy = deque(nomes)\n",
    "nomes_copy.rotate(-1)\n",
    "print(nomes_copy)"
   ]
  },
  {
   "cell_type": "code",
   "execution_count": null,
   "metadata": {},
   "outputs": [],
   "source": []
  }
 ],
 "metadata": {
  "kernelspec": {
   "display_name": "ilumpy",
   "language": "python",
   "name": "ilumpy"
  },
  "language_info": {
   "codemirror_mode": {
    "name": "ipython",
    "version": 3
   },
   "file_extension": ".py",
   "mimetype": "text/x-python",
   "name": "python",
   "nbconvert_exporter": "python",
   "pygments_lexer": "ipython3",
   "version": "3.9.7"
  },
  "org": null
 },
 "nbformat": 4,
 "nbformat_minor": 4
}
