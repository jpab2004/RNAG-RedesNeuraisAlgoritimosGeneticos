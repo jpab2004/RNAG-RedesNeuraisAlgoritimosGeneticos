{
 "cells": [
  {
   "cell_type": "markdown",
   "metadata": {},
   "source": [
    "Introdução à Classes\n",
    "====================\n",
    "\n"
   ]
  },
  {
   "cell_type": "markdown",
   "metadata": {},
   "source": [
    "## Introdução\n",
    "\n"
   ]
  },
  {
   "cell_type": "markdown",
   "metadata": {},
   "source": [
    "Quando queremos organizar objetos em uma certa ordem bem definida, usamos `listas`.\n",
    "\n",
    "Quando queremos relacionar dois objetos entre si, usamos `dicionários`.\n",
    "\n",
    "Quando queremos agrupar objetos únicos sem repetição e sem ordem bem definida, usamos `conjuntos`.\n",
    "\n",
    "Quando queremos executar uma sequência bem definida de ações, usamos `funções`.\n",
    "\n",
    "O que nós usamos quando queremos criar uma estrutura complexa de informações e ações onde apenas listas, dicionários, conjuntos e funções não são suficientes? Neste caso, usamos `classes`!\n",
    "\n"
   ]
  },
  {
   "cell_type": "markdown",
   "metadata": {},
   "source": [
    "## Código e discussão\n",
    "\n"
   ]
  },
  {
   "cell_type": "markdown",
   "metadata": {},
   "source": [
    "### A classe mais simples do mundo\n",
    "\n"
   ]
  },
  {
   "cell_type": "markdown",
   "metadata": {},
   "source": [
    "A classe mais simples do mundo é simplesmente um amontoado de informação. Classes devem ser nomeadas sempre com a primeira letra em maiúsculo.\n",
    "\n"
   ]
  },
  {
   "cell_type": "code",
   "execution_count": 1,
   "metadata": {},
   "outputs": [],
   "source": [
    "class Dados:\n",
    "    dado1 = 10\n",
    "    dado2 = [1, 2, 3]\n",
    "    dado3 = 0.908\n",
    "    dado4 = {\"a\": 1, \"b\": 2}"
   ]
  },
  {
   "cell_type": "markdown",
   "metadata": {},
   "source": [
    "Para criar um objeto baseado na sua classe, basta chamá-la com o parênteses, da mesma forma que fazemos com funções.\n",
    "\n"
   ]
  },
  {
   "cell_type": "code",
   "execution_count": 2,
   "metadata": {},
   "outputs": [],
   "source": [
    "caio = Dados()"
   ]
  },
  {
   "cell_type": "markdown",
   "metadata": {},
   "source": [
    "Agora podemos acessar os objetos da classe. Para isso usamos o ponto final.\n",
    "\n"
   ]
  },
  {
   "cell_type": "code",
   "execution_count": 3,
   "metadata": {},
   "outputs": [
    {
     "name": "stdout",
     "output_type": "stream",
     "text": [
      "Attribute: dado1 / Value: 10\n",
      "Attribute: dado2 / Value: [1, 2, 3]\n",
      "Attribute: dado3 / Value: 0.908\n",
      "Attribute: dado4 / Value: {'a': 1, 'b': 2}\n"
     ]
    }
   ],
   "source": [
    "attributes = [att for att in dir(caio) if not att.startswith('__')]\n",
    "for attribute in attributes:\n",
    "    print(f'Attribute: {attribute} / Value: {getattr(caio, attribute)}')"
   ]
  },
  {
   "cell_type": "markdown",
   "metadata": {},
   "source": [
    "Se você se perguntou &ldquo;uai, mas por que usar uma classe sendo que um dicionário faria efetivamente a mesma coisa?&rdquo;, então você está no caminho certo. Apenas armazenar dados em uma classe desta forma não representa uma vantagem objetiva em relação à usar um dicionário. Vamos seguir em frente!\n",
    "\n"
   ]
  },
  {
   "cell_type": "markdown",
   "metadata": {},
   "source": [
    "### Classes podem fazer algo ao serem criadas\n",
    "\n"
   ]
  },
  {
   "cell_type": "markdown",
   "metadata": {},
   "source": [
    "Quando nós criamos uma classe, nós dizemos que criamos uma instância desta classe. Uma instância de uma classe representa um objeto que tem as propriedades da classe.\n",
    "\n",
    "Ao instanciar uma classe, você pode executar uma tarefa. Para isso, defina o método `__init__` usando necessariamente o `self` como primeiro argumento.\n",
    "\n"
   ]
  },
  {
   "cell_type": "code",
   "execution_count": 4,
   "metadata": {},
   "outputs": [],
   "source": [
    "class Material:\n",
    "    def __init__(self, modulo_elastico):\n",
    "        self.modulo_elastico = modulo_elastico"
   ]
  },
  {
   "cell_type": "markdown",
   "metadata": {},
   "source": [
    "Agora podemos criar um objeto da classe `Material` com um certo valor de módulo elástico.\n",
    "\n"
   ]
  },
  {
   "cell_type": "code",
   "execution_count": 5,
   "metadata": {},
   "outputs": [
    {
     "name": "stdout",
     "output_type": "stream",
     "text": [
      "<__main__.Material object at 0x00000148D8E6BC40>\n",
      "100\n"
     ]
    }
   ],
   "source": [
    "modulo_elastico_do_meu_material = 100\n",
    "meu_material = Material(modulo_elastico_do_meu_material)\n",
    "\n",
    "print(meu_material)\n",
    "print(meu_material.modulo_elastico)"
   ]
  },
  {
   "cell_type": "markdown",
   "metadata": {},
   "source": [
    "### Os métodos `dunder`\n",
    "\n"
   ]
  },
  {
   "cell_type": "markdown",
   "metadata": {},
   "source": [
    "Observe que acima usamos um método chamado `__init__` com prefixo de dois sublinhados e sufixo de dois sublinhados. Esses métodos com essa notação são especiais e são chamados de `dunder` (vem de *double underscore*, ou duplo sublinhado em português). Existem diversos métodos dunder!\n",
    "\n",
    "Os métodos dunder controlam certos comportamentos da nossa classe. Por exemplo, observe que quando damos `print` em um objeto instanciado de uma classe ele mostra um texto padrão do tipo `<__main__.Material object at 0x7f0d2b57f9a0>`. Quem controla o texto que é exibido é o método dunder `__repr__`. Vamos ver um exemplo.\n",
    "\n"
   ]
  },
  {
   "cell_type": "code",
   "execution_count": 6,
   "metadata": {},
   "outputs": [],
   "source": [
    "class Material:\n",
    "    def __init__(self, modulo_elastico):\n",
    "        self.modulo_elastico = modulo_elastico\n",
    "\n",
    "    def __repr__(self):\n",
    "        return f\"Material com módulo elástico de {self.modulo_elastico} GPa.\"\n",
    "\n",
    "modulo_elastico_do_meu_material = 100\n",
    "meu_material = Material(modulo_elastico_do_meu_material)"
   ]
  },
  {
   "cell_type": "markdown",
   "metadata": {},
   "source": [
    "### Os métodos que não são `dunder`\n",
    "\n"
   ]
  },
  {
   "cell_type": "markdown",
   "metadata": {},
   "source": [
    "Classes podem ter métodos que não são especiais. Vamos tentar implementar um método que usa a lei de Hook para calcular a tensão aplicada no material ($\\sigma$) dada uma deformação ($\\varepsilon$).\n",
    "\n",
    "$$\n",
    "\\sigma = E \\varepsilon\n",
    "$$\n",
    "\n"
   ]
  },
  {
   "cell_type": "code",
   "execution_count": 7,
   "metadata": {},
   "outputs": [
    {
     "name": "stdout",
     "output_type": "stream",
     "text": [
      "Material com módulo elástico de 100 GPa.\n",
      "200\n"
     ]
    }
   ],
   "source": [
    "class Material:\n",
    "    def __init__(self, modulo_elastico):\n",
    "        self.modulo_elastico = modulo_elastico\n",
    "\n",
    "    def __repr__(self):\n",
    "        return f\"Material com módulo elástico de {self.modulo_elastico} GPa.\"\n",
    "    \n",
    "    def tensao(self, deformacao):\n",
    "        valor_tensao = self.modulo_elastico * deformacao\n",
    "        return valor_tensao\n",
    "\n",
    "modulo_elastico_do_meu_material = 100\n",
    "meu_material = Material(modulo_elastico_do_meu_material)\n",
    "\n",
    "deformacao = 2\n",
    "\n",
    "tensao = meu_material.tensao(deformacao)\n",
    "print(meu_material)\n",
    "print(tensao)"
   ]
  },
  {
   "cell_type": "markdown",
   "metadata": {},
   "source": [
    "### Alterando o estado da nossa classe\n",
    "\n"
   ]
  },
  {
   "cell_type": "markdown",
   "metadata": {},
   "source": [
    "Classes são estruturas de dados onde nos preocupamos com o seu estado. No exemplo acima, nosso material tem uma propriedade chamada de `modulo_elastico`. Digamos que nós podemos aumentar o módulo elástico do nosso material realizando um tratamento térmico. Cada vez que realizamos o tratamento térmico o módulo elástico aumenta em 10%, porém o material só aguenta no máximo 5 tratamentos térmicos. Alterar uma propriedade da nossa classe é alterar seu estado. Podemos adicionar esse processo de tratamento térmico na nossa classe.\n",
    "\n"
   ]
  },
  {
   "cell_type": "code",
   "execution_count": 8,
   "metadata": {},
   "outputs": [
    {
     "name": "stdout",
     "output_type": "stream",
     "text": [
      "Material com módulo elástico de 100 GPa.\n",
      "Material com módulo elástico de 110.00000000000001 GPa.\n",
      "Material com módulo elástico de 121.00000000000003 GPa.\n",
      "Material com módulo elástico de 133.10000000000005 GPa.\n",
      "Material com módulo elástico de 146.41000000000008 GPa.\n",
      "Material com módulo elástico de 161.0510000000001 GPa.\n",
      "Material com módulo elástico de 161.0510000000001 GPa.\n",
      "Material com módulo elástico de 161.0510000000001 GPa.\n"
     ]
    }
   ],
   "source": [
    "class Material:\n",
    "    def __init__(self, modulo_elastico):\n",
    "        self.modulo_elastico = modulo_elastico\n",
    "        self.num_tratamentos = 0\n",
    "\n",
    "    def __repr__(self):\n",
    "        return f\"Material com módulo elástico de {self.modulo_elastico} GPa.\"\n",
    "\n",
    "    def tratamento_termico(self):\n",
    "        if self.num_tratamentos < 5:\n",
    "            self.modulo_elastico = self.modulo_elastico * 1.1\n",
    "            self.num_tratamentos = self.num_tratamentos + 1\n",
    "\n",
    "modulo_elastico_do_meu_material = 100\n",
    "meu_material = Material(modulo_elastico_do_meu_material)\n",
    "\n",
    "print(meu_material)\n",
    "\n",
    "meu_material.tratamento_termico()\n",
    "print(meu_material)\n",
    "\n",
    "meu_material.tratamento_termico()\n",
    "print(meu_material)\n",
    "\n",
    "meu_material.tratamento_termico()\n",
    "print(meu_material)\n",
    "\n",
    "meu_material.tratamento_termico()\n",
    "print(meu_material)\n",
    "\n",
    "meu_material.tratamento_termico()\n",
    "print(meu_material)\n",
    "\n",
    "meu_material.tratamento_termico()\n",
    "print(meu_material)\n",
    "\n",
    "meu_material.tratamento_termico()\n",
    "print(meu_material)"
   ]
  },
  {
   "cell_type": "markdown",
   "metadata": {},
   "source": [
    "### Alterando o estado da nossa classe fora dela\n",
    "\n"
   ]
  },
  {
   "cell_type": "markdown",
   "metadata": {},
   "source": [
    "Em certos casos nós precisamos alterar alguma propriedade da nossa classe fora dela (isto é, fora das linhas de código que foram usadas para definir a classe). Podemos, por exemplo, alterar o módulo elástico do nosso material &ldquo;na mão&rdquo;.\n",
    "\n"
   ]
  },
  {
   "cell_type": "code",
   "execution_count": 9,
   "metadata": {},
   "outputs": [
    {
     "name": "stdout",
     "output_type": "stream",
     "text": [
      "Material com módulo elástico de 100 GPa.\n",
      "Material com módulo elástico de 200 GPa.\n"
     ]
    }
   ],
   "source": [
    "class Material:\n",
    "    def __init__(self, modulo_elastico):\n",
    "        self.modulo_elastico = modulo_elastico\n",
    "        self.num_tratamentos = 0\n",
    "\n",
    "    def __repr__(self):\n",
    "        return f\"Material com módulo elástico de {self.modulo_elastico} GPa.\"\n",
    "\n",
    "modulo_elastico_do_meu_material = 100\n",
    "meu_material = Material(modulo_elastico_do_meu_material)\n",
    "print(meu_material)\n",
    "\n",
    "# alterando a propriedade \"na mão\"\n",
    "meu_material.modulo_elastico = 200\n",
    "print(meu_material)"
   ]
  },
  {
   "cell_type": "markdown",
   "metadata": {},
   "source": [
    "Pense muito bem antes de sair alterando propriedades de classes &ldquo;na mão&rdquo;. Não é uma ação proibida, mas também não é algo que fazemos a todo momento sem justificativa.\n",
    "\n"
   ]
  },
  {
   "cell_type": "markdown",
   "metadata": {},
   "source": [
    "### Testando suas habilidades\n",
    "\n"
   ]
  },
  {
   "cell_type": "markdown",
   "metadata": {},
   "source": [
    "Para testar suas habilidades, modifique a classe `Material` adicionando um novo argumento no método `__init__`, usando ele para criar uma nova propriedade e criando um novo método que altera o estado desta classe.\n",
    "\n"
   ]
  },
  {
   "cell_type": "code",
   "execution_count": 10,
   "metadata": {},
   "outputs": [],
   "source": [
    "class Material:\n",
    "    def __init__(self, modulo_elastico, resistencia):\n",
    "        self.modulo_elastico = modulo_elastico\n",
    "        self.resistencia_eletrica = resistencia\n",
    "        self.num_tratamentos = 0\n",
    "\n",
    "    def __repr__(self):\n",
    "        return f\"Material com módulo elástico de {self.modulo_elastico} GPa e resistência elétrica de {self.resistencia_eletrica} Ω (Ohms)\"\n",
    "\n",
    "    def tratamento_termico_1(self):\n",
    "        if self.num_tratamentos < 10:\n",
    "            self.modulo_elastico *= 1.1\n",
    "            self.resistencia_eletrica *= 1.1\n",
    "            self.num_tratamentos += 1\n",
    "    \n",
    "    def tratamento_termico_2(self):\n",
    "        if self.num_tratamentos < 10:\n",
    "            self.modulo_elastico /= 1.1\n",
    "            self.resistencia_eletrica /= 1.1\n",
    "            self.num_tratamentos += 1"
   ]
  },
  {
   "cell_type": "markdown",
   "metadata": {},
   "source": [
    "Primeiro criamos a classe `Material` novamente, porém desta vez adicionamos uma nova propriedade ou atributo relacionado a resistência elétrica do material. Também adicionamos um segundo método `tratmento_termico_2`, já que o primeiro aumentará o módulo elástico e aumenta a resitência, o segundo fará o contrario, diminuirá as duas propriedades."
   ]
  },
  {
   "cell_type": "code",
   "execution_count": 11,
   "metadata": {},
   "outputs": [
    {
     "name": "stdout",
     "output_type": "stream",
     "text": [
      "Material com módulo elástico de 100 GPa e resistência elétrica de 200 Ω (Ohms) \n",
      "\n",
      "Material com módulo elástico de 110.00000000000001 GPa e resistência elétrica de 220.00000000000003 Ω (Ohms) \n",
      "\n",
      "Material com módulo elástico de 100.0 GPa e resistência elétrica de 200.0 Ω (Ohms) \n",
      "\n",
      "Material com módulo elástico de 90.9090909090909 GPa e resistência elétrica de 181.8181818181818 Ω (Ohms)\n"
     ]
    }
   ],
   "source": [
    "m = Material(100, 200)\n",
    "print(m, '\\n')\n",
    "\n",
    "m.tratamento_termico_1()\n",
    "print(m, '\\n')\n",
    "\n",
    "m.tratamento_termico_2()\n",
    "print(m, '\\n')\n",
    "\n",
    "m.tratamento_termico_2()\n",
    "print(m)"
   ]
  },
  {
   "cell_type": "markdown",
   "metadata": {},
   "source": [
    "Como podemos ver, criamos um material e ao utilizar o método `tratamento_termico_1` aumentamos ambas sua resitência elétrica e módulo elástico, e quando utilizamos o método `tratamento_termico_2` fazemos o contrário, diminuimos sua resitência elétrica e seu módulo elástico."
   ]
  },
  {
   "cell_type": "markdown",
   "metadata": {},
   "source": [
    "## Conclusão\n",
    "\n",
    "Podemos perceber que as `classes` são estruturas muito poderosas quando comparadas as outras mais simples, como `listas`, `dicionários`, `conjuntos` e `funções`. As `classes` podem juntar todos essas estruturas dentro de si mesmas além de outras potenciais funções e métodos, deste modo, as `classes` servem como uma estruturação para base de objetos que podem ser instanciados e depois podemos utiliza-los para que alteremos seus atributos. De modo geral, as `classes` ajudam muito em resoluções de problemas em que temos que mudar muitas variáveis ou é necessária a utilização de variáveis comuns entre esses objetos."
   ]
  },
  {
   "cell_type": "markdown",
   "metadata": {},
   "source": [
    "## Playground\n",
    "\n"
   ]
  },
  {
   "cell_type": "code",
   "execution_count": 12,
   "metadata": {},
   "outputs": [
    {
     "name": "stdout",
     "output_type": "stream",
     "text": [
      "Help on class list in module builtins:\n",
      "\n",
      "class list(object)\n",
      " |  list(iterable=(), /)\n",
      " |  \n",
      " |  Built-in mutable sequence.\n",
      " |  \n",
      " |  If no argument is given, the constructor creates a new empty list.\n",
      " |  The argument must be an iterable if specified.\n",
      " |  \n",
      " |  Methods defined here:\n",
      " |  \n",
      " |  __add__(self, value, /)\n",
      " |      Return self+value.\n",
      " |  \n",
      " |  __contains__(self, key, /)\n",
      " |      Return key in self.\n",
      " |  \n",
      " |  __delitem__(self, key, /)\n",
      " |      Delete self[key].\n",
      " |  \n",
      " |  __eq__(self, value, /)\n",
      " |      Return self==value.\n",
      " |  \n",
      " |  __ge__(self, value, /)\n",
      " |      Return self>=value.\n",
      " |  \n",
      " |  __getattribute__(self, name, /)\n",
      " |      Return getattr(self, name).\n",
      " |  \n",
      " |  __getitem__(...)\n",
      " |      x.__getitem__(y) <==> x[y]\n",
      " |  \n",
      " |  __gt__(self, value, /)\n",
      " |      Return self>value.\n",
      " |  \n",
      " |  __iadd__(self, value, /)\n",
      " |      Implement self+=value.\n",
      " |  \n",
      " |  __imul__(self, value, /)\n",
      " |      Implement self*=value.\n",
      " |  \n",
      " |  __init__(self, /, *args, **kwargs)\n",
      " |      Initialize self.  See help(type(self)) for accurate signature.\n",
      " |  \n",
      " |  __iter__(self, /)\n",
      " |      Implement iter(self).\n",
      " |  \n",
      " |  __le__(self, value, /)\n",
      " |      Return self<=value.\n",
      " |  \n",
      " |  __len__(self, /)\n",
      " |      Return len(self).\n",
      " |  \n",
      " |  __lt__(self, value, /)\n",
      " |      Return self<value.\n",
      " |  \n",
      " |  __mul__(self, value, /)\n",
      " |      Return self*value.\n",
      " |  \n",
      " |  __ne__(self, value, /)\n",
      " |      Return self!=value.\n",
      " |  \n",
      " |  __repr__(self, /)\n",
      " |      Return repr(self).\n",
      " |  \n",
      " |  __reversed__(self, /)\n",
      " |      Return a reverse iterator over the list.\n",
      " |  \n",
      " |  __rmul__(self, value, /)\n",
      " |      Return value*self.\n",
      " |  \n",
      " |  __setitem__(self, key, value, /)\n",
      " |      Set self[key] to value.\n",
      " |  \n",
      " |  __sizeof__(self, /)\n",
      " |      Return the size of the list in memory, in bytes.\n",
      " |  \n",
      " |  append(self, object, /)\n",
      " |      Append object to the end of the list.\n",
      " |  \n",
      " |  clear(self, /)\n",
      " |      Remove all items from list.\n",
      " |  \n",
      " |  copy(self, /)\n",
      " |      Return a shallow copy of the list.\n",
      " |  \n",
      " |  count(self, value, /)\n",
      " |      Return number of occurrences of value.\n",
      " |  \n",
      " |  extend(self, iterable, /)\n",
      " |      Extend list by appending elements from the iterable.\n",
      " |  \n",
      " |  index(self, value, start=0, stop=9223372036854775807, /)\n",
      " |      Return first index of value.\n",
      " |      \n",
      " |      Raises ValueError if the value is not present.\n",
      " |  \n",
      " |  insert(self, index, object, /)\n",
      " |      Insert object before index.\n",
      " |  \n",
      " |  pop(self, index=-1, /)\n",
      " |      Remove and return item at index (default last).\n",
      " |      \n",
      " |      Raises IndexError if list is empty or index is out of range.\n",
      " |  \n",
      " |  remove(self, value, /)\n",
      " |      Remove first occurrence of value.\n",
      " |      \n",
      " |      Raises ValueError if the value is not present.\n",
      " |  \n",
      " |  reverse(self, /)\n",
      " |      Reverse *IN PLACE*.\n",
      " |  \n",
      " |  sort(self, /, *, key=None, reverse=False)\n",
      " |      Sort the list in ascending order and return None.\n",
      " |      \n",
      " |      The sort is in-place (i.e. the list itself is modified) and stable (i.e. the\n",
      " |      order of two equal elements is maintained).\n",
      " |      \n",
      " |      If a key function is given, apply it once to each list item and sort them,\n",
      " |      ascending or descending, according to their function values.\n",
      " |      \n",
      " |      The reverse flag can be set to sort in descending order.\n",
      " |  \n",
      " |  ----------------------------------------------------------------------\n",
      " |  Class methods defined here:\n",
      " |  \n",
      " |  __class_getitem__(...) from builtins.type\n",
      " |      See PEP 585\n",
      " |  \n",
      " |  ----------------------------------------------------------------------\n",
      " |  Static methods defined here:\n",
      " |  \n",
      " |  __new__(*args, **kwargs) from builtins.type\n",
      " |      Create and return a new object.  See help(type) for accurate signature.\n",
      " |  \n",
      " |  ----------------------------------------------------------------------\n",
      " |  Data and other attributes defined here:\n",
      " |  \n",
      " |  __hash__ = None\n",
      "\n"
     ]
    }
   ],
   "source": [
    "help(list)"
   ]
  },
  {
   "cell_type": "code",
   "execution_count": 13,
   "metadata": {},
   "outputs": [
    {
     "data": {
      "text/plain": [
       "3"
      ]
     },
     "execution_count": 13,
     "metadata": {},
     "output_type": "execute_result"
    }
   ],
   "source": [
    "class teste:\n",
    "    __count__ = 0\n",
    "    def __init__(self, value):\n",
    "        self.x = value\n",
    "\n",
    "    def add_x(self):\n",
    "        self.x += 1\n",
    "        self.__count__ += 1\n",
    "\n",
    "t = teste(2)\n",
    "t.add_x()\n",
    "t.x"
   ]
  },
  {
   "cell_type": "code",
   "execution_count": 14,
   "metadata": {},
   "outputs": [
    {
     "name": "stdout",
     "output_type": "stream",
     "text": [
      "2\n"
     ]
    },
    {
     "ename": "AttributeError",
     "evalue": "'teste2' object has no attribute '__y'",
     "output_type": "error",
     "traceback": [
      "\u001b[1;31m---------------------------------------------------------------------------\u001b[0m",
      "\u001b[1;31mAttributeError\u001b[0m                            Traceback (most recent call last)",
      "\u001b[1;32mC:\\Users\\JOAO22~1\\AppData\\Local\\Temp/ipykernel_25652/1197302377.py\u001b[0m in \u001b[0;36m<module>\u001b[1;34m\u001b[0m\n\u001b[0;32m      5\u001b[0m \u001b[0mt2\u001b[0m \u001b[1;33m=\u001b[0m \u001b[0mteste2\u001b[0m\u001b[1;33m(\u001b[0m\u001b[1;33m)\u001b[0m\u001b[1;33m\u001b[0m\u001b[1;33m\u001b[0m\u001b[0m\n\u001b[0;32m      6\u001b[0m \u001b[0mprint\u001b[0m\u001b[1;33m(\u001b[0m\u001b[0mt2\u001b[0m\u001b[1;33m.\u001b[0m\u001b[0mx\u001b[0m\u001b[1;33m)\u001b[0m\u001b[1;33m\u001b[0m\u001b[1;33m\u001b[0m\u001b[0m\n\u001b[1;32m----> 7\u001b[1;33m \u001b[0mprint\u001b[0m\u001b[1;33m(\u001b[0m\u001b[0mt2\u001b[0m\u001b[1;33m.\u001b[0m\u001b[0m__y\u001b[0m\u001b[1;33m)\u001b[0m\u001b[1;33m\u001b[0m\u001b[1;33m\u001b[0m\u001b[0m\n\u001b[0m",
      "\u001b[1;31mAttributeError\u001b[0m: 'teste2' object has no attribute '__y'"
     ]
    }
   ],
   "source": [
    "class teste2:\n",
    "    x = 2\n",
    "    __y = 3\n",
    "\n",
    "t2 = teste2()\n",
    "print(t2.x)\n",
    "print(t2.__y)"
   ]
  },
  {
   "cell_type": "code",
   "execution_count": null,
   "metadata": {},
   "outputs": [],
   "source": []
  }
 ],
 "metadata": {
  "kernelspec": {
   "display_name": "ilumpy",
   "language": "python",
   "name": "ilumpy"
  },
  "language_info": {
   "codemirror_mode": {
    "name": "ipython",
    "version": 3
   },
   "file_extension": ".py",
   "mimetype": "text/x-python",
   "name": "python",
   "nbconvert_exporter": "python",
   "pygments_lexer": "ipython3",
   "version": "3.9.7"
  },
  "org": null
 },
 "nbformat": 4,
 "nbformat_minor": 4
}
