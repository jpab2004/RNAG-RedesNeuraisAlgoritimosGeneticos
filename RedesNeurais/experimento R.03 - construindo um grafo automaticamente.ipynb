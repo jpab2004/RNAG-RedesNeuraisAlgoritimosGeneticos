{
 "cells": [
  {
   "cell_type": "markdown",
   "metadata": {},
   "source": [
    "Construindo um grafo automaticamente\n",
    "====================================\n",
    "\n"
   ]
  },
  {
   "cell_type": "markdown",
   "metadata": {},
   "source": [
    "## Introdução\n",
    "\n"
   ]
  },
  {
   "cell_type": "markdown",
   "metadata": {},
   "source": [
    "Neste notebook nós vamos dar o primeiro passo para construir nossa rede neural artificial. Neste primeiro passo, nós vamos criar uma classe que gera automaticamente o nosso `grafo computacional`. O grafo computacional é o grafo que representa todas as operações matemáticas que ocorreram ao se computar um certo valor $y$. O grafo computacional é um passo necessário pois será baseado nele que iremos computar os gradientes locais necessários para realizar o `backpropagation`.\n",
    "\n"
   ]
  },
  {
   "cell_type": "markdown",
   "metadata": {},
   "source": [
    "## Importações\n",
    "\n"
   ]
  },
  {
   "cell_type": "code",
   "execution_count": 1,
   "metadata": {},
   "outputs": [],
   "source": [
    "from funcoes import plota_grafo"
   ]
  },
  {
   "cell_type": "markdown",
   "metadata": {},
   "source": [
    "## Código e discussão\n",
    "\n"
   ]
  },
  {
   "cell_type": "markdown",
   "metadata": {},
   "source": [
    "### Primeiros passos\n",
    "\n"
   ]
  },
  {
   "cell_type": "markdown",
   "metadata": {},
   "source": [
    "A base de tudo será uma classe chamada `Valor`. Vamos começar pelo básico!\n",
    "\n"
   ]
  },
  {
   "cell_type": "code",
   "execution_count": 2,
   "metadata": {},
   "outputs": [],
   "source": [
    "class Valor:\n",
    "    def __init__(self, data):\n",
    "        self.data = data\n",
    "\n",
    "    def __repr__(self):\n",
    "        return f\"Valor(data={self.data})\""
   ]
  },
  {
   "cell_type": "markdown",
   "metadata": {},
   "source": [
    "Vamos testar nossa classe!\n",
    "\n"
   ]
  },
  {
   "cell_type": "code",
   "execution_count": 3,
   "metadata": {},
   "outputs": [
    {
     "name": "stdout",
     "output_type": "stream",
     "text": [
      "Valor(data=60)\n",
      "60\n"
     ]
    }
   ],
   "source": [
    "x1 = Valor(60)\n",
    "print(x1)\n",
    "print(x1.data)"
   ]
  },
  {
   "cell_type": "markdown",
   "metadata": {},
   "source": [
    "### Os dunders `__add__` e `__mul__`\n",
    "\n"
   ]
  },
  {
   "cell_type": "markdown",
   "metadata": {},
   "source": [
    "Observe que não conseguimos adicionar nem multiplicar objetos criados com a classe `Valor`.\n",
    "\n"
   ]
  },
  {
   "cell_type": "code",
   "execution_count": 4,
   "metadata": {},
   "outputs": [],
   "source": [
    "a = Valor(10)\n",
    "b = Valor(5)"
   ]
  },
  {
   "cell_type": "code",
   "execution_count": 5,
   "metadata": {},
   "outputs": [
    {
     "ename": "TypeError",
     "evalue": "unsupported operand type(s) for +: 'Valor' and 'Valor'",
     "output_type": "error",
     "traceback": [
      "\u001b[1;31m---------------------------------------------------------------------------\u001b[0m",
      "\u001b[1;31mTypeError\u001b[0m                                 Traceback (most recent call last)",
      "\u001b[1;32mC:\\Users\\JOAO22~1\\AppData\\Local\\Temp/ipykernel_26264/3864629426.py\u001b[0m in \u001b[0;36m<module>\u001b[1;34m\u001b[0m\n\u001b[1;32m----> 1\u001b[1;33m \u001b[0mprint\u001b[0m\u001b[1;33m(\u001b[0m\u001b[0ma\u001b[0m \u001b[1;33m+\u001b[0m \u001b[0mb\u001b[0m\u001b[1;33m)\u001b[0m\u001b[1;33m\u001b[0m\u001b[1;33m\u001b[0m\u001b[0m\n\u001b[0m",
      "\u001b[1;31mTypeError\u001b[0m: unsupported operand type(s) for +: 'Valor' and 'Valor'"
     ]
    }
   ],
   "source": [
    "print(a + b)"
   ]
  },
  {
   "cell_type": "code",
   "execution_count": 6,
   "metadata": {},
   "outputs": [
    {
     "ename": "TypeError",
     "evalue": "unsupported operand type(s) for *: 'Valor' and 'Valor'",
     "output_type": "error",
     "traceback": [
      "\u001b[1;31m---------------------------------------------------------------------------\u001b[0m",
      "\u001b[1;31mTypeError\u001b[0m                                 Traceback (most recent call last)",
      "\u001b[1;32mC:\\Users\\JOAO22~1\\AppData\\Local\\Temp/ipykernel_26264/2640154986.py\u001b[0m in \u001b[0;36m<module>\u001b[1;34m\u001b[0m\n\u001b[1;32m----> 1\u001b[1;33m \u001b[0mprint\u001b[0m\u001b[1;33m(\u001b[0m\u001b[0ma\u001b[0m \u001b[1;33m*\u001b[0m \u001b[0mb\u001b[0m\u001b[1;33m)\u001b[0m\u001b[1;33m\u001b[0m\u001b[1;33m\u001b[0m\u001b[0m\n\u001b[0m",
      "\u001b[1;31mTypeError\u001b[0m: unsupported operand type(s) for *: 'Valor' and 'Valor'"
     ]
    }
   ],
   "source": [
    "print(a * b)"
   ]
  },
  {
   "cell_type": "markdown",
   "metadata": {},
   "source": [
    "Ué&#x2026; porque não conseguimos? Não conseguimos pois o Python (ainda) não é vidente. Ele lá vai saber como adicionar ou multiplicar algo que você criou? Pra você parece óbvio que valores podem ser adicionados ou multiplicados, mas para o Python ele nem sabe o que significa a palavra `Valor`&#x2026;\n",
    "\n",
    "Como sempre, temos que contar para o programa o que queremos que aconteça quando usarmos os operadores `+` e `*`. Quem faz isso são os dunders `__add__` e `__mul__`.\n",
    "\n"
   ]
  },
  {
   "cell_type": "code",
   "execution_count": 7,
   "metadata": {},
   "outputs": [],
   "source": [
    "class Valor:\n",
    "    def __init__(self, data):\n",
    "        self.data = data\n",
    "\n",
    "    def __repr__(self):\n",
    "        return f\"Valor(data={self.data})\"\n",
    "\n",
    "    def __add__(self, outro_valor):\n",
    "        saida = Valor(self.data + outro_valor.data)\n",
    "        return saida\n",
    "\n",
    "    def __mul__(self, outro_valor):\n",
    "        saida = Valor(self.data * outro_valor.data)\n",
    "        return saida"
   ]
  },
  {
   "cell_type": "markdown",
   "metadata": {},
   "source": [
    "Vamos testar!\n",
    "\n"
   ]
  },
  {
   "cell_type": "code",
   "execution_count": 8,
   "metadata": {},
   "outputs": [
    {
     "name": "stdout",
     "output_type": "stream",
     "text": [
      "Valor(data=15)\n",
      "Valor(data=50)\n"
     ]
    }
   ],
   "source": [
    "a = Valor(10)\n",
    "b = Valor(5)\n",
    "\n",
    "print(a + b)\n",
    "print(a * b)"
   ]
  },
  {
   "cell_type": "markdown",
   "metadata": {},
   "source": [
    "### Registrando os progenitores\n",
    "\n"
   ]
  },
  {
   "cell_type": "markdown",
   "metadata": {},
   "source": [
    "Nosso objetivo é construir um grafo computacional. Em um grafo computacional, um certo vértice pode ter um ou mais vértices progenitores (são seus pais/mães). Nós não podemos perder essa informação quando formos construir um grafo, então precisamos incluir essa informação na nossa classe.\n",
    "\n"
   ]
  },
  {
   "cell_type": "code",
   "execution_count": 9,
   "metadata": {},
   "outputs": [],
   "source": [
    "class Valor:\n",
    "    def __init__(self, data, progenitor=()):\n",
    "        self.data = data\n",
    "        self.progenitor = progenitor\n",
    "\n",
    "    def __repr__(self):\n",
    "        return f\"Valor(data={self.data})\"\n",
    "\n",
    "    def __add__(self, outro_valor):\n",
    "        data = self.data + outro_valor.data\n",
    "        progenitor = (self, outro_valor)\n",
    "        saida = Valor(data, progenitor)\n",
    "        return saida\n",
    "\n",
    "    def __mul__(self, outro_valor):\n",
    "        data = self.data * outro_valor.data\n",
    "        progenitor = (self, outro_valor)\n",
    "        saida = Valor(data, progenitor)\n",
    "        return saida"
   ]
  },
  {
   "cell_type": "markdown",
   "metadata": {},
   "source": [
    "Vamos testar!\n",
    "\n"
   ]
  },
  {
   "cell_type": "code",
   "execution_count": 10,
   "metadata": {},
   "outputs": [
    {
     "name": "stdout",
     "output_type": "stream",
     "text": [
      "10\n",
      "()\n",
      "(Valor(data=10), Valor(data=5))\n",
      "(Valor(data=15), Valor(data=10))\n"
     ]
    }
   ],
   "source": [
    "a = Valor(10)\n",
    "b = Valor(5)\n",
    "\n",
    "print(a.data)\n",
    "print(a.progenitor)\n",
    "\n",
    "c = a + b\n",
    "d = c * a\n",
    "\n",
    "print(c.progenitor)\n",
    "print(d.progenitor)"
   ]
  },
  {
   "cell_type": "markdown",
   "metadata": {},
   "source": [
    "### Registrando o operador mãe\n",
    "\n"
   ]
  },
  {
   "cell_type": "markdown",
   "metadata": {},
   "source": [
    "Em um grafo computacional, um vértice pode ter um operador mãe. O operador mãe é o operador que foi usado para gerar o vértice.\n",
    "\n"
   ]
  },
  {
   "cell_type": "code",
   "execution_count": 11,
   "metadata": {},
   "outputs": [],
   "source": [
    "class Valor:\n",
    "    def __init__(self, data, progenitor=(), operador_mae=\"\"):\n",
    "        self.data = data\n",
    "        self.progenitor = progenitor\n",
    "        self.operador_mae = operador_mae\n",
    "\n",
    "    def __repr__(self):\n",
    "        return f\"Valor(data={self.data})\"\n",
    "\n",
    "    def __add__(self, outro_valor):\n",
    "        data = self.data + outro_valor.data\n",
    "        progenitor = (self, outro_valor)\n",
    "        operador_mae = \"+\"\n",
    "        saida = Valor(data, progenitor, operador_mae)\n",
    "        return saida\n",
    "\n",
    "    def __mul__(self, outro_valor):\n",
    "        data = self.data * outro_valor.data\n",
    "        progenitor = (self, outro_valor)\n",
    "        operador_mae = \"*\"\n",
    "        saida = Valor(data, progenitor, operador_mae)\n",
    "        return saida"
   ]
  },
  {
   "cell_type": "markdown",
   "metadata": {},
   "source": [
    "Vamos testar!\n",
    "\n"
   ]
  },
  {
   "cell_type": "code",
   "execution_count": 12,
   "metadata": {},
   "outputs": [
    {
     "name": "stdout",
     "output_type": "stream",
     "text": [
      "10\n",
      "\n",
      "+\n",
      "*\n"
     ]
    }
   ],
   "source": [
    "a = Valor(10)\n",
    "b = Valor(5)\n",
    "\n",
    "print(a.data)\n",
    "print(a.operador_mae)\n",
    "\n",
    "c = a + b\n",
    "d = c * a\n",
    "\n",
    "print(c.operador_mae)\n",
    "print(d.operador_mae)"
   ]
  },
  {
   "cell_type": "markdown",
   "metadata": {},
   "source": [
    "### Plotando o primeiro grafo\n",
    "\n"
   ]
  },
  {
   "cell_type": "markdown",
   "metadata": {},
   "source": [
    "Vamos plotar nosso primeiro grafo!\n",
    "\n"
   ]
  },
  {
   "cell_type": "code",
   "execution_count": 13,
   "metadata": {},
   "outputs": [
    {
     "data": {
      "image/svg+xml": [
       "<?xml version=\"1.0\" encoding=\"UTF-8\" standalone=\"no\"?>\n",
       "<!DOCTYPE svg PUBLIC \"-//W3C//DTD SVG 1.1//EN\"\n",
       " \"http://www.w3.org/Graphics/SVG/1.1/DTD/svg11.dtd\">\n",
       "<!-- Generated by graphviz version 8.0.3 (20230416.2022)\n",
       " -->\n",
       "<!-- Pages: 1 -->\n",
       "<svg width=\"474pt\" height=\"127pt\"\n",
       " viewBox=\"0.00 0.00 474.00 127.00\" xmlns=\"http://www.w3.org/2000/svg\" xmlns:xlink=\"http://www.w3.org/1999/xlink\">\n",
       "<g id=\"graph0\" class=\"graph\" transform=\"scale(1 1) rotate(0) translate(4 123)\">\n",
       "<polygon fill=\"white\" stroke=\"none\" points=\"-4,4 -4,-123 470,-123 470,4 -4,4\"/>\n",
       "<!-- 2184328361104 -->\n",
       "<g id=\"node1\" class=\"node\">\n",
       "<title>2184328361104</title>\n",
       "<polygon fill=\"none\" stroke=\"black\" points=\"198,-82.5 198,-118.5 272,-118.5 272,-82.5 198,-82.5\"/>\n",
       "<text text-anchor=\"middle\" x=\"235\" y=\"-96.8\" font-family=\"Times New Roman,serif\" font-size=\"14.00\">data 10.00</text>\n",
       "</g>\n",
       "<!-- 2184327629456+ -->\n",
       "<g id=\"node3\" class=\"node\">\n",
       "<title>2184327629456+</title>\n",
       "<ellipse fill=\"none\" stroke=\"black\" cx=\"335\" cy=\"-72.5\" rx=\"27\" ry=\"18\"/>\n",
       "<text text-anchor=\"middle\" x=\"335\" y=\"-68.8\" font-family=\"Times New Roman,serif\" font-size=\"14.00\">+</text>\n",
       "</g>\n",
       "<!-- 2184328361104&#45;&gt;2184327629456+ -->\n",
       "<g id=\"edge6\" class=\"edge\">\n",
       "<title>2184328361104&#45;&gt;2184327629456+</title>\n",
       "<path fill=\"none\" stroke=\"black\" d=\"M271.94,-90.23C280.87,-87.68 290.42,-84.95 299.3,-82.42\"/>\n",
       "<polygon fill=\"black\" stroke=\"black\" points=\"300.04,-85.56 308.69,-79.45 298.11,-78.83 300.04,-85.56\"/>\n",
       "</g>\n",
       "<!-- 2184327629456 -->\n",
       "<g id=\"node2\" class=\"node\">\n",
       "<title>2184327629456</title>\n",
       "<polygon fill=\"none\" stroke=\"black\" points=\"398,-54.5 398,-90.5 466,-90.5 466,-54.5 398,-54.5\"/>\n",
       "<text text-anchor=\"middle\" x=\"432\" y=\"-68.8\" font-family=\"Times New Roman,serif\" font-size=\"14.00\">data 4.00</text>\n",
       "</g>\n",
       "<!-- 2184327629456+&#45;&gt;2184327629456 -->\n",
       "<g id=\"edge1\" class=\"edge\">\n",
       "<title>2184327629456+&#45;&gt;2184327629456</title>\n",
       "<path fill=\"none\" stroke=\"black\" d=\"M362.46,-72.5C370.17,-72.5 378.81,-72.5 387.29,-72.5\"/>\n",
       "<polygon fill=\"black\" stroke=\"black\" points=\"387.25,-76 397.25,-72.5 387.25,-69 387.25,-76\"/>\n",
       "</g>\n",
       "<!-- 2184327628592 -->\n",
       "<g id=\"node4\" class=\"node\">\n",
       "<title>2184327628592</title>\n",
       "<polygon fill=\"none\" stroke=\"black\" points=\"0,-55.5 0,-91.5 72,-91.5 72,-55.5 0,-55.5\"/>\n",
       "<text text-anchor=\"middle\" x=\"36\" y=\"-69.8\" font-family=\"Times New Roman,serif\" font-size=\"14.00\">data &#45;3.00</text>\n",
       "</g>\n",
       "<!-- 2184328361920* -->\n",
       "<g id=\"node7\" class=\"node\">\n",
       "<title>2184328361920*</title>\n",
       "<ellipse fill=\"none\" stroke=\"black\" cx=\"135\" cy=\"-45.5\" rx=\"27\" ry=\"18\"/>\n",
       "<text text-anchor=\"middle\" x=\"135\" y=\"-41.8\" font-family=\"Times New Roman,serif\" font-size=\"14.00\">*</text>\n",
       "</g>\n",
       "<!-- 2184327628592&#45;&gt;2184328361920* -->\n",
       "<g id=\"edge4\" class=\"edge\">\n",
       "<title>2184327628592&#45;&gt;2184328361920*</title>\n",
       "<path fill=\"none\" stroke=\"black\" d=\"M71.75,-63.47C80.71,-60.88 90.36,-58.1 99.32,-55.51\"/>\n",
       "<polygon fill=\"black\" stroke=\"black\" points=\"100.19,-58.61 108.82,-52.48 98.25,-51.89 100.19,-58.61\"/>\n",
       "</g>\n",
       "<!-- 2184328363360 -->\n",
       "<g id=\"node5\" class=\"node\">\n",
       "<title>2184328363360</title>\n",
       "<polygon fill=\"none\" stroke=\"black\" points=\"2,-0.5 2,-36.5 70,-36.5 70,-0.5 2,-0.5\"/>\n",
       "<text text-anchor=\"middle\" x=\"36\" y=\"-14.8\" font-family=\"Times New Roman,serif\" font-size=\"14.00\">data 2.00</text>\n",
       "</g>\n",
       "<!-- 2184328363360&#45;&gt;2184328361920* -->\n",
       "<g id=\"edge3\" class=\"edge\">\n",
       "<title>2184328363360&#45;&gt;2184328361920*</title>\n",
       "<path fill=\"none\" stroke=\"black\" d=\"M69.84,-27.64C79.26,-30.26 89.57,-33.13 99.11,-35.79\"/>\n",
       "<polygon fill=\"black\" stroke=\"black\" points=\"97.9,-39.36 108.48,-38.67 99.78,-32.62 97.9,-39.36\"/>\n",
       "</g>\n",
       "<!-- 2184328361920 -->\n",
       "<g id=\"node6\" class=\"node\">\n",
       "<title>2184328361920</title>\n",
       "<polygon fill=\"none\" stroke=\"black\" points=\"199,-27.5 199,-63.5 271,-63.5 271,-27.5 199,-27.5\"/>\n",
       "<text text-anchor=\"middle\" x=\"235\" y=\"-41.8\" font-family=\"Times New Roman,serif\" font-size=\"14.00\">data &#45;6.00</text>\n",
       "</g>\n",
       "<!-- 2184328361920&#45;&gt;2184327629456+ -->\n",
       "<g id=\"edge5\" class=\"edge\">\n",
       "<title>2184328361920&#45;&gt;2184327629456+</title>\n",
       "<path fill=\"none\" stroke=\"black\" d=\"M270.83,-55.1C280,-57.62 289.9,-60.35 299.08,-62.88\"/>\n",
       "<polygon fill=\"black\" stroke=\"black\" points=\"297.87,-66.45 308.44,-65.73 299.73,-59.7 297.87,-66.45\"/>\n",
       "</g>\n",
       "<!-- 2184328361920*&#45;&gt;2184328361920 -->\n",
       "<g id=\"edge2\" class=\"edge\">\n",
       "<title>2184328361920*&#45;&gt;2184328361920</title>\n",
       "<path fill=\"none\" stroke=\"black\" d=\"M162.26,-45.5C170.32,-45.5 179.44,-45.5 188.4,-45.5\"/>\n",
       "<polygon fill=\"black\" stroke=\"black\" points=\"188.18,-49 198.18,-45.5 188.18,-42 188.18,-49\"/>\n",
       "</g>\n",
       "</g>\n",
       "</svg>\n"
      ],
      "text/plain": [
       "<graphviz.graphs.Digraph at 0x1fc94128a00>"
      ]
     },
     "execution_count": 13,
     "metadata": {},
     "output_type": "execute_result"
    }
   ],
   "source": [
    "a = Valor(2)\n",
    "b = Valor(-3)\n",
    "c = Valor(10)\n",
    "\n",
    "d = a * b\n",
    "e = d + c\n",
    "\n",
    "plota_grafo(e)"
   ]
  },
  {
   "cell_type": "markdown",
   "metadata": {},
   "source": [
    "### Registrando o rótulo\n",
    "\n"
   ]
  },
  {
   "cell_type": "markdown",
   "metadata": {},
   "source": [
    "Nosso grafo seria mais legível se tivéssemos rótulos indicando o que é cada vértice. Vamos incluir essa informação na nossa classe.\n",
    "\n"
   ]
  },
  {
   "cell_type": "code",
   "execution_count": 14,
   "metadata": {},
   "outputs": [],
   "source": [
    "class Valor:\n",
    "    def __init__(self, data, progenitor=(), operador_mae=\"\", rotulo=\"\"):\n",
    "        self.data = data\n",
    "        self.progenitor = progenitor\n",
    "        self.operador_mae = operador_mae\n",
    "        self.rotulo = rotulo\n",
    "\n",
    "    def __repr__(self):\n",
    "        return f\"Valor(data={self.data})\"\n",
    "\n",
    "    def __add__(self, outro_valor):\n",
    "        data = self.data + outro_valor.data\n",
    "        progenitor = (self, outro_valor)\n",
    "        operador_mae = \"+\"\n",
    "        saida = Valor(data, progenitor, operador_mae)\n",
    "        return saida\n",
    "\n",
    "    def __mul__(self, outro_valor):\n",
    "        data = self.data * outro_valor.data\n",
    "        progenitor = (self, outro_valor)\n",
    "        operador_mae = \"*\"\n",
    "        saida = Valor(data, progenitor, operador_mae)\n",
    "        return saida"
   ]
  },
  {
   "cell_type": "markdown",
   "metadata": {},
   "source": [
    "Vamos testar!\n",
    "\n"
   ]
  },
  {
   "cell_type": "code",
   "execution_count": 15,
   "metadata": {},
   "outputs": [
    {
     "name": "stdout",
     "output_type": "stream",
     "text": [
      "digraph {\n",
      "\tgraph [rankdir=LR]\n",
      "\t2184328362688 [label=\"{ e | data 4.00 }\" shape=record]\n",
      "\t\"2184328362688+\" [label=\"+\"]\n",
      "\t\"2184328362688+\" -> 2184328362688\n",
      "\t2184328360720 [label=\"{ c | data 10.00 }\" shape=record]\n",
      "\t2184328361296 [label=\"{ a | data 2.00 }\" shape=record]\n",
      "\t2184328360336 [label=\"{ b | data -3.00 }\" shape=record]\n",
      "\t2184328363504 [label=\"{ d | data -6.00 }\" shape=record]\n",
      "\t\"2184328363504*\" [label=\"*\"]\n",
      "\t\"2184328363504*\" -> 2184328363504\n",
      "\t2184328360720 -> \"2184328362688+\"\n",
      "\t2184328363504 -> \"2184328362688+\"\n",
      "\t2184328361296 -> \"2184328363504*\"\n",
      "\t2184328360336 -> \"2184328363504*\"\n",
      "}\n",
      "\n"
     ]
    },
    {
     "data": {
      "image/svg+xml": [
       "<?xml version=\"1.0\" encoding=\"UTF-8\" standalone=\"no\"?>\n",
       "<!DOCTYPE svg PUBLIC \"-//W3C//DTD SVG 1.1//EN\"\n",
       " \"http://www.w3.org/Graphics/SVG/1.1/DTD/svg11.dtd\">\n",
       "<!-- Generated by graphviz version 8.0.3 (20230416.2022)\n",
       " -->\n",
       "<!-- Pages: 1 -->\n",
       "<svg width=\"544pt\" height=\"127pt\"\n",
       " viewBox=\"0.00 0.00 544.00 127.00\" xmlns=\"http://www.w3.org/2000/svg\" xmlns:xlink=\"http://www.w3.org/1999/xlink\">\n",
       "<g id=\"graph0\" class=\"graph\" transform=\"scale(1 1) rotate(0) translate(4 123)\">\n",
       "<polygon fill=\"white\" stroke=\"none\" points=\"-4,4 -4,-123 540,-123 540,4 -4,4\"/>\n",
       "<!-- 2184328362688 -->\n",
       "<g id=\"node1\" class=\"node\">\n",
       "<title>2184328362688</title>\n",
       "<polygon fill=\"none\" stroke=\"black\" points=\"445,-54.5 445,-90.5 536,-90.5 536,-54.5 445,-54.5\"/>\n",
       "<text text-anchor=\"middle\" x=\"456.5\" y=\"-68.8\" font-family=\"Times New Roman,serif\" font-size=\"14.00\">e</text>\n",
       "<polyline fill=\"none\" stroke=\"black\" points=\"468,-54.5 468,-90.5\"/>\n",
       "<text text-anchor=\"middle\" x=\"502\" y=\"-68.8\" font-family=\"Times New Roman,serif\" font-size=\"14.00\">data 4.00</text>\n",
       "</g>\n",
       "<!-- 2184328362688+ -->\n",
       "<g id=\"node2\" class=\"node\">\n",
       "<title>2184328362688+</title>\n",
       "<ellipse fill=\"none\" stroke=\"black\" cx=\"382\" cy=\"-72.5\" rx=\"27\" ry=\"18\"/>\n",
       "<text text-anchor=\"middle\" x=\"382\" y=\"-68.8\" font-family=\"Times New Roman,serif\" font-size=\"14.00\">+</text>\n",
       "</g>\n",
       "<!-- 2184328362688+&#45;&gt;2184328362688 -->\n",
       "<g id=\"edge1\" class=\"edge\">\n",
       "<title>2184328362688+&#45;&gt;2184328362688</title>\n",
       "<path fill=\"none\" stroke=\"black\" d=\"M409.33,-72.5C416.95,-72.5 425.57,-72.5 434.26,-72.5\"/>\n",
       "<polygon fill=\"black\" stroke=\"black\" points=\"434.24,-76 444.24,-72.5 434.24,-69 434.24,-76\"/>\n",
       "</g>\n",
       "<!-- 2184328360720 -->\n",
       "<g id=\"node3\" class=\"node\">\n",
       "<title>2184328360720</title>\n",
       "<polygon fill=\"none\" stroke=\"black\" points=\"222,-82.5 222,-118.5 319,-118.5 319,-82.5 222,-82.5\"/>\n",
       "<text text-anchor=\"middle\" x=\"233.5\" y=\"-96.8\" font-family=\"Times New Roman,serif\" font-size=\"14.00\">c</text>\n",
       "<polyline fill=\"none\" stroke=\"black\" points=\"245,-82.5 245,-118.5\"/>\n",
       "<text text-anchor=\"middle\" x=\"282\" y=\"-96.8\" font-family=\"Times New Roman,serif\" font-size=\"14.00\">data 10.00</text>\n",
       "</g>\n",
       "<!-- 2184328360720&#45;&gt;2184328362688+ -->\n",
       "<g id=\"edge3\" class=\"edge\">\n",
       "<title>2184328360720&#45;&gt;2184328362688+</title>\n",
       "<path fill=\"none\" stroke=\"black\" d=\"M318.89,-88.38C327.99,-86.05 337.37,-83.66 346,-81.45\"/>\n",
       "<polygon fill=\"black\" stroke=\"black\" points=\"346.62,-84.65 355.44,-78.78 344.89,-77.87 346.62,-84.65\"/>\n",
       "</g>\n",
       "<!-- 2184328361296 -->\n",
       "<g id=\"node4\" class=\"node\">\n",
       "<title>2184328361296</title>\n",
       "<polygon fill=\"none\" stroke=\"black\" points=\"2.5,-55.5 2.5,-91.5 93.5,-91.5 93.5,-55.5 2.5,-55.5\"/>\n",
       "<text text-anchor=\"middle\" x=\"14\" y=\"-69.8\" font-family=\"Times New Roman,serif\" font-size=\"14.00\">a</text>\n",
       "<polyline fill=\"none\" stroke=\"black\" points=\"25.5,-55.5 25.5,-91.5\"/>\n",
       "<text text-anchor=\"middle\" x=\"59.5\" y=\"-69.8\" font-family=\"Times New Roman,serif\" font-size=\"14.00\">data 2.00</text>\n",
       "</g>\n",
       "<!-- 2184328363504* -->\n",
       "<g id=\"node7\" class=\"node\">\n",
       "<title>2184328363504*</title>\n",
       "<ellipse fill=\"none\" stroke=\"black\" cx=\"159\" cy=\"-45.5\" rx=\"27\" ry=\"18\"/>\n",
       "<text text-anchor=\"middle\" x=\"159\" y=\"-41.8\" font-family=\"Times New Roman,serif\" font-size=\"14.00\">*</text>\n",
       "</g>\n",
       "<!-- 2184328361296&#45;&gt;2184328363504* -->\n",
       "<g id=\"edge5\" class=\"edge\">\n",
       "<title>2184328361296&#45;&gt;2184328363504*</title>\n",
       "<path fill=\"none\" stroke=\"black\" d=\"M93.33,-62.11C103.16,-59.59 113.45,-56.94 122.85,-54.53\"/>\n",
       "<polygon fill=\"black\" stroke=\"black\" points=\"123.59,-57.7 132.4,-51.82 121.85,-50.92 123.59,-57.7\"/>\n",
       "</g>\n",
       "<!-- 2184328360336 -->\n",
       "<g id=\"node5\" class=\"node\">\n",
       "<title>2184328360336</title>\n",
       "<polygon fill=\"none\" stroke=\"black\" points=\"0,-0.5 0,-36.5 96,-36.5 96,-0.5 0,-0.5\"/>\n",
       "<text text-anchor=\"middle\" x=\"12\" y=\"-14.8\" font-family=\"Times New Roman,serif\" font-size=\"14.00\">b</text>\n",
       "<polyline fill=\"none\" stroke=\"black\" points=\"24,-0.5 24,-36.5\"/>\n",
       "<text text-anchor=\"middle\" x=\"60\" y=\"-14.8\" font-family=\"Times New Roman,serif\" font-size=\"14.00\">data &#45;3.00</text>\n",
       "</g>\n",
       "<!-- 2184328360336&#45;&gt;2184328363504* -->\n",
       "<g id=\"edge6\" class=\"edge\">\n",
       "<title>2184328360336&#45;&gt;2184328363504*</title>\n",
       "<path fill=\"none\" stroke=\"black\" d=\"M95.86,-30.11C104.77,-32.31 113.95,-34.59 122.43,-36.69\"/>\n",
       "<polygon fill=\"black\" stroke=\"black\" points=\"121.56,-40.33 132.1,-39.33 123.24,-33.53 121.56,-40.33\"/>\n",
       "</g>\n",
       "<!-- 2184328363504 -->\n",
       "<g id=\"node6\" class=\"node\">\n",
       "<title>2184328363504</title>\n",
       "<polygon fill=\"none\" stroke=\"black\" points=\"222.5,-27.5 222.5,-63.5 318.5,-63.5 318.5,-27.5 222.5,-27.5\"/>\n",
       "<text text-anchor=\"middle\" x=\"234.5\" y=\"-41.8\" font-family=\"Times New Roman,serif\" font-size=\"14.00\">d</text>\n",
       "<polyline fill=\"none\" stroke=\"black\" points=\"246.5,-27.5 246.5,-63.5\"/>\n",
       "<text text-anchor=\"middle\" x=\"282.5\" y=\"-41.8\" font-family=\"Times New Roman,serif\" font-size=\"14.00\">data &#45;6.00</text>\n",
       "</g>\n",
       "<!-- 2184328363504&#45;&gt;2184328362688+ -->\n",
       "<g id=\"edge4\" class=\"edge\">\n",
       "<title>2184328363504&#45;&gt;2184328362688+</title>\n",
       "<path fill=\"none\" stroke=\"black\" d=\"M318.26,-57.03C327.41,-59.29 336.87,-61.62 345.58,-63.77\"/>\n",
       "<polygon fill=\"black\" stroke=\"black\" points=\"344.59,-67.37 355.14,-66.37 346.26,-60.58 344.59,-67.37\"/>\n",
       "</g>\n",
       "<!-- 2184328363504*&#45;&gt;2184328363504 -->\n",
       "<g id=\"edge2\" class=\"edge\">\n",
       "<title>2184328363504*&#45;&gt;2184328363504</title>\n",
       "<path fill=\"none\" stroke=\"black\" d=\"M186.23,-45.5C193.96,-45.5 202.76,-45.5 211.66,-45.5\"/>\n",
       "<polygon fill=\"black\" stroke=\"black\" points=\"211.5,-49 221.5,-45.5 211.5,-42 211.5,-49\"/>\n",
       "</g>\n",
       "</g>\n",
       "</svg>\n"
      ],
      "text/plain": [
       "<graphviz.graphs.Digraph at 0x1fc941dbd60>"
      ]
     },
     "execution_count": 15,
     "metadata": {},
     "output_type": "execute_result"
    }
   ],
   "source": [
    "a = Valor(2, rotulo=\"a\")\n",
    "b = Valor(-3, rotulo=\"b\")\n",
    "c = Valor(10, rotulo=\"c\")\n",
    "\n",
    "d = a * b\n",
    "e = d + c\n",
    "\n",
    "d.rotulo = \"d\"\n",
    "e.rotulo = \"e\"\n",
    "\n",
    "grafo = plota_grafo(e)\n",
    "print(grafo)\n",
    "grafo"
   ]
  },
  {
   "cell_type": "markdown",
   "metadata": {},
   "source": [
    "### Refazendo o grafo que fizemos na aula anterior\n",
    "\n"
   ]
  },
  {
   "cell_type": "markdown",
   "metadata": {},
   "source": [
    "Na aula anterior nós fizemos um grafo computacional para aprender como funciona o backpropagation. Vamos refazer ele aqui!\n",
    "\n"
   ]
  },
  {
   "cell_type": "code",
   "execution_count": 16,
   "metadata": {},
   "outputs": [
    {
     "data": {
      "image/svg+xml": [
       "<?xml version=\"1.0\" encoding=\"UTF-8\" standalone=\"no\"?>\n",
       "<!DOCTYPE svg PUBLIC \"-//W3C//DTD SVG 1.1//EN\"\n",
       " \"http://www.w3.org/Graphics/SVG/1.1/DTD/svg11.dtd\">\n",
       "<!-- Generated by graphviz version 8.0.3 (20230416.2022)\n",
       " -->\n",
       "<!-- Pages: 1 -->\n",
       "<svg width=\"1048pt\" height=\"210pt\"\n",
       " viewBox=\"0.00 0.00 1048.00 210.00\" xmlns=\"http://www.w3.org/2000/svg\" xmlns:xlink=\"http://www.w3.org/1999/xlink\">\n",
       "<g id=\"graph0\" class=\"graph\" transform=\"scale(1 1) rotate(0) translate(4 206)\">\n",
       "<polygon fill=\"white\" stroke=\"none\" points=\"-4,4 -4,-206 1044,-206 1044,4 -4,4\"/>\n",
       "<!-- 2184327627296 -->\n",
       "<g id=\"node1\" class=\"node\">\n",
       "<title>2184327627296</title>\n",
       "<polygon fill=\"none\" stroke=\"black\" points=\"699,-109.5 699,-145.5 803,-145.5 803,-109.5 699,-109.5\"/>\n",
       "<text text-anchor=\"middle\" x=\"710.5\" y=\"-123.8\" font-family=\"Times New Roman,serif\" font-size=\"14.00\">k</text>\n",
       "<polyline fill=\"none\" stroke=\"black\" points=\"722,-109.5 722,-145.5\"/>\n",
       "<text text-anchor=\"middle\" x=\"762.5\" y=\"-123.8\" font-family=\"Times New Roman,serif\" font-size=\"14.00\">data 727.00</text>\n",
       "</g>\n",
       "<!-- 2184327628208* -->\n",
       "<g id=\"node13\" class=\"node\">\n",
       "<title>2184327628208*</title>\n",
       "<ellipse fill=\"none\" stroke=\"black\" cx=\"866\" cy=\"-154.5\" rx=\"27\" ry=\"18\"/>\n",
       "<text text-anchor=\"middle\" x=\"866\" y=\"-150.8\" font-family=\"Times New Roman,serif\" font-size=\"14.00\">*</text>\n",
       "</g>\n",
       "<!-- 2184327627296&#45;&gt;2184327628208* -->\n",
       "<g id=\"edge8\" class=\"edge\">\n",
       "<title>2184327627296&#45;&gt;2184327628208*</title>\n",
       "<path fill=\"none\" stroke=\"black\" d=\"M802.88,-139.66C811.84,-141.8 820.99,-143.98 829.42,-146\"/>\n",
       "<polygon fill=\"black\" stroke=\"black\" points=\"828.47,-149.61 839.01,-148.53 830.09,-142.8 828.47,-149.61\"/>\n",
       "</g>\n",
       "<!-- 2184327627296+ -->\n",
       "<g id=\"node2\" class=\"node\">\n",
       "<title>2184327627296+</title>\n",
       "<ellipse fill=\"none\" stroke=\"black\" cx=\"636\" cy=\"-127.5\" rx=\"27\" ry=\"18\"/>\n",
       "<text text-anchor=\"middle\" x=\"636\" y=\"-123.8\" font-family=\"Times New Roman,serif\" font-size=\"14.00\">+</text>\n",
       "</g>\n",
       "<!-- 2184327627296+&#45;&gt;2184327627296 -->\n",
       "<g id=\"edge1\" class=\"edge\">\n",
       "<title>2184327627296+&#45;&gt;2184327627296</title>\n",
       "<path fill=\"none\" stroke=\"black\" d=\"M663.49,-127.5C671.1,-127.5 679.73,-127.5 688.52,-127.5\"/>\n",
       "<polygon fill=\"black\" stroke=\"black\" points=\"688.26,-131 698.26,-127.5 688.26,-124 688.26,-131\"/>\n",
       "</g>\n",
       "<!-- 2184327629888 -->\n",
       "<g id=\"node3\" class=\"node\">\n",
       "<title>2184327629888</title>\n",
       "<polygon fill=\"none\" stroke=\"black\" points=\"475,-137.5 475,-173.5 567,-173.5 567,-137.5 475,-137.5\"/>\n",
       "<text text-anchor=\"middle\" x=\"487\" y=\"-151.8\" font-family=\"Times New Roman,serif\" font-size=\"14.00\">b</text>\n",
       "<polyline fill=\"none\" stroke=\"black\" points=\"499,-137.5 499,-173.5\"/>\n",
       "<text text-anchor=\"middle\" x=\"533\" y=\"-151.8\" font-family=\"Times New Roman,serif\" font-size=\"14.00\">data 7.00</text>\n",
       "</g>\n",
       "<!-- 2184327629888&#45;&gt;2184327627296+ -->\n",
       "<g id=\"edge7\" class=\"edge\">\n",
       "<title>2184327629888&#45;&gt;2184327627296+</title>\n",
       "<path fill=\"none\" stroke=\"black\" d=\"M566.99,-144.35C577.95,-141.64 589.52,-138.77 599.94,-136.19\"/>\n",
       "<polygon fill=\"black\" stroke=\"black\" points=\"600.45,-139.42 609.32,-133.62 598.77,-132.62 600.45,-139.42\"/>\n",
       "</g>\n",
       "<!-- 2184327628928 -->\n",
       "<g id=\"node4\" class=\"node\">\n",
       "<title>2184327628928</title>\n",
       "<polygon fill=\"none\" stroke=\"black\" points=\"469,-82.5 469,-118.5 573,-118.5 573,-82.5 469,-82.5\"/>\n",
       "<text text-anchor=\"middle\" x=\"480.5\" y=\"-96.8\" font-family=\"Times New Roman,serif\" font-size=\"14.00\">n</text>\n",
       "<polyline fill=\"none\" stroke=\"black\" points=\"492,-82.5 492,-118.5\"/>\n",
       "<text text-anchor=\"middle\" x=\"532.5\" y=\"-96.8\" font-family=\"Times New Roman,serif\" font-size=\"14.00\">data 720.00</text>\n",
       "</g>\n",
       "<!-- 2184327628928&#45;&gt;2184327627296+ -->\n",
       "<g id=\"edge6\" class=\"edge\">\n",
       "<title>2184327628928&#45;&gt;2184327627296+</title>\n",
       "<path fill=\"none\" stroke=\"black\" d=\"M572.88,-112.66C581.84,-114.8 590.99,-116.98 599.42,-119\"/>\n",
       "<polygon fill=\"black\" stroke=\"black\" points=\"598.47,-122.61 609.01,-121.53 600.09,-115.8 598.47,-122.61\"/>\n",
       "</g>\n",
       "<!-- 2184327628928+ -->\n",
       "<g id=\"node5\" class=\"node\">\n",
       "<title>2184327628928+</title>\n",
       "<ellipse fill=\"none\" stroke=\"black\" cx=\"406\" cy=\"-100.5\" rx=\"27\" ry=\"18\"/>\n",
       "<text text-anchor=\"middle\" x=\"406\" y=\"-96.8\" font-family=\"Times New Roman,serif\" font-size=\"14.00\">+</text>\n",
       "</g>\n",
       "<!-- 2184327628928+&#45;&gt;2184327628928 -->\n",
       "<g id=\"edge2\" class=\"edge\">\n",
       "<title>2184327628928+&#45;&gt;2184327628928</title>\n",
       "<path fill=\"none\" stroke=\"black\" d=\"M433.49,-100.5C441.1,-100.5 449.73,-100.5 458.52,-100.5\"/>\n",
       "<polygon fill=\"black\" stroke=\"black\" points=\"458.26,-104 468.26,-100.5 458.26,-97 458.26,-104\"/>\n",
       "</g>\n",
       "<!-- 2184327628976 -->\n",
       "<g id=\"node6\" class=\"node\">\n",
       "<title>2184327628976</title>\n",
       "<polygon fill=\"none\" stroke=\"black\" points=\"700.5,-164.5 700.5,-200.5 801.5,-200.5 801.5,-164.5 700.5,-164.5\"/>\n",
       "<text text-anchor=\"middle\" x=\"717\" y=\"-178.8\" font-family=\"Times New Roman,serif\" font-size=\"14.00\">w3</text>\n",
       "<polyline fill=\"none\" stroke=\"black\" points=\"733.5,-164.5 733.5,-200.5\"/>\n",
       "<text text-anchor=\"middle\" x=\"767.5\" y=\"-178.8\" font-family=\"Times New Roman,serif\" font-size=\"14.00\">data 2.00</text>\n",
       "</g>\n",
       "<!-- 2184327628976&#45;&gt;2184327628208* -->\n",
       "<g id=\"edge11\" class=\"edge\">\n",
       "<title>2184327628976&#45;&gt;2184327628208*</title>\n",
       "<path fill=\"none\" stroke=\"black\" d=\"M801.23,-170.3C810.79,-167.93 820.63,-165.49 829.63,-163.26\"/>\n",
       "<polygon fill=\"black\" stroke=\"black\" points=\"830.26,-166.47 839.12,-160.66 828.57,-159.67 830.26,-166.47\"/>\n",
       "</g>\n",
       "<!-- 2184327626960 -->\n",
       "<g id=\"node7\" class=\"node\">\n",
       "<title>2184327626960</title>\n",
       "<polygon fill=\"none\" stroke=\"black\" points=\"0,-165.5 0,-201.5 107,-201.5 107,-165.5 0,-165.5\"/>\n",
       "<text text-anchor=\"middle\" x=\"16.5\" y=\"-179.8\" font-family=\"Times New Roman,serif\" font-size=\"14.00\">w1</text>\n",
       "<polyline fill=\"none\" stroke=\"black\" points=\"33,-165.5 33,-201.5\"/>\n",
       "<text text-anchor=\"middle\" x=\"70\" y=\"-179.8\" font-family=\"Times New Roman,serif\" font-size=\"14.00\">data 10.00</text>\n",
       "</g>\n",
       "<!-- 2184327628688* -->\n",
       "<g id=\"node11\" class=\"node\">\n",
       "<title>2184327628688*</title>\n",
       "<ellipse fill=\"none\" stroke=\"black\" cx=\"170\" cy=\"-128.5\" rx=\"27\" ry=\"18\"/>\n",
       "<text text-anchor=\"middle\" x=\"170\" y=\"-124.8\" font-family=\"Times New Roman,serif\" font-size=\"14.00\">*</text>\n",
       "</g>\n",
       "<!-- 2184327626960&#45;&gt;2184327628688* -->\n",
       "<g id=\"edge12\" class=\"edge\">\n",
       "<title>2184327626960&#45;&gt;2184327628688*</title>\n",
       "<path fill=\"none\" stroke=\"black\" d=\"M91.67,-165.64C106.49,-158.53 123.36,-150.42 137.56,-143.6\"/>\n",
       "<polygon fill=\"black\" stroke=\"black\" points=\"138.86,-146.38 146.36,-138.9 135.83,-140.07 138.86,-146.38\"/>\n",
       "</g>\n",
       "<!-- 2184327627488 -->\n",
       "<g id=\"node8\" class=\"node\">\n",
       "<title>2184327627488</title>\n",
       "<polygon fill=\"none\" stroke=\"black\" points=\"1.5,-55.5 1.5,-91.5 105.5,-91.5 105.5,-55.5 1.5,-55.5\"/>\n",
       "<text text-anchor=\"middle\" x=\"16.5\" y=\"-69.8\" font-family=\"Times New Roman,serif\" font-size=\"14.00\">x2</text>\n",
       "<polyline fill=\"none\" stroke=\"black\" points=\"31.5,-55.5 31.5,-91.5\"/>\n",
       "<text text-anchor=\"middle\" x=\"68.5\" y=\"-69.8\" font-family=\"Times New Roman,serif\" font-size=\"14.00\">data 24.00</text>\n",
       "</g>\n",
       "<!-- 2184327628736* -->\n",
       "<g id=\"node15\" class=\"node\">\n",
       "<title>2184327628736*</title>\n",
       "<ellipse fill=\"none\" stroke=\"black\" cx=\"170\" cy=\"-73.5\" rx=\"27\" ry=\"18\"/>\n",
       "<text text-anchor=\"middle\" x=\"170\" y=\"-69.8\" font-family=\"Times New Roman,serif\" font-size=\"14.00\">*</text>\n",
       "</g>\n",
       "<!-- 2184327627488&#45;&gt;2184327628736* -->\n",
       "<g id=\"edge15\" class=\"edge\">\n",
       "<title>2184327627488&#45;&gt;2184327628736*</title>\n",
       "<path fill=\"none\" stroke=\"black\" d=\"M105.39,-73.5C114.26,-73.5 123.33,-73.5 131.75,-73.5\"/>\n",
       "<polygon fill=\"black\" stroke=\"black\" points=\"131.74,-77 141.74,-73.5 131.74,-70 131.74,-77\"/>\n",
       "</g>\n",
       "<!-- 2184327630176 -->\n",
       "<g id=\"node9\" class=\"node\">\n",
       "<title>2184327630176</title>\n",
       "<polygon fill=\"none\" stroke=\"black\" points=\"3,-0.5 3,-36.5 104,-36.5 104,-0.5 3,-0.5\"/>\n",
       "<text text-anchor=\"middle\" x=\"19.5\" y=\"-14.8\" font-family=\"Times New Roman,serif\" font-size=\"14.00\">w2</text>\n",
       "<polyline fill=\"none\" stroke=\"black\" points=\"36,-0.5 36,-36.5\"/>\n",
       "<text text-anchor=\"middle\" x=\"70\" y=\"-14.8\" font-family=\"Times New Roman,serif\" font-size=\"14.00\">data 5.00</text>\n",
       "</g>\n",
       "<!-- 2184327630176&#45;&gt;2184327628736* -->\n",
       "<g id=\"edge10\" class=\"edge\">\n",
       "<title>2184327630176&#45;&gt;2184327628736*</title>\n",
       "<path fill=\"none\" stroke=\"black\" d=\"M91.67,-36.36C106.49,-43.47 123.36,-51.58 137.56,-58.4\"/>\n",
       "<polygon fill=\"black\" stroke=\"black\" points=\"135.83,-61.93 146.36,-63.1 138.86,-55.62 135.83,-61.93\"/>\n",
       "</g>\n",
       "<!-- 2184327628688 -->\n",
       "<g id=\"node10\" class=\"node\">\n",
       "<title>2184327628688</title>\n",
       "<polygon fill=\"none\" stroke=\"black\" points=\"233,-110.5 233,-146.5 343,-146.5 343,-110.5 233,-110.5\"/>\n",
       "<text text-anchor=\"middle\" x=\"247.5\" y=\"-124.8\" font-family=\"Times New Roman,serif\" font-size=\"14.00\">s1</text>\n",
       "<polyline fill=\"none\" stroke=\"black\" points=\"262,-110.5 262,-146.5\"/>\n",
       "<text text-anchor=\"middle\" x=\"302.5\" y=\"-124.8\" font-family=\"Times New Roman,serif\" font-size=\"14.00\">data 600.00</text>\n",
       "</g>\n",
       "<!-- 2184327628688&#45;&gt;2184327628928+ -->\n",
       "<g id=\"edge14\" class=\"edge\">\n",
       "<title>2184327628688&#45;&gt;2184327628928+</title>\n",
       "<path fill=\"none\" stroke=\"black\" d=\"M342.92,-115.48C351.98,-113.3 361.16,-111.08 369.59,-109.05\"/>\n",
       "<polygon fill=\"black\" stroke=\"black\" points=\"370.26,-112.24 379.16,-106.5 368.62,-105.44 370.26,-112.24\"/>\n",
       "</g>\n",
       "<!-- 2184327628688*&#45;&gt;2184327628688 -->\n",
       "<g id=\"edge3\" class=\"edge\">\n",
       "<title>2184327628688*&#45;&gt;2184327628688</title>\n",
       "<path fill=\"none\" stroke=\"black\" d=\"M197.32,-128.5C204.93,-128.5 213.58,-128.5 222.44,-128.5\"/>\n",
       "<polygon fill=\"black\" stroke=\"black\" points=\"222.29,-132 232.29,-128.5 222.29,-125 222.29,-132\"/>\n",
       "</g>\n",
       "<!-- 2184327628208 -->\n",
       "<g id=\"node12\" class=\"node\">\n",
       "<title>2184327628208</title>\n",
       "<polygon fill=\"none\" stroke=\"black\" points=\"929,-136.5 929,-172.5 1040,-172.5 1040,-136.5 929,-136.5\"/>\n",
       "<text text-anchor=\"middle\" x=\"940.5\" y=\"-150.8\" font-family=\"Times New Roman,serif\" font-size=\"14.00\">y</text>\n",
       "<polyline fill=\"none\" stroke=\"black\" points=\"952,-136.5 952,-172.5\"/>\n",
       "<text text-anchor=\"middle\" x=\"996\" y=\"-150.8\" font-family=\"Times New Roman,serif\" font-size=\"14.00\">data 1454.00</text>\n",
       "</g>\n",
       "<!-- 2184327628208*&#45;&gt;2184327628208 -->\n",
       "<g id=\"edge4\" class=\"edge\">\n",
       "<title>2184327628208*&#45;&gt;2184327628208</title>\n",
       "<path fill=\"none\" stroke=\"black\" d=\"M893.44,-154.5C900.98,-154.5 909.54,-154.5 918.32,-154.5\"/>\n",
       "<polygon fill=\"black\" stroke=\"black\" points=\"918.08,-158 928.08,-154.5 918.08,-151 918.08,-158\"/>\n",
       "</g>\n",
       "<!-- 2184327628736 -->\n",
       "<g id=\"node14\" class=\"node\">\n",
       "<title>2184327628736</title>\n",
       "<polygon fill=\"none\" stroke=\"black\" points=\"233,-55.5 233,-91.5 343,-91.5 343,-55.5 233,-55.5\"/>\n",
       "<text text-anchor=\"middle\" x=\"247.5\" y=\"-69.8\" font-family=\"Times New Roman,serif\" font-size=\"14.00\">s2</text>\n",
       "<polyline fill=\"none\" stroke=\"black\" points=\"262,-55.5 262,-91.5\"/>\n",
       "<text text-anchor=\"middle\" x=\"302.5\" y=\"-69.8\" font-family=\"Times New Roman,serif\" font-size=\"14.00\">data 120.00</text>\n",
       "</g>\n",
       "<!-- 2184327628736&#45;&gt;2184327628928+ -->\n",
       "<g id=\"edge9\" class=\"edge\">\n",
       "<title>2184327628736&#45;&gt;2184327628928+</title>\n",
       "<path fill=\"none\" stroke=\"black\" d=\"M342.92,-86.05C351.98,-88.16 361.16,-90.3 369.59,-92.26\"/>\n",
       "<polygon fill=\"black\" stroke=\"black\" points=\"368.63,-95.86 379.16,-94.72 370.21,-89.04 368.63,-95.86\"/>\n",
       "</g>\n",
       "<!-- 2184327628736*&#45;&gt;2184327628736 -->\n",
       "<g id=\"edge5\" class=\"edge\">\n",
       "<title>2184327628736*&#45;&gt;2184327628736</title>\n",
       "<path fill=\"none\" stroke=\"black\" d=\"M197.32,-73.5C204.93,-73.5 213.58,-73.5 222.44,-73.5\"/>\n",
       "<polygon fill=\"black\" stroke=\"black\" points=\"222.29,-77 232.29,-73.5 222.29,-70 222.29,-77\"/>\n",
       "</g>\n",
       "<!-- 2184327630320 -->\n",
       "<g id=\"node16\" class=\"node\">\n",
       "<title>2184327630320</title>\n",
       "<polygon fill=\"none\" stroke=\"black\" points=\"1.5,-110.5 1.5,-146.5 105.5,-146.5 105.5,-110.5 1.5,-110.5\"/>\n",
       "<text text-anchor=\"middle\" x=\"16.5\" y=\"-124.8\" font-family=\"Times New Roman,serif\" font-size=\"14.00\">x1</text>\n",
       "<polyline fill=\"none\" stroke=\"black\" points=\"31.5,-110.5 31.5,-146.5\"/>\n",
       "<text text-anchor=\"middle\" x=\"68.5\" y=\"-124.8\" font-family=\"Times New Roman,serif\" font-size=\"14.00\">data 60.00</text>\n",
       "</g>\n",
       "<!-- 2184327630320&#45;&gt;2184327628688* -->\n",
       "<g id=\"edge13\" class=\"edge\">\n",
       "<title>2184327630320&#45;&gt;2184327628688*</title>\n",
       "<path fill=\"none\" stroke=\"black\" d=\"M105.39,-128.5C114.26,-128.5 123.33,-128.5 131.75,-128.5\"/>\n",
       "<polygon fill=\"black\" stroke=\"black\" points=\"131.74,-132 141.74,-128.5 131.74,-125 131.74,-132\"/>\n",
       "</g>\n",
       "</g>\n",
       "</svg>\n"
      ],
      "text/plain": [
       "<graphviz.graphs.Digraph at 0x1fc941ef310>"
      ]
     },
     "execution_count": 16,
     "metadata": {},
     "output_type": "execute_result"
    }
   ],
   "source": [
    "x1 = Valor(60, rotulo='x1')\n",
    "x2 = Valor(24, rotulo='x2')\n",
    "w1 = Valor(10, rotulo='w1')\n",
    "w2 = Valor(5, rotulo='w2')\n",
    "w3 = Valor(2, rotulo='w3')\n",
    "b = Valor(7, rotulo='b')\n",
    "\n",
    "s1 = x1 * w1\n",
    "s2 = x2 * w2\n",
    "n = s1 + s2\n",
    "k = n + b\n",
    "y = k * w3\n",
    "\n",
    "s1.rotulo = 's1'\n",
    "s2.rotulo = 's2'\n",
    "n.rotulo = 'n'\n",
    "k.rotulo = 'k'\n",
    "y.rotulo = 'y'\n",
    "\n",
    "plota_grafo(y)"
   ]
  },
  {
   "cell_type": "markdown",
   "metadata": {},
   "source": [
    "## Conclusão\n",
    "\n",
    "Neste notebook tinhamos o objetivos de criar um código e uma classe capaz de auxiliar na construção de um grafo a partir de operações simples, mostrando e utilizando a utilidade de classes para resolução de problemas e estruturação de dados. Começamos o com implementações simples de operações de mais e vezes (+ e \\*) e fomos aprimorando de pouco em pouco, adicionando os nódulos (vértices) progenitores de cada operação e consequentemente de cada novo nódulo. Após isso adicionamos as labels (rótulos) de cada nódulo e utilizamos um código já feito para plotar nosso grafo.\n",
    "\n",
    "Com este notebook pudemos observar a vantagem de se utilizar classes, ja que podemos instanciar novos objetos de maneira rápida e sucinta, além de ser possível a adição de links entre as instâncias dessa classe, se tornando fácil a implementação de códigos onde isto é necessário."
   ]
  },
  {
   "cell_type": "markdown",
   "metadata": {},
   "source": [
    "## Playground\n",
    "\n"
   ]
  },
  {
   "cell_type": "code",
   "execution_count": null,
   "metadata": {},
   "outputs": [],
   "source": []
  }
 ],
 "metadata": {
  "kernelspec": {
   "display_name": "ilumpy",
   "language": "python",
   "name": "ilumpy"
  },
  "language_info": {
   "codemirror_mode": {
    "name": "ipython",
    "version": 3
   },
   "file_extension": ".py",
   "mimetype": "text/x-python",
   "name": "python",
   "nbconvert_exporter": "python",
   "pygments_lexer": "ipython3",
   "version": "3.9.7"
  },
  "org": null
 },
 "nbformat": 4,
 "nbformat_minor": 4
}
